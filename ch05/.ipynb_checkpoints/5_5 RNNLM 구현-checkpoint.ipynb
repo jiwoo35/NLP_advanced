{
 "cells": [
  {
   "cell_type": "markdown",
   "metadata": {},
   "source": [
    "### RNNLM 구현"
   ]
  },
  {
   "cell_type": "code",
   "execution_count": 6,
   "metadata": {},
   "outputs": [
    {
     "name": "stdout",
     "output_type": "stream",
     "text": [
      "(1, 3)\n",
      "[1]\n",
      "(1,)\n",
      "[0 1 2 3]\n",
      "[[0 1 2 3]]\n"
     ]
    }
   ],
   "source": [
    "import numpy as np\n",
    "\n",
    "xs = np.array([[1,2,3]])\n",
    "print(xs.shape)\n",
    "print(xs[:, 0])\n",
    "print(xs[:, 0].shape) # : 슬라이싱: 차원 유지, 0 인덱싱: 차원 사라짐\n",
    "\n",
    "W = np.arange(28).reshape(7,4)\n",
    "print(W[0])\n",
    "print(W[[0]])"
   ]
  },
  {
   "cell_type": "code",
   "execution_count": 7,
   "metadata": {},
   "outputs": [
    {
     "name": "stdout",
     "output_type": "stream",
     "text": [
      "[[1]\n",
      " [2]\n",
      " [3]]\n"
     ]
    }
   ],
   "source": [
    "a = np.array([1,2,3]) # (3, ) 1D\n",
    "a = a.reshape(-1,1) # 행->열 (1, 3) 2D\n",
    "print(a)"
   ]
  },
  {
   "cell_type": "code",
   "execution_count": 10,
   "metadata": {},
   "outputs": [
    {
     "name": "stdout",
     "output_type": "stream",
     "text": [
      "[[1]\n",
      " [2]\n",
      " [3]]\n"
     ]
    }
   ],
   "source": [
    "a = np.array([1,2,3]) # (3, ) 1D \n",
    "a = a[:, np.newaxis] # 행->열 (3, 1) \n",
    "print(a)"
   ]
  },
  {
   "cell_type": "code",
   "execution_count": 11,
   "metadata": {},
   "outputs": [
    {
     "name": "stdout",
     "output_type": "stream",
     "text": [
      "[[1 2 3]]\n"
     ]
    }
   ],
   "source": [
    "a = np.array([1,2,3]) # (3, ) 1D\n",
    "a = a[np.newaxis, :] # (1, 3)\n",
    "print(a)"
   ]
  },
  {
   "cell_type": "code",
   "execution_count": 12,
   "metadata": {},
   "outputs": [
    {
     "data": {
      "text/plain": [
       "array([[3, 4],\n",
       "       [5, 6]])"
      ]
     },
     "execution_count": 12,
     "metadata": {},
     "output_type": "execute_result"
    }
   ],
   "source": [
    "a = np.array([[1,2],\n",
    "              [3,4]])\n",
    "# b = 3\n",
    "# b = np.array([2,2])\n",
    "b = np.array([[2],[2]])\n",
    "a+b   # (2,2) + (2,1) => (2,2) + (2,2)"
   ]
  },
  {
   "cell_type": "code",
   "execution_count": 13,
   "metadata": {},
   "outputs": [
    {
     "name": "stdout",
     "output_type": "stream",
     "text": [
      "[1. 1. 1.]\n",
      "(3,)\n",
      "(3, 1)\n",
      "(3, 1)\n"
     ]
    },
    {
     "data": {
      "text/plain": [
       "array([[ 0.,  1.,  2.,  3.,  4.,  5.,  6.],\n",
       "       [ 7.,  8.,  9., 10., 11., 12., 13.],\n",
       "       [14., 15., 16., 17., 18., 19., 20.]])"
      ]
     },
     "execution_count": 13,
     "metadata": {},
     "output_type": "execute_result"
    }
   ],
   "source": [
    "import numpy as np\n",
    "\n",
    "dx = np.arange(21).reshape(3,7)\n",
    "mask = np.ones((3,))\n",
    "\n",
    "print(mask)\n",
    "print(mask.shape)\n",
    "print(mask.reshape(3,1).shape) # (3, 1)\n",
    "print(mask[:, np.newaxis].shape) # (3, 1)\n",
    "\n",
    "dx * mask[:, np.newaxis]  # (3,7)*(3,1) => (3,7)*(3,7)"
   ]
  },
  {
   "cell_type": "code",
   "execution_count": null,
   "metadata": {},
   "outputs": [],
   "source": [
    "import sys\n",
    "sys.path.append('..')\n",
    "import numpy as np\n",
    "from common.time_layers import *\n",
    "\n",
    "D=4\n",
    "H=3\n",
    "rnn_Wx = np.arange(D*H).reshape(D,H)\n",
    "rnn_Wh = np.arange(H*H).reshape(H,H)\n",
    "rnn_b = np.arange(H)\n",
    "\n",
    "rnn = RNN(rnn_Wx, rnn_Wh, rnn_b)\n",
    "print(rnn.params[0])\n",
    "print(rnn.params[1])\n",
    "print(rnn.params[2])"
   ]
  },
  {
   "cell_type": "code",
   "execution_count": 21,
   "metadata": {},
   "outputs": [
    {
     "name": "stdout",
     "output_type": "stream",
     "text": [
      "<class 'tuple'>\n",
      "<class 'tuple'>\n",
      "<class 'int'>\n",
      "1 2\n",
      "1 2\n",
      "(3, 4)\n",
      "[[ 0  1  2  3]\n",
      " [ 4  5  6  7]\n",
      " [ 8  9 10 11]]\n",
      "[[0.78614988 0.97271454 0.60663511 0.92831821]\n",
      " [0.07636233 0.88491937 0.51586158 0.19333936]\n",
      " [0.38236876 0.430388   0.55627979 0.38926751]]\n"
     ]
    }
   ],
   "source": [
    "a = (1,2)\n",
    "print(type(a))\n",
    "\n",
    "# 튜플 패킹\n",
    "b = 1,2\n",
    "print(type(b))\n",
    "\n",
    "# 튜플 언패킹\n",
    "a,b = (1,2)\n",
    "print(type(a))\n",
    "\n",
    "# 함수 리턴값 튜플 패킹\n",
    "def foo():\n",
    "    return 1,2\n",
    "\n",
    "# 함수 리턴값 튜플 언패킹\n",
    "a,b = foo()\n",
    "print(a,b)\n",
    "\n",
    "\n",
    "def foo(a,b):\n",
    "    print(a,b)\n",
    "\n",
    "#foo((1, 2)) # 인자가 2개가 아니라 에러 (1, 2)를 a에만 배정\n",
    "foo(*(1,2)) # 명시적인 튜플 언패킹\n",
    "\n",
    "\n",
    "a = np.arange(3*4).reshape(3,4)\n",
    "print(a.shape)\n",
    "b = np.random.rand(*a.shape) # 명시적인 튜플 언패킹\n",
    "print(a)\n",
    "print(b)"
   ]
  },
  {
   "cell_type": "code",
   "execution_count": 22,
   "metadata": {},
   "outputs": [
    {
     "name": "stdout",
     "output_type": "stream",
     "text": [
      "__init__() <__main__.AAA object at 0x7fbe002f8a00>\n",
      "<__main__.AAA object at 0x7fbe002f8a00>\n",
      "10\n"
     ]
    }
   ],
   "source": [
    "class AAA:\n",
    "    def __init__(self):\n",
    "        self.x = 10 # 객체인스턴스 변수 (유지)\n",
    "        y = 20  # local 변수 \n",
    "        print('__init__()', self)\n",
    "        \n",
    "    def foo(self):\n",
    "        print(self.x)\n",
    "#         print(y)\n",
    "        \n",
    "a = AAA() # 생성자 출력\n",
    "print(a)  # 같은 번지\n",
    "a.foo()   # 멤버변수 출력"
   ]
  },
  {
   "cell_type": "code",
   "execution_count": 15,
   "metadata": {},
   "outputs": [
    {
     "name": "stdout",
     "output_type": "stream",
     "text": [
      "[[0.13499179 0.17608371 0.20704865 0.19020991 0.17460216 0.02155326\n",
      "  0.09551051]\n",
      " [0.08481693 0.0220814  0.21444196 0.02162894 0.14807165 0.10660086\n",
      "  0.40235826]\n",
      " [0.14473547 0.12620908 0.04455147 0.15462428 0.37082031 0.03210772\n",
      "  0.12695167]]\n",
      "[1. 1. 1.]\n",
      "[0.17608371 0.21444196 0.15462428]\n",
      "[-1.73679576 -1.53971615 -1.86675712]\n",
      "5.143269039315584\n",
      "1.7144230131051945\n"
     ]
    }
   ],
   "source": [
    "def softmax(x):\n",
    "    if x.ndim == 2:\n",
    "        x = x - x.max(axis=1, keepdims=True)\n",
    "        x = np.exp(x)\n",
    "        x /= x.sum(axis=1, keepdims=True)\n",
    "        \n",
    "    elif x.ndim == 1:\n",
    "        x = x - np.max(x)\n",
    "        x = np.exp(x) / np.sum(np.exp(x))\n",
    "\n",
    "    return x\n",
    "\n",
    "xs = np.random.randn(3,7)\n",
    "ts = np.array([1,2,3]) # 정답\n",
    "ys = softmax(xs)\n",
    "print(ys)\n",
    "print(np.sum(ys, axis=1))\n",
    "\n",
    "print(ys[np.arange(1 * 3), ts]) # 정답자리만 추출\n",
    "ls = np.log(ys[np.arange(1 * 3), ts])\n",
    "print(ls)   # loss\n",
    "loss = -np.sum(ls)\n",
    "print(loss) # total loss\n",
    "loss /= 3\n",
    "print(loss) # avg. loss"
   ]
  },
  {
   "cell_type": "code",
   "execution_count": 17,
   "metadata": {},
   "outputs": [
    {
     "name": "stdout",
     "output_type": "stream",
     "text": [
      "[1 1 1]\n",
      "(3,)\n",
      "(3, 1)\n",
      "(3, 1)\n",
      "[[1]\n",
      " [1]\n",
      " [1]]\n"
     ]
    }
   ],
   "source": [
    "mask = np.array([1,1,1])\n",
    "print(mask)\n",
    "print(mask.shape) # (3, ) 1D \n",
    "print(mask.reshape(-1,1).shape) # (3, 1) 2D\n",
    "print(mask[:, np.newaxis].shape) # (3, 1) 2D 축 추가\n",
    "print(mask[:, np.newaxis])"
   ]
  },
  {
   "cell_type": "code",
   "execution_count": 18,
   "metadata": {},
   "outputs": [
    {
     "name": "stdout",
     "output_type": "stream",
     "text": [
      "[[ 0  1  2  3  4  5  6]\n",
      " [ 7  8  9 10 11 12 13]\n",
      " [14 15 16 17 18 19 20]]\n",
      "[[ 0  0  0  0  0  0  0]\n",
      " [ 7  8  9 10 11 12 13]\n",
      " [ 0  0  0  0  0  0  0]]\n"
     ]
    }
   ],
   "source": [
    "dx = np.arange(21).reshape(3,7)\n",
    "print(dx)\n",
    "\n",
    "mask = np.array([0,1,0])  # 0, 1로 mask 처리\n",
    "dx *= mask[:, np.newaxis] # (3,7)*(3,1) => (3,7)\n",
    "print(dx)"
   ]
  },
  {
   "cell_type": "code",
   "execution_count": 19,
   "metadata": {},
   "outputs": [
    {
     "name": "stdout",
     "output_type": "stream",
     "text": [
      "2\n",
      "1\n",
      "0\n"
     ]
    }
   ],
   "source": [
    "# reversed(): python 전역함수\n",
    "for i in reversed(range(3)):\n",
    "    print(i)"
   ]
  },
  {
   "cell_type": "code",
   "execution_count": 1,
   "metadata": {},
   "outputs": [],
   "source": [
    "import sys\n",
    "sys.path.append('..')\n",
    "import numpy as np\n",
    "from common.time_layers import *\n",
    "\n",
    "class SimpleRnnlm:\n",
    "    def __init__(self, vocab_size, wordvec_size, hidden_size):\n",
    "        V, D, H = vocab_size, wordvec_size, hidden_size\n",
    "        rn = np.random.randn\n",
    "\n",
    "        # 가중치 초기화 (Xavier)\n",
    "        embed_W = (rn(V, D) / 100).astype('f')\n",
    "        rnn_Wx = (rn(D, H) / np.sqrt(D)).astype('f')\n",
    "        rnn_Wh = (rn(H, H) / np.sqrt(H)).astype('f')\n",
    "        rnn_b = np.zeros(H).astype('f')\n",
    "        affine_W = (rn(H, V) / np.sqrt(H)).astype('f')\n",
    "        affine_b = np.zeros(V).astype('f')\n",
    "\n",
    "        # 계층 생성\n",
    "        self.layers = [\n",
    "            TimeEmbedding(embed_W),\n",
    "            TimeRNN(rnn_Wx, rnn_Wh, rnn_b, stateful=True),\n",
    "            TimeAffine(affine_W, affine_b)\n",
    "        ]\n",
    "        self.loss_layer = TimeSoftmaxWithLoss()\n",
    "        self.rnn_layer = self.layers[1]\n",
    "\n",
    "        # 모든 가중치와 기울기를 리스트에 모은다.\n",
    "        self.params, self.grads = [], []\n",
    "        for layer in self.layers:\n",
    "            self.params += layer.params\n",
    "            self.grads += layer.grads\n",
    "\n",
    "    def forward(self, xs, ts):\n",
    "        for layer in self.layers:\n",
    "            xs = layer.forward(xs)\n",
    "        loss = self.loss_layer.forward(xs, ts)\n",
    "        return loss\n",
    "\n",
    "    def backward(self, dout=1):\n",
    "        dout = self.loss_layer.backward(dout)\n",
    "        for layer in reversed(self.layers):\n",
    "            dout = layer.backward(dout)\n",
    "        return dout\n",
    "\n",
    "    def reset_state(self):\n",
    "        self.rnn_layer.reset_state()"
   ]
  },
  {
   "cell_type": "markdown",
   "metadata": {},
   "source": [
    "### RNNLM의 학습 코드"
   ]
  },
  {
   "cell_type": "code",
   "execution_count": 23,
   "metadata": {},
   "outputs": [
    {
     "name": "stdout",
     "output_type": "stream",
     "text": [
      "(929589,)\n",
      "[ 0  1  2  3  4  5  6  7  8  9 10 11 12 13 14 15 16 17 18 19 20 21 22 23\n",
      " 24 25 26 27 28 29 30 31 32 33 34 35 36 37 38 27 24 39 26 40 41 42 26 43\n",
      " 32 44 45 46 24 47 26 27 28 29 48 49 41 42 50 51 52 53 54 55 35 36 37 42\n",
      " 56 57 58 59 24 35 60 42 61 62 63 64 65 66 67 68 69 70 35 71 72 42 73 74\n",
      " 75 35 46 42]\n",
      "<class 'dict'>\n",
      "10000\n",
      "<unk>\n",
      "aer banknote berlitz calloway centrust cluett fromstein gitano guterman hydro-quebec ipo kia memotec mlx nahb punts rake regatta rubens sim snack-food ssangyong swapo wachter <eos> pierre <unk> N years old will join the board as a nonexecutive director nov. N <eos> mr. <unk> is chairman of <unk> n.v. the dutch publishing group <eos> rudolph <unk> N years old and former chairman of consolidated gold fields plc was named a nonexecutive director of this british industrial conglomerate <eos> a form of asbestos once used to make kent cigarette filters has caused a high percentage of cancer deaths among a group of \n",
      "4\n",
      "말뭉치 크기: 929589, 어휘 수: 10000\n",
      "10000\n"
     ]
    }
   ],
   "source": [
    "import sys\n",
    "sys.path.append('..')\n",
    "import matplotlib.pyplot as plt\n",
    "import numpy as np\n",
    "from common.optimizer import SGD\n",
    "from dataset import ptb\n",
    "from simple_rnnlm import SimpleRnnlm\n",
    "\n",
    "corpus, word_to_id, id_to_word = ptb.load_data('train')\n",
    "print(corpus.shape) # 약 90만\n",
    "print(corpus[:100]) # 100개만 보자\n",
    "print(type(word_to_id)) # dict\n",
    "print(len(word_to_id))\n",
    "print(id_to_word[26])\n",
    "\n",
    "# Decoding\n",
    "for i in range(100):\n",
    "    print(id_to_word[corpus[i]], end=' ')\n",
    "print()\n",
    "\n",
    "print(word_to_id['centrust'])\n",
    "\n",
    "vocab_size = int(max(corpus) + 1)\n",
    "print('말뭉치 크기: %d, 어휘 수: %d' % (len(corpus), vocab_size))\n",
    "print(len(word_to_id))"
   ]
  },
  {
   "cell_type": "code",
   "execution_count": 24,
   "metadata": {},
   "outputs": [
    {
     "name": "stdout",
     "output_type": "stream",
     "text": [
      "말뭉치 크기: 1000, 어휘 수: 418\n",
      "| 에폭 1 | 퍼플렉서티 392.39\n",
      "| 에폭 2 | 퍼플렉서티 265.44\n",
      "| 에폭 3 | 퍼플렉서티 227.16\n",
      "| 에폭 4 | 퍼플렉서티 218.09\n",
      "| 에폭 5 | 퍼플렉서티 207.56\n",
      "| 에폭 6 | 퍼플렉서티 203.37\n",
      "| 에폭 7 | 퍼플렉서티 199.39\n",
      "| 에폭 8 | 퍼플렉서티 197.13\n",
      "| 에폭 9 | 퍼플렉서티 192.05\n",
      "| 에폭 10 | 퍼플렉서티 192.55\n",
      "| 에폭 11 | 퍼플렉서티 188.84\n",
      "| 에폭 12 | 퍼플렉서티 193.45\n",
      "| 에폭 13 | 퍼플렉서티 191.04\n",
      "| 에폭 14 | 퍼플렉서티 191.26\n",
      "| 에폭 15 | 퍼플렉서티 190.65\n",
      "| 에폭 16 | 퍼플렉서티 187.30\n",
      "| 에폭 17 | 퍼플렉서티 185.18\n",
      "| 에폭 18 | 퍼플렉서티 181.70\n",
      "| 에폭 19 | 퍼플렉서티 183.03\n",
      "| 에폭 20 | 퍼플렉서티 183.58\n",
      "| 에폭 21 | 퍼플렉서티 182.15\n",
      "| 에폭 22 | 퍼플렉서티 179.32\n",
      "| 에폭 23 | 퍼플렉서티 176.28\n",
      "| 에폭 24 | 퍼플렉서티 178.11\n",
      "| 에폭 25 | 퍼플렉서티 174.27\n",
      "| 에폭 26 | 퍼플렉서티 178.34\n",
      "| 에폭 27 | 퍼플렉서티 172.03\n",
      "| 에폭 28 | 퍼플렉서티 169.32\n",
      "| 에폭 29 | 퍼플렉서티 167.23\n",
      "| 에폭 30 | 퍼플렉서티 164.12\n",
      "| 에폭 31 | 퍼플렉서티 162.84\n",
      "| 에폭 32 | 퍼플렉서티 160.70\n",
      "| 에폭 33 | 퍼플렉서티 160.77\n",
      "| 에폭 34 | 퍼플렉서티 155.68\n",
      "| 에폭 35 | 퍼플렉서티 156.07\n",
      "| 에폭 36 | 퍼플렉서티 149.56\n",
      "| 에폭 37 | 퍼플렉서티 145.76\n",
      "| 에폭 38 | 퍼플렉서티 141.70\n",
      "| 에폭 39 | 퍼플렉서티 138.18\n",
      "| 에폭 40 | 퍼플렉서티 132.67\n",
      "| 에폭 41 | 퍼플렉서티 134.63\n",
      "| 에폭 42 | 퍼플렉서티 126.86\n",
      "| 에폭 43 | 퍼플렉서티 120.91\n",
      "| 에폭 44 | 퍼플렉서티 116.82\n",
      "| 에폭 45 | 퍼플렉서티 115.28\n",
      "| 에폭 46 | 퍼플렉서티 111.17\n",
      "| 에폭 47 | 퍼플렉서티 106.52\n",
      "| 에폭 48 | 퍼플렉서티 100.04\n",
      "| 에폭 49 | 퍼플렉서티 98.09\n",
      "| 에폭 50 | 퍼플렉서티 95.32\n",
      "| 에폭 51 | 퍼플렉서티 90.08\n",
      "| 에폭 52 | 퍼플렉서티 86.46\n",
      "| 에폭 53 | 퍼플렉서티 80.09\n",
      "| 에폭 54 | 퍼플렉서티 79.28\n",
      "| 에폭 55 | 퍼플렉서티 75.63\n",
      "| 에폭 56 | 퍼플렉서티 70.42\n",
      "| 에폭 57 | 퍼플렉서티 66.89\n",
      "| 에폭 58 | 퍼플렉서티 63.47\n",
      "| 에폭 59 | 퍼플렉서티 59.47\n",
      "| 에폭 60 | 퍼플렉서티 56.53\n",
      "| 에폭 61 | 퍼플렉서티 53.77\n",
      "| 에폭 62 | 퍼플렉서티 50.83\n",
      "| 에폭 63 | 퍼플렉서티 47.19\n",
      "| 에폭 64 | 퍼플렉서티 45.53\n",
      "| 에폭 65 | 퍼플렉서티 43.24\n",
      "| 에폭 66 | 퍼플렉서티 39.36\n",
      "| 에폭 67 | 퍼플렉서티 38.56\n",
      "| 에폭 68 | 퍼플렉서티 34.94\n",
      "| 에폭 69 | 퍼플렉서티 33.70\n",
      "| 에폭 70 | 퍼플렉서티 32.41\n",
      "| 에폭 71 | 퍼플렉서티 29.93\n",
      "| 에폭 72 | 퍼플렉서티 28.14\n",
      "| 에폭 73 | 퍼플렉서티 26.59\n",
      "| 에폭 74 | 퍼플렉서티 25.17\n",
      "| 에폭 75 | 퍼플렉서티 24.33\n",
      "| 에폭 76 | 퍼플렉서티 21.64\n",
      "| 에폭 77 | 퍼플렉서티 20.43\n",
      "| 에폭 78 | 퍼플렉서티 20.12\n",
      "| 에폭 79 | 퍼플렉서티 18.37\n",
      "| 에폭 80 | 퍼플렉서티 17.43\n",
      "| 에폭 81 | 퍼플렉서티 16.73\n",
      "| 에폭 82 | 퍼플렉서티 16.20\n",
      "| 에폭 83 | 퍼플렉서티 14.57\n",
      "| 에폭 84 | 퍼플렉서티 14.02\n",
      "| 에폭 85 | 퍼플렉서티 13.05\n",
      "| 에폭 86 | 퍼플렉서티 12.42\n",
      "| 에폭 87 | 퍼플렉서티 11.82\n",
      "| 에폭 88 | 퍼플렉서티 10.95\n",
      "| 에폭 89 | 퍼플렉서티 10.18\n",
      "| 에폭 90 | 퍼플렉서티 9.78\n",
      "| 에폭 91 | 퍼플렉서티 9.40\n",
      "| 에폭 92 | 퍼플렉서티 9.21\n",
      "| 에폭 93 | 퍼플렉서티 8.58\n",
      "| 에폭 94 | 퍼플렉서티 7.90\n",
      "| 에폭 95 | 퍼플렉서티 7.70\n",
      "| 에폭 96 | 퍼플렉서티 7.35\n",
      "| 에폭 97 | 퍼플렉서티 7.06\n",
      "| 에폭 98 | 퍼플렉서티 6.48\n",
      "| 에폭 99 | 퍼플렉서티 6.34\n",
      "| 에폭 100 | 퍼플렉서티 5.89\n"
     ]
    },
    {
     "data": {
      "image/png": "[encoded data removed]",
      "text/plain": [
       "<Figure size 432x288 with 1 Axes>"
      ]
     },
     "metadata": {
      "needs_background": "light"
     },
     "output_type": "display_data"
    }
   ],
   "source": [
    "import sys\n",
    "sys.path.append('..')\n",
    "import matplotlib.pyplot as plt\n",
    "import numpy as np\n",
    "from common.optimizer import SGD\n",
    "from dataset import ptb\n",
    "from simple_rnnlm import SimpleRnnlm\n",
    "\n",
    "\n",
    "# 1. (N,T) 로 입력\n",
    "# 2. (N,T) => (N,T,D)  임베딩층 통과 시\n",
    "# 3. (N,H)(H,H)+(N,D)(D,H)+(H,) => (N,H) => (N,T,H)  RNN 층 통과 시\n",
    "\n",
    "# 하이퍼파라미터 설정\n",
    "batch_size = 10\n",
    "wordvec_size = 100\n",
    "hidden_size = 100 # RNN의 은닉 상태 벡터의 원소 수\n",
    "time_size = 5     # Truncated BPTT가 한 번에 펼치는 시간 크기\n",
    "lr = 0.1\n",
    "max_epoch = 100\n",
    "\n",
    "# 학습 데이터 읽기(전체 중 1000개만)\n",
    "corpus, word_to_id, id_to_word = ptb.load_data('train')\n",
    "# print('말뭉치 크기: %d, 어휘 수: %d' % (corpus_size, vocab_size))\n",
    "corpus_size = 1000\n",
    "corpus = corpus[:corpus_size]\n",
    "vocab_size = int(max(corpus) + 1)\n",
    "# print(vocab_size)\n",
    "\n",
    "xs = corpus[:-1]  # 입력\n",
    "ts = corpus[1:]   # 출력(정답 레이블)\n",
    "data_size = len(xs)\n",
    "print('말뭉치 크기: %d, 어휘 수: %d' % (corpus_size, vocab_size))\n",
    "\n",
    "# 학습 시 사용하는 변수\n",
    "max_iters = data_size // (batch_size * time_size)\n",
    "time_idx = 0\n",
    "total_loss = 0\n",
    "loss_count = 0\n",
    "ppl_list = []\n",
    "\n",
    "# 모델 생성\n",
    "model = SimpleRnnlm(vocab_size, wordvec_size, hidden_size)\n",
    "optimizer = SGD(lr)\n",
    "\n",
    "# 미니배치의 각 샘플의 읽기 시작 위치를 계산\n",
    "jump = (corpus_size - 1) // batch_size # (8-1)/1 = 7\n",
    "offsets = [i * jump for i in range(batch_size)] # 0\n",
    "\n",
    "for epoch in range(max_epoch):\n",
    "    for iter in range(max_iters):\n",
    "        # 미니배치 취득 - (N, T)만큼 \n",
    "        batch_x = np.empty((batch_size, time_size), dtype='i')\n",
    "        batch_t = np.empty((batch_size, time_size), dtype='i')\n",
    "        \n",
    "        # time_size=3 -> t=0,1,2 slide blue 화살표\n",
    "        for t in range(time_size):\n",
    "            for i, offset in enumerate(offsets):\n",
    "                batch_x[i, t] = xs[(offset + time_idx) % data_size]\n",
    "                batch_t[i, t] = ts[(offset + time_idx) % data_size]\n",
    "            time_idx += 1 # slide red 화살표\n",
    "\n",
    "        # 기울기를 구하여 매개변수 갱신\n",
    "        loss = model.forward(batch_x, batch_t)\n",
    "        model.backward()\n",
    "        optimizer.update(model.params, model.grads)\n",
    "        total_loss += loss\n",
    "        loss_count += 1\n",
    "\n",
    "    # 에폭마다 퍼플렉서티 평가 (loss의 역수 출력하여 loss의 감소를 증폭해서 본다)\n",
    "    ppl = np.exp(total_loss / loss_count)\n",
    "    print('| 에폭 %d | 퍼플렉서티 %.2f'\n",
    "          % (epoch+1, ppl))\n",
    "    ppl_list.append(float(ppl))\n",
    "    total_loss, loss_count = 0, 0\n",
    "\n",
    "# 그래프 그리기\n",
    "x = np.arange(len(ppl_list))\n",
    "plt.plot(x, ppl_list, label='train')\n",
    "plt.xlabel('epochs')\n",
    "plt.ylabel('perplexity')\n",
    "plt.show()\n"
   ]
  },
  {
   "cell_type": "code",
   "execution_count": 25,
   "metadata": {},
   "outputs": [
    {
     "data": {
      "text/plain": [
       "array([ 1.5912386e-02,  7.4298922e-03, -1.0469139e-02,  8.4671667e-03,\n",
       "       -2.6336715e-02,  1.5459937e-02, -2.6751315e-02,  9.6999126e-04,\n",
       "       -7.5926697e-03,  1.1027997e-02, -6.1323848e-03,  1.0948344e-02,\n",
       "       -1.3313636e-02,  3.1052800e-02,  1.8665336e-02, -1.5715541e-02,\n",
       "       -2.3499228e-02, -1.2743368e-03, -2.4952369e-03, -7.0043742e-03,\n",
       "       -1.6906754e-03, -4.2419964e-03, -8.1973160e-03,  9.8079862e-03,\n",
       "       -1.3515252e-02, -6.0601998e-03, -5.8870129e-03,  7.0827492e-02,\n",
       "        9.6513079e-03, -4.1381627e-02,  2.8149867e-02, -3.9081275e-02,\n",
       "       -5.3067960e-02,  1.5420068e-02, -2.6050668e-02,  4.4270921e-02,\n",
       "        9.1732678e-04,  9.7896904e-03,  2.1219229e-02,  2.4371969e-02,\n",
       "       -5.3288139e-02, -8.3920583e-03, -2.0008259e-02, -1.6905993e-02,\n",
       "        3.9994802e-02, -6.5267817e-03,  2.6533916e-03, -2.5448805e-02,\n",
       "        7.3519363e-03, -9.4512096e-03, -4.7879931e-02,  1.2940221e-02,\n",
       "        1.1596083e-02, -1.2698943e-02,  2.1541860e-02,  7.6204119e-04,\n",
       "        7.8636932e-04,  1.8094193e-02,  2.5724122e-02, -2.9735568e-03,\n",
       "       -3.0693034e-02, -4.9999966e-03,  1.2480470e-03,  2.5260970e-02,\n",
       "        2.7809819e-02, -1.7551860e-02, -1.6782952e-02, -1.4630711e-04,\n",
       "        3.1768917e-03,  5.0758538e-03, -3.9049283e-02,  9.3299354e-04,\n",
       "        5.9501212e-03,  1.6534636e-02,  3.1612463e-02,  2.9589869e-02,\n",
       "        6.2159691e-03,  5.6808558e-03,  1.6239472e-02, -3.8723711e-02,\n",
       "       -1.8741217e-02,  2.4893539e-02,  1.4872900e-02, -5.9058476e-02,\n",
       "       -7.4275993e-03,  1.7817885e-02,  7.6416056e-03, -9.4707264e-03,\n",
       "        1.0030165e-02, -1.7418182e-03, -6.0511686e-02,  6.1663583e-02,\n",
       "       -3.9258618e-02, -2.6442658e-03,  2.2443797e-05, -6.2962319e-03,\n",
       "        2.6565185e-02,  5.2007679e-02, -1.8103503e-02,  1.6719950e-02],\n",
       "      dtype=float32)"
      ]
     },
     "execution_count": 25,
     "metadata": {},
     "output_type": "execute_result"
    }
   ],
   "source": [
    "# 학습 결과\n",
    "model.layers[0].W[1]"
   ]
  },
  {
   "cell_type": "markdown",
   "metadata": {},
   "source": [
    "### RNNLM의 Trainer 클래스\n",
    "\n",
    "- 위와 같은 결과"
   ]
  },
  {
   "cell_type": "code",
   "execution_count": 26,
   "metadata": {},
   "outputs": [
    {
     "name": "stdout",
     "output_type": "stream",
     "text": [
      "| 에폭 1 |  반복 1 / 19 | 시간 0[s] | 퍼플렉서티 417.43\n",
      "| 에폭 2 |  반복 1 / 19 | 시간 0[s] | 퍼플렉서티 391.30\n",
      "| 에폭 3 |  반복 1 / 19 | 시간 0[s] | 퍼플렉서티 275.85\n",
      "| 에폭 4 |  반복 1 / 19 | 시간 0[s] | 퍼플렉서티 227.90\n",
      "| 에폭 5 |  반복 1 / 19 | 시간 0[s] | 퍼플렉서티 212.64\n",
      "| 에폭 6 |  반복 1 / 19 | 시간 0[s] | 퍼플렉서티 211.43\n",
      "| 에폭 7 |  반복 1 / 19 | 시간 0[s] | 퍼플렉서티 201.83\n",
      "| 에폭 8 |  반복 1 / 19 | 시간 0[s] | 퍼플렉서티 201.64\n",
      "| 에폭 9 |  반복 1 / 19 | 시간 0[s] | 퍼플렉서티 195.74\n",
      "| 에폭 10 |  반복 1 / 19 | 시간 0[s] | 퍼플렉서티 191.62\n",
      "| 에폭 11 |  반복 1 / 19 | 시간 0[s] | 퍼플렉서티 192.93\n",
      "| 에폭 12 |  반복 1 / 19 | 시간 0[s] | 퍼플렉서티 190.04\n",
      "| 에폭 13 |  반복 1 / 19 | 시간 0[s] | 퍼플렉서티 191.93\n",
      "| 에폭 14 |  반복 1 / 19 | 시간 1[s] | 퍼플렉서티 186.70\n",
      "| 에폭 15 |  반복 1 / 19 | 시간 1[s] | 퍼플렉서티 185.65\n",
      "| 에폭 16 |  반복 1 / 19 | 시간 1[s] | 퍼플렉서티 189.77\n",
      "| 에폭 17 |  반복 1 / 19 | 시간 1[s] | 퍼플렉서티 188.06\n",
      "| 에폭 18 |  반복 1 / 19 | 시간 1[s] | 퍼플렉서티 183.58\n",
      "| 에폭 19 |  반복 1 / 19 | 시간 1[s] | 퍼플렉서티 179.67\n",
      "| 에폭 20 |  반복 1 / 19 | 시간 1[s] | 퍼플렉서티 179.95\n",
      "| 에폭 21 |  반복 1 / 19 | 시간 1[s] | 퍼플렉서티 177.53\n",
      "| 에폭 22 |  반복 1 / 19 | 시간 1[s] | 퍼플렉서티 175.51\n",
      "| 에폭 23 |  반복 1 / 19 | 시간 1[s] | 퍼플렉서티 176.62\n",
      "| 에폭 24 |  반복 1 / 19 | 시간 1[s] | 퍼플렉서티 173.67\n",
      "| 에폭 25 |  반복 1 / 19 | 시간 1[s] | 퍼플렉서티 166.78\n",
      "| 에폭 26 |  반복 1 / 19 | 시간 2[s] | 퍼플렉서티 167.50\n",
      "| 에폭 27 |  반복 1 / 19 | 시간 2[s] | 퍼플렉서티 164.91\n",
      "| 에폭 28 |  반복 1 / 19 | 시간 2[s] | 퍼플렉서티 164.50\n",
      "| 에폭 29 |  반복 1 / 19 | 시간 2[s] | 퍼플렉서티 156.06\n",
      "| 에폭 30 |  반복 1 / 19 | 시간 2[s] | 퍼플렉서티 152.38\n",
      "| 에폭 31 |  반복 1 / 19 | 시간 2[s] | 퍼플렉서티 149.56\n",
      "| 에폭 32 |  반복 1 / 19 | 시간 2[s] | 퍼플렉서티 143.49\n",
      "| 에폭 33 |  반복 1 / 19 | 시간 2[s] | 퍼플렉서티 142.59\n",
      "| 에폭 34 |  반복 1 / 19 | 시간 2[s] | 퍼플렉서티 139.35\n",
      "| 에폭 35 |  반복 1 / 19 | 시간 2[s] | 퍼플렉서티 132.90\n",
      "| 에폭 36 |  반복 1 / 19 | 시간 2[s] | 퍼플렉서티 128.11\n",
      "| 에폭 37 |  반복 1 / 19 | 시간 2[s] | 퍼플렉서티 129.02\n",
      "| 에폭 38 |  반복 1 / 19 | 시간 3[s] | 퍼플렉서티 119.47\n",
      "| 에폭 39 |  반복 1 / 19 | 시간 3[s] | 퍼플렉서티 115.35\n",
      "| 에폭 40 |  반복 1 / 19 | 시간 3[s] | 퍼플렉서티 109.92\n",
      "| 에폭 41 |  반복 1 / 19 | 시간 3[s] | 퍼플렉서티 105.05\n",
      "| 에폭 42 |  반복 1 / 19 | 시간 3[s] | 퍼플렉서티 103.81\n",
      "| 에폭 43 |  반복 1 / 19 | 시간 3[s] | 퍼플렉서티 98.17\n",
      "| 에폭 44 |  반복 1 / 19 | 시간 3[s] | 퍼플렉서티 94.49\n",
      "| 에폭 45 |  반복 1 / 19 | 시간 3[s] | 퍼플렉서티 87.23\n",
      "| 에폭 46 |  반복 1 / 19 | 시간 3[s] | 퍼플렉서티 84.42\n",
      "| 에폭 47 |  반복 1 / 19 | 시간 3[s] | 퍼플렉서티 82.53\n",
      "| 에폭 48 |  반복 1 / 19 | 시간 3[s] | 퍼플렉서티 78.15\n",
      "| 에폭 49 |  반복 1 / 19 | 시간 3[s] | 퍼플렉서티 73.44\n",
      "| 에폭 50 |  반복 1 / 19 | 시간 3[s] | 퍼플렉서티 68.07\n",
      "| 에폭 51 |  반복 1 / 19 | 시간 4[s] | 퍼플렉서티 66.34\n",
      "| 에폭 52 |  반복 1 / 19 | 시간 4[s] | 퍼플렉서티 61.92\n",
      "| 에폭 53 |  반복 1 / 19 | 시간 4[s] | 퍼플렉서티 59.85\n",
      "| 에폭 54 |  반복 1 / 19 | 시간 4[s] | 퍼플렉서티 56.43\n",
      "| 에폭 55 |  반복 1 / 19 | 시간 4[s] | 퍼플렉서티 54.36\n",
      "| 에폭 56 |  반복 1 / 19 | 시간 4[s] | 퍼플렉서티 51.13\n",
      "| 에폭 57 |  반복 1 / 19 | 시간 4[s] | 퍼플렉서티 50.44\n",
      "| 에폭 58 |  반복 1 / 19 | 시간 4[s] | 퍼플렉서티 45.11\n",
      "| 에폭 59 |  반복 1 / 19 | 시간 4[s] | 퍼플렉서티 42.12\n",
      "| 에폭 60 |  반복 1 / 19 | 시간 4[s] | 퍼플렉서티 40.01\n",
      "| 에폭 61 |  반복 1 / 19 | 시간 4[s] | 퍼플렉서티 37.68\n",
      "| 에폭 62 |  반복 1 / 19 | 시간 5[s] | 퍼플렉서티 36.82\n",
      "| 에폭 63 |  반복 1 / 19 | 시간 5[s] | 퍼플렉서티 34.77\n",
      "| 에폭 64 |  반복 1 / 19 | 시간 5[s] | 퍼플렉서티 32.13\n",
      "| 에폭 65 |  반복 1 / 19 | 시간 5[s] | 퍼플렉서티 29.67\n",
      "| 에폭 66 |  반복 1 / 19 | 시간 5[s] | 퍼플렉서티 28.84\n",
      "| 에폭 67 |  반복 1 / 19 | 시간 5[s] | 퍼플렉서티 27.21\n",
      "| 에폭 68 |  반복 1 / 19 | 시간 5[s] | 퍼플렉서티 25.56\n",
      "| 에폭 69 |  반복 1 / 19 | 시간 5[s] | 퍼플렉서티 23.94\n",
      "| 에폭 70 |  반복 1 / 19 | 시간 5[s] | 퍼플렉서티 22.69\n",
      "| 에폭 71 |  반복 1 / 19 | 시간 5[s] | 퍼플렉서티 21.39\n",
      "| 에폭 72 |  반복 1 / 19 | 시간 5[s] | 퍼플렉서티 20.08\n",
      "| 에폭 73 |  반복 1 / 19 | 시간 5[s] | 퍼플렉서티 18.67\n",
      "| 에폭 74 |  반복 1 / 19 | 시간 5[s] | 퍼플렉서티 17.66\n",
      "| 에폭 75 |  반복 1 / 19 | 시간 6[s] | 퍼플렉서티 17.08\n",
      "| 에폭 76 |  반복 1 / 19 | 시간 6[s] | 퍼플렉서티 16.43\n",
      "| 에폭 77 |  반복 1 / 19 | 시간 6[s] | 퍼플렉서티 15.74\n",
      "| 에폭 78 |  반복 1 / 19 | 시간 6[s] | 퍼플렉서티 14.54\n",
      "| 에폭 79 |  반복 1 / 19 | 시간 6[s] | 퍼플렉서티 13.42\n",
      "| 에폭 80 |  반복 1 / 19 | 시간 6[s] | 퍼플렉서티 12.80\n",
      "| 에폭 81 |  반복 1 / 19 | 시간 6[s] | 퍼플렉서티 11.95\n",
      "| 에폭 82 |  반복 1 / 19 | 시간 6[s] | 퍼플렉서티 11.16\n",
      "| 에폭 83 |  반복 1 / 19 | 시간 6[s] | 퍼플렉서티 11.00\n",
      "| 에폭 84 |  반복 1 / 19 | 시간 6[s] | 퍼플렉서티 10.59\n",
      "| 에폭 85 |  반복 1 / 19 | 시간 6[s] | 퍼플렉서티 9.97\n",
      "| 에폭 86 |  반복 1 / 19 | 시간 6[s] | 퍼플렉서티 9.55\n",
      "| 에폭 87 |  반복 1 / 19 | 시간 6[s] | 퍼플렉서티 9.24\n",
      "| 에폭 88 |  반복 1 / 19 | 시간 6[s] | 퍼플렉서티 8.26\n",
      "| 에폭 89 |  반복 1 / 19 | 시간 7[s] | 퍼플렉서티 8.40\n",
      "| 에폭 90 |  반복 1 / 19 | 시간 7[s] | 퍼플렉서티 7.92\n",
      "| 에폭 91 |  반복 1 / 19 | 시간 7[s] | 퍼플렉서티 8.00\n",
      "| 에폭 92 |  반복 1 / 19 | 시간 7[s] | 퍼플렉서티 7.15\n",
      "| 에폭 93 |  반복 1 / 19 | 시간 7[s] | 퍼플렉서티 6.96\n",
      "| 에폭 94 |  반복 1 / 19 | 시간 7[s] | 퍼플렉서티 7.01\n",
      "| 에폭 95 |  반복 1 / 19 | 시간 7[s] | 퍼플렉서티 6.37\n",
      "| 에폭 96 |  반복 1 / 19 | 시간 7[s] | 퍼플렉서티 6.09\n",
      "| 에폭 97 |  반복 1 / 19 | 시간 7[s] | 퍼플렉서티 5.76\n",
      "| 에폭 98 |  반복 1 / 19 | 시간 7[s] | 퍼플렉서티 5.78\n",
      "| 에폭 99 |  반복 1 / 19 | 시간 7[s] | 퍼플렉서티 5.58\n"
     ]
    },
    {
     "name": "stderr",
     "output_type": "stream",
     "text": [
      "findfont: Font family ['Malgun Gothic'] not found. Falling back to DejaVu Sans.\n"
     ]
    },
    {
     "name": "stdout",
     "output_type": "stream",
     "text": [
      "| 에폭 100 |  반복 1 / 19 | 시간 7[s] | 퍼플렉서티 5.03\n"
     ]
    },
    {
     "data": {
      "image/png": "[encoded data removed]",
      "text/plain": [
       "<Figure size 432x288 with 1 Axes>"
      ]
     },
     "metadata": {
      "needs_background": "light"
     },
     "output_type": "display_data"
    }
   ],
   "source": [
    "import sys\n",
    "sys.path.append('..')\n",
    "from common.optimizer import SGD\n",
    "from common.trainer import RnnlmTrainer\n",
    "from dataset import ptb\n",
    "from simple_rnnlm import SimpleRnnlm\n",
    "import matplotlib.pyplot as plt\n",
    "plt.rc('font', family='Malgun Gothic')\n",
    "\n",
    "# 하이퍼파라미터 설정\n",
    "batch_size = 10\n",
    "wordvec_size = 100\n",
    "hidden_size = 100  # RNN의 은닉 상태 벡터의 원소 수\n",
    "time_size = 5  # RNN을 펼치는 크기\n",
    "lr = 0.1\n",
    "max_epoch = 100\n",
    "\n",
    "# 학습 데이터 읽기\n",
    "corpus, word_to_id, id_to_word = ptb.load_data('train')\n",
    "corpus_size = 1000  # 테스트 데이터셋을 작게 설정\n",
    "corpus = corpus[:corpus_size]\n",
    "vocab_size = int(max(corpus) + 1)\n",
    "xs = corpus[:-1]  # 입력\n",
    "ts = corpus[1:]  # 출력（정답 레이블）\n",
    "\n",
    "# 모델 생성\n",
    "model = SimpleRnnlm(vocab_size, wordvec_size, hidden_size)\n",
    "optimizer = SGD(lr)\n",
    "trainer = RnnlmTrainer(model, optimizer)\n",
    "\n",
    "trainer.fit(xs, ts, max_epoch, batch_size, time_size)\n",
    "trainer.plot()\n"
   ]
  },
  {
   "cell_type": "code",
   "execution_count": 29,
   "metadata": {},
   "outputs": [
    {
     "name": "stdout",
     "output_type": "stream",
     "text": [
      "[[[ 0.  1.  2.  3.]\n",
      "  [ 0.  0.  0.  0.]\n",
      "  [ 0.  0.  0.  0.]]\n",
      "\n",
      " [[12. 13. 14. 15.]\n",
      "  [ 0.  0.  0.  0.]\n",
      "  [ 0.  0.  0.  0.]]]\n",
      "[[[ 0.  1.  2.  3.]\n",
      "  [ 4.  5.  6.  7.]\n",
      "  [ 0.  0.  0.  0.]]\n",
      "\n",
      " [[12. 13. 14. 15.]\n",
      "  [16. 17. 18. 19.]\n",
      "  [ 0.  0.  0.  0.]]]\n",
      "[[[ 0.  1.  2.  3.]\n",
      "  [ 4.  5.  6.  7.]\n",
      "  [ 8.  9. 10. 11.]]\n",
      "\n",
      " [[12. 13. 14. 15.]\n",
      "  [16. 17. 18. 19.]\n",
      "  [ 4.  5.  6.  7.]]]\n"
     ]
    }
   ],
   "source": [
    "import numpy as np\n",
    "\n",
    "out = np.zeros((2,3,4)) \n",
    "embed_W = np.arange(28).reshape(7,4)\n",
    "\n",
    "idx = [0,3]\n",
    "out[:,0,:] = embed_W[idx] # 0, 3행 추출해서 분산 배치\n",
    "print(out)\n",
    "idx = [1,4]\n",
    "out[:,1,:] = embed_W[idx]\n",
    "print(out)\n",
    "idx = [2,1]\n",
    "out[:,2,:] = embed_W[idx]\n",
    "print(out)"
   ]
  },
  {
   "cell_type": "code",
   "execution_count": 30,
   "metadata": {},
   "outputs": [
    {
     "name": "stdout",
     "output_type": "stream",
     "text": [
      "[[[ 0  1  2]\n",
      "  [ 3  4  5]\n",
      "  [ 6  7  8]]\n",
      "\n",
      " [[ 9 10 11]\n",
      "  [12 13 14]\n",
      "  [15 16 17]]]\n",
      "[[ 0  1  2]\n",
      " [ 3  4  5]\n",
      " [ 6  7  8]\n",
      " [ 9 10 11]\n",
      " [12 13 14]\n",
      " [15 16 17]]\n"
     ]
    }
   ],
   "source": [
    "import numpy as np\n",
    "\n",
    "xs = np.arange(18).reshape(2,3,3)\n",
    "print(xs)\n",
    "\n",
    "rx  = xs.reshape(2*3,-1)\n",
    "print(rx)"
   ]
  },
  {
   "cell_type": "code",
   "execution_count": null,
   "metadata": {},
   "outputs": [],
   "source": []
  }
 ],
 "metadata": {
  "kernelspec": {
   "display_name": "Python 3 (ipykernel)",
   "language": "python",
   "name": "python3"
  },
  "language_info": {
   "codemirror_mode": {
    "name": "ipython",
    "version": 3
   },
   "file_extension": ".py",
   "mimetype": "text/x-python",
   "name": "python",
   "nbconvert_exporter": "python",
   "pygments_lexer": "ipython3",
   "version": "3.9.12"
  }
 },
 "nbformat": 4,
 "nbformat_minor": 4
}
