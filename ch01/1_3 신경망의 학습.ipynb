{
 "cells": [
  {
   "cell_type": "markdown",
   "metadata": {},
   "source": [
    "# 신경망의 학습"
   ]
  },
  {
   "cell_type": "markdown",
   "metadata": {},
   "source": [
    "### 크로스 엔트로피 그래프"
   ]
  },
  {
   "cell_type": "code",
   "execution_count": 1,
   "metadata": {},
   "outputs": [
    {
     "name": "stderr",
     "output_type": "stream",
     "text": [
      "/var/folders/4t/yc68w62n71dgjrxxnrp39whm0000gp/T/ipykernel_91764/270432144.py:5: RuntimeWarning: divide by zero encountered in log\n",
      "  y = -np.log(x)\n"
     ]
    },
    {
     "data": {
      "image/png": "[encoded data removed]",
      "text/plain": [
       "<Figure size 432x288 with 1 Axes>"
      ]
     },
     "metadata": {
      "needs_background": "light"
     },
     "output_type": "display_data"
    }
   ],
   "source": [
    "import matplotlib.pyplot as plt\n",
    "import numpy as np\n",
    "\n",
    "x = np.arange(0, 1, 0.01)\n",
    "y = -np.log(x)\n",
    "\n",
    "plt.plot(x, y)\n",
    "plt.xlabel('x')\n",
    "plt.ylabel('log_x')\n",
    "plt.show()"
   ]
  },
  {
   "cell_type": "markdown",
   "metadata": {},
   "source": [
    "## Repeat 노드"
   ]
  },
  {
   "cell_type": "code",
   "execution_count": 2,
   "metadata": {},
   "outputs": [
    {
     "name": "stdout",
     "output_type": "stream",
     "text": [
      "(1, 8)\n",
      "-----------------------\n",
      "(7, 8)\n",
      "-----------------------\n",
      "(7, 8)\n",
      "-----------------------\n",
      "(1, 8)\n"
     ]
    },
    {
     "data": {
      "text/plain": [
       "array([[3.59835544, 2.48544279, 3.21049798, 3.74860632, 3.20770504,\n",
       "        3.64707206, 4.18298523, 2.26149677]])"
      ]
     },
     "execution_count": 2,
     "metadata": {},
     "output_type": "execute_result"
    }
   ],
   "source": [
    "import numpy as np\n",
    "\n",
    "# forward (N번 반복)\n",
    "D, N = 8, 7\n",
    "x = np.random.rand(1, D)\n",
    "print(x.shape)\n",
    "\n",
    "y = np.repeat(x, N, axis=0) # 행으로 N번 반복\n",
    "print(y.shape)\n",
    "print(\"-----------------------\")\n",
    "\n",
    "# backward - 리피트 노드의 미분은 합(sum)이다\n",
    "dy = np.random.rand(N, D)\n",
    "print(dy.shape)\n",
    "\n",
    "dx = np.sum(dy, axis=0, keepdims=True) # 행으로 더하되, 형상 유지\n",
    "print(dx.shape)\n",
    "dx"
   ]
  },
  {
   "cell_type": "code",
   "execution_count": 3,
   "metadata": {},
   "outputs": [
    {
     "name": "stdout",
     "output_type": "stream",
     "text": [
      "(8,)\n",
      "(7, 8)\n",
      "-----------------------\n",
      "(7, 8)\n",
      "(8,)\n"
     ]
    },
    {
     "data": {
      "text/plain": [
       "array([4.80410957, 4.16310583, 3.29939893, 2.55069411, 3.40226452,\n",
       "       2.03419861, 3.92796509, 3.49622277])"
      ]
     },
     "execution_count": 3,
     "metadata": {},
     "output_type": "execute_result"
    }
   ],
   "source": [
    "import numpy as np\n",
    "\n",
    "# forward\n",
    "D, N = 8, 7\n",
    "x = np.random.rand(D)\n",
    "print(x.shape)\n",
    "\n",
    "y = np.repeat(x.reshape(1,D), N, axis=0)\n",
    "print(y.shape)\n",
    "print(\"-----------------------\")\n",
    "\n",
    "# backward - 리피트 노드의 미분은 합(sum)이다\n",
    "dy = np.random.rand(N, D)\n",
    "print(dy.shape)\n",
    "dx = np.sum(dy, axis=0) \n",
    "print(dx.shape)\n",
    "dx"
   ]
  },
  {
   "cell_type": "markdown",
   "metadata": {},
   "source": [
    "## Sum 노드"
   ]
  },
  {
   "cell_type": "code",
   "execution_count": 5,
   "metadata": {},
   "outputs": [
    {
     "name": "stdout",
     "output_type": "stream",
     "text": [
      "(1, 8)\n",
      "-----------------------\n",
      "(1, 8)\n",
      "(7, 8)\n"
     ]
    },
    {
     "data": {
      "text/plain": [
       "array([[0.75093095, 0.4981753 , 0.69493541, 0.57905109, 0.56388367,\n",
       "        0.58058577, 0.38763309, 0.5783869 ],\n",
       "       [0.75093095, 0.4981753 , 0.69493541, 0.57905109, 0.56388367,\n",
       "        0.58058577, 0.38763309, 0.5783869 ],\n",
       "       [0.75093095, 0.4981753 , 0.69493541, 0.57905109, 0.56388367,\n",
       "        0.58058577, 0.38763309, 0.5783869 ],\n",
       "       [0.75093095, 0.4981753 , 0.69493541, 0.57905109, 0.56388367,\n",
       "        0.58058577, 0.38763309, 0.5783869 ],\n",
       "       [0.75093095, 0.4981753 , 0.69493541, 0.57905109, 0.56388367,\n",
       "        0.58058577, 0.38763309, 0.5783869 ],\n",
       "       [0.75093095, 0.4981753 , 0.69493541, 0.57905109, 0.56388367,\n",
       "        0.58058577, 0.38763309, 0.5783869 ],\n",
       "       [0.75093095, 0.4981753 , 0.69493541, 0.57905109, 0.56388367,\n",
       "        0.58058577, 0.38763309, 0.5783869 ]])"
      ]
     },
     "execution_count": 5,
     "metadata": {},
     "output_type": "execute_result"
    }
   ],
   "source": [
    "import numpy as np\n",
    "\n",
    "# forward\n",
    "D, N = 8, 7\n",
    "x = np.random.rand(N, D)\n",
    "y = np.sum(x, axis=0, keepdims=True)\n",
    "print(y.shape)\n",
    "print(\"-----------------------\")\n",
    "\n",
    "# backward - 덧셈 노드의 미분은 repeat 연산이다.\n",
    "dy = np.random.rand(1, D)\n",
    "print(dy.shape)\n",
    "\n",
    "dx = np.repeat(dy, N, axis=0)\n",
    "print(dx.shape)\n",
    "dx"
   ]
  },
  {
   "cell_type": "code",
   "execution_count": 8,
   "metadata": {},
   "outputs": [
    {
     "name": "stdout",
     "output_type": "stream",
     "text": [
      "(7, 8)\n",
      "(8,)\n",
      "(8,)\n",
      "(7, 8)\n"
     ]
    },
    {
     "data": {
      "text/plain": [
       "array([[0.88600107, 0.87915859, 0.7259601 , 0.4890898 , 0.12888806,\n",
       "        0.19678826, 0.28226461, 0.25375148],\n",
       "       [0.88600107, 0.87915859, 0.7259601 , 0.4890898 , 0.12888806,\n",
       "        0.19678826, 0.28226461, 0.25375148],\n",
       "       [0.88600107, 0.87915859, 0.7259601 , 0.4890898 , 0.12888806,\n",
       "        0.19678826, 0.28226461, 0.25375148],\n",
       "       [0.88600107, 0.87915859, 0.7259601 , 0.4890898 , 0.12888806,\n",
       "        0.19678826, 0.28226461, 0.25375148],\n",
       "       [0.88600107, 0.87915859, 0.7259601 , 0.4890898 , 0.12888806,\n",
       "        0.19678826, 0.28226461, 0.25375148],\n",
       "       [0.88600107, 0.87915859, 0.7259601 , 0.4890898 , 0.12888806,\n",
       "        0.19678826, 0.28226461, 0.25375148],\n",
       "       [0.88600107, 0.87915859, 0.7259601 , 0.4890898 , 0.12888806,\n",
       "        0.19678826, 0.28226461, 0.25375148]])"
      ]
     },
     "execution_count": 8,
     "metadata": {},
     "output_type": "execute_result"
    }
   ],
   "source": [
    "import numpy as np\n",
    "\n",
    "# forward\n",
    "D, N = 8, 7\n",
    "x = np.random.rand(N, D)\n",
    "print(x.shape)\n",
    "\n",
    "y = np.sum(x, axis=0)\n",
    "print(y.shape)\n",
    "print(\"-----------------------\")\n",
    "\n",
    "# backward\n",
    "dy = np.random.rand(D)\n",
    "print(dy.shape)\n",
    "\n",
    "dx = np.repeat(dy.reshape(1,D), N, axis=0)\n",
    "print(dx.shape)\n",
    "dx"
   ]
  },
  {
   "cell_type": "markdown",
   "metadata": {},
   "source": [
    "## MatMul "
   ]
  },
  {
   "cell_type": "code",
   "execution_count": 6,
   "metadata": {},
   "outputs": [],
   "source": [
    "class MatMul:\n",
    "    def __init__(self, W):\n",
    "        self.params = [W]\n",
    "        self.grads = [np.zeros_like(W)]\n",
    "        self.x = None\n",
    "\n",
    "    def forward(self, x):\n",
    "        W, = self.params\n",
    "        out = np.dot(x, W)\n",
    "        self.x = x\n",
    "        return out\n",
    "\n",
    "    def backward(self, dout):\n",
    "        W, = self.params\n",
    "        dx = np.dot(dout, W.T)\n",
    "        dW = np.dot(self.x.T, dout)\n",
    "        self.grads[0][...] = dW # ...: deep copy (np.zeros_like(W)에 복사)\n",
    "        return dx"
   ]
  },
  {
   "cell_type": "code",
   "execution_count": 7,
   "metadata": {},
   "outputs": [
    {
     "name": "stdout",
     "output_type": "stream",
     "text": [
      "0x7fb9ea90f390\n",
      "0x7fb9ea90f450\n",
      "[4 5 6]\n",
      "0x7fb9ea90f450\n",
      "0x7fb9ea90f450\n",
      "True\n",
      "[ 4 10  6]\n",
      "[ 4 10  6]\n"
     ]
    }
   ],
   "source": [
    "a = np.array([1, 2, 3])\n",
    "b = np.array([4, 5, 6])\n",
    "print(hex(id(a)))\n",
    "print(hex(id(b)))\n",
    "\n",
    "# shallow copy: a, b 주소 같음\n",
    "a = b \n",
    "print(a)\n",
    "print(hex(id(a)))\n",
    "print(hex(id(b)))\n",
    "\n",
    "a[1]=10\n",
    "print(id(a) == id(b))\n",
    "print(a)\n",
    "print(b)"
   ]
  },
  {
   "cell_type": "code",
   "execution_count": 8,
   "metadata": {},
   "outputs": [
    {
     "name": "stdout",
     "output_type": "stream",
     "text": [
      "0x7fb9ea90f2d0\n",
      "0x7fb9ea90f4b0\n",
      "[4 5 6]\n",
      "0x7fb9ea90f2d0\n",
      "0x7fb9ea90f4b0\n",
      "False\n",
      "[ 4 10  6]\n",
      "[4 5 6]\n"
     ]
    }
   ],
   "source": [
    "a = np.array([1, 2, 3])\n",
    "b = np.array([4, 5, 6])\n",
    "print(hex(id(a)))\n",
    "print(hex(id(b)))\n",
    "\n",
    "# deep copy: a, b 주소 다름\n",
    "a[...] = b\n",
    "print(a)\n",
    "print(hex(id(a)))\n",
    "print(hex(id(b)))\n",
    "\n",
    "a[1]=10\n",
    "print(id(a) == id(b))\n",
    "print(a)\n",
    "print(b)"
   ]
  },
  {
   "cell_type": "markdown",
   "metadata": {},
   "source": [
    "## 시그모이드 계층"
   ]
  },
  {
   "cell_type": "code",
   "execution_count": 10,
   "metadata": {},
   "outputs": [],
   "source": [
    "class Sigmoid:\n",
    "    def __init__(self):\n",
    "        self.params, self.grads = [], []\n",
    "        self.out = None\n",
    "\n",
    "    def forward(self, x):\n",
    "        out = 1 / (1 + np.exp(-x))\n",
    "        self.out = out\n",
    "        return out\n",
    "\n",
    "    def backward(self, dout):\n",
    "        dx = dout * (1.0 - self.out) * self.out\n",
    "        return dx"
   ]
  },
  {
   "cell_type": "code",
   "execution_count": 11,
   "metadata": {},
   "outputs": [
    {
     "data": {
      "image/png": "[encoded data removed]",
      "text/plain": [
       "<Figure size 432x288 with 1 Axes>"
      ]
     },
     "metadata": {
      "needs_background": "light"
     },
     "output_type": "display_data"
    }
   ],
   "source": [
    "import matplotlib.pyplot as plt\n",
    "\n",
    "x = np.arange(-10., 10., 0.1)\n",
    "sigmoid = Sigmoid()\n",
    "out = sigmoid.forward(x)\n",
    "\n",
    "plt.plot(x, out)\n",
    "plt.xlabel('z')\n",
    "plt.ylabel('1/(1+e^-z)')\n",
    "plt.show()"
   ]
  },
  {
   "cell_type": "code",
   "execution_count": 12,
   "metadata": {},
   "outputs": [
    {
     "data": {
      "image/png": "[encoded data removed]",
      "text/plain": [
       "<Figure size 432x288 with 1 Axes>"
      ]
     },
     "metadata": {
      "needs_background": "light"
     },
     "output_type": "display_data"
    }
   ],
   "source": [
    "import matplotlib.pyplot as plt\n",
    "\n",
    "dout = sigmoid.backward(1)\n",
    "\n",
    "plt.plot(x, dout)\n",
    "plt.ylim(0,1)\n",
    "plt.xlabel('z')\n",
    "plt.ylabel('y*(1-y)')\n",
    "plt.show()"
   ]
  },
  {
   "cell_type": "markdown",
   "metadata": {},
   "source": [
    "## Affine 계층"
   ]
  },
  {
   "cell_type": "code",
   "execution_count": 13,
   "metadata": {},
   "outputs": [],
   "source": [
    "class Affine:\n",
    "    def __init__(self, W, b):\n",
    "        self.params = [W, b]\n",
    "        self.grads = [np.zeros_like(W), np.zeros_like(b)]\n",
    "        self.x = None\n",
    "\n",
    "    def forward(self, x):\n",
    "        W, b = self.params\n",
    "        out = np.dot(x, W) + b\n",
    "        self.x = x\n",
    "        return out\n",
    "\n",
    "    def backward(self, dout):\n",
    "        W, b = self.params\n",
    "        dx = np.dot(dout, W.T)\n",
    "        dW = np.dot(self.x.T, dout)\n",
    "        db = np.sum(dout, axis=0)\n",
    "\n",
    "        self.grads[0][...] = dW\n",
    "        self.grads[1][...] = db\n",
    "        return dx"
   ]
  },
  {
   "cell_type": "code",
   "execution_count": 17,
   "metadata": {},
   "outputs": [
    {
     "name": "stdout",
     "output_type": "stream",
     "text": [
      "(10, 4)\n",
      "(2, 4)\n",
      "(4,)\n",
      "(10, 2)\n"
     ]
    }
   ],
   "source": [
    "X = np.random.randn(10,2)\n",
    "W = np.random.randn(2,4)\n",
    "b = np.random.randn(4)\n",
    "affine = Affine(W,b)\n",
    "out = affine.forward(X)\n",
    "print(out.shape)\n",
    "\n",
    "dout = np.random.randn(10,4)\n",
    "dx = affine.backward(dout)\n",
    "print(affine.grads[0].shape) # weight 미분\n",
    "print(affine.grads[1].shape) # bias 미분\n",
    "print(dx.shape)"
   ]
  },
  {
   "cell_type": "markdown",
   "metadata": {},
   "source": [
    "## Softmax with Loss 계층"
   ]
  },
  {
   "cell_type": "code",
   "execution_count": 17,
   "metadata": {},
   "outputs": [],
   "source": [
    "def softmax(x):\n",
    "    \n",
    "    if x.ndim == 2:\n",
    "        x = x - x.max(axis=1, keepdims=True)\n",
    "        x = np.exp(x)\n",
    "        x /= x.sum(axis=1, keepdims=True)\n",
    "        \n",
    "    elif x.ndim == 1:\n",
    "        x = x - np.max(x)\n",
    "        x = np.exp(x) / np.sum(np.exp(x))\n",
    "\n",
    "    return x\n",
    "\n",
    "\n",
    "def cross_entropy_error(y, t):\n",
    "    \n",
    "    if y.ndim == 1:\n",
    "        t = t.reshape(1, t.size)\n",
    "        y = y.reshape(1, y.size)\n",
    "        \n",
    "    # 정답 데이터가 원핫 벡터일 경우, 정답 레이블 인덱스로 변환\n",
    "    if t.size == y.size:\n",
    "        t = t.argmax(axis=1)\n",
    "             \n",
    "    batch_size = y.shape[0]\n",
    "\n",
    "    return -np.sum(np.log(y[np.arange(batch_size), t] + 1e-7)) / batch_size"
   ]
  },
  {
   "cell_type": "code",
   "execution_count": 18,
   "metadata": {},
   "outputs": [],
   "source": [
    "class SoftmaxWithLoss:\n",
    "    def __init__(self):\n",
    "        self.params, self.grads = [], []\n",
    "        self.y = None  # softmax의 출력\n",
    "        self.t = None  # 정답 레이블\n",
    "\n",
    "    def forward(self, x, t):\n",
    "        self.t = t\n",
    "        self.y = softmax(x)\n",
    "\n",
    "        # 정답 레이블이 원핫 벡터일 경우 정답의 인덱스로 변환\n",
    "        if self.t.size == self.y.size:\n",
    "            self.t = self.t.argmax(axis=1)\n",
    "\n",
    "        loss = cross_entropy_error(self.y, self.t)\n",
    "        return loss\n",
    "\n",
    "    def backward(self, dout=1):\n",
    "        batch_size = self.t.shape[0]\n",
    "\n",
    "        dx = self.y.copy()\n",
    "        dx[np.arange(batch_size), self.t] -= 1\n",
    "        dx *= dout\n",
    "        dx = dx / batch_size\n",
    "\n",
    "        return dx"
   ]
  },
  {
   "cell_type": "code",
   "execution_count": 19,
   "metadata": {},
   "outputs": [
    {
     "name": "stdout",
     "output_type": "stream",
     "text": [
      "1.2019425155719317\n",
      "[[0.3671654  0.30060961 0.33222499]]\n",
      "[[ 0.3671654  -0.69939039  0.33222499]]\n"
     ]
    }
   ],
   "source": [
    "x = np.array([[0.1,-0.1,0]])\n",
    "t = np.array([[0, 1, 0]])\n",
    "swl = SoftmaxWithLoss()\n",
    "loss = swl.forward(x,t)\n",
    "print(loss)\n",
    "\n",
    "print(swl.y)\n",
    "\n",
    "dx = swl.backward(1)\n",
    "print(dx)"
   ]
  },
  {
   "cell_type": "markdown",
   "metadata": {},
   "source": [
    "## 가중치 갱신"
   ]
  },
  {
   "cell_type": "code",
   "execution_count": 22,
   "metadata": {},
   "outputs": [],
   "source": [
    "class SGD:\n",
    "    '''\n",
    "    확률적 경사하강법(Stochastic Gradient Descent)\n",
    "    '''\n",
    "    def __init__(self, lr=0.01):\n",
    "        self.lr = lr\n",
    "        \n",
    "    def update(self, params, grads):\n",
    "        for i in range(len(params)):\n",
    "            params[i] -= self.lr * grads[i]"
   ]
  },
  {
   "cell_type": "code",
   "execution_count": null,
   "metadata": {},
   "outputs": [],
   "source": []
  }
 ],
 "metadata": {
  "kernelspec": {
   "display_name": "Python 3 (ipykernel)",
   "language": "python",
   "name": "python3"
  },
  "language_info": {
   "codemirror_mode": {
    "name": "ipython",
    "version": 3
   },
   "file_extension": ".py",
   "mimetype": "text/x-python",
   "name": "python",
   "nbconvert_exporter": "python",
   "pygments_lexer": "ipython3",
   "version": "3.9.12"
  }
 },
 "nbformat": 4,
 "nbformat_minor": 4
}
