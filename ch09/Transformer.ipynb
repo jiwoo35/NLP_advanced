{
 "cells": [
  {
   "cell_type": "code",
   "execution_count": 3,
   "metadata": {},
   "outputs": [
    {
     "name": "stdout",
     "output_type": "stream",
     "text": [
      "2.9.1\n"
     ]
    }
   ],
   "source": [
    "import tensorflow as tf\n",
    "import numpy as np\n",
    "print(tf.__version__)"
   ]
  },
  {
   "cell_type": "code",
   "execution_count": 12,
   "metadata": {},
   "outputs": [
    {
     "data": {
      "text/plain": [
       "(50, 1)"
      ]
     },
     "execution_count": 12,
     "metadata": {},
     "output_type": "execute_result"
    }
   ],
   "source": [
    "# np.arange: array range\n",
    "# a = np.array([1,2,3])\n",
    "a = np.arange(50)\n",
    "# a\n",
    "a.shape # (50, )\n",
    "# a = a.reshape(-1, 1) # old ver.\n",
    "a = np.arange(50)[:, np.newaxis] # new ver.\n",
    "a.shape # (50, 1)"
   ]
  },
  {
   "cell_type": "code",
   "execution_count": 17,
   "metadata": {},
   "outputs": [
    {
     "name": "stdout",
     "output_type": "stream",
     "text": [
      "tf.Tensor(\n",
      "[ 0.  1.  2.  3.  4.  5.  6.  7.  8.  9. 10. 11. 12. 13. 14. 15. 16. 17.\n",
      " 18. 19. 20. 21. 22. 23. 24. 25. 26. 27. 28. 29. 30. 31. 32. 33. 34. 35.\n",
      " 36. 37. 38. 39. 40. 41. 42. 43. 44. 45. 46. 47. 48. 49.], shape=(50,), dtype=float32)\n",
      "[ 0.  1.  2.  3.  4.  5.  6.  7.  8.  9. 10. 11. 12. 13. 14. 15. 16. 17.\n",
      " 18. 19. 20. 21. 22. 23. 24. 25. 26. 27. 28. 29. 30. 31. 32. 33. 34. 35.\n",
      " 36. 37. 38. 39. 40. 41. 42. 43. 44. 45. 46. 47. 48. 49.]\n",
      "(50,)\n",
      "(50, 1)\n",
      "tf.Tensor(\n",
      "[[ 0.]\n",
      " [ 1.]\n",
      " [ 2.]\n",
      " [ 3.]\n",
      " [ 4.]\n",
      " [ 5.]\n",
      " [ 6.]\n",
      " [ 7.]\n",
      " [ 8.]\n",
      " [ 9.]\n",
      " [10.]\n",
      " [11.]\n",
      " [12.]\n",
      " [13.]\n",
      " [14.]\n",
      " [15.]\n",
      " [16.]\n",
      " [17.]\n",
      " [18.]\n",
      " [19.]\n",
      " [20.]\n",
      " [21.]\n",
      " [22.]\n",
      " [23.]\n",
      " [24.]\n",
      " [25.]\n",
      " [26.]\n",
      " [27.]\n",
      " [28.]\n",
      " [29.]\n",
      " [30.]\n",
      " [31.]\n",
      " [32.]\n",
      " [33.]\n",
      " [34.]\n",
      " [35.]\n",
      " [36.]\n",
      " [37.]\n",
      " [38.]\n",
      " [39.]\n",
      " [40.]\n",
      " [41.]\n",
      " [42.]\n",
      " [43.]\n",
      " [44.]\n",
      " [45.]\n",
      " [46.]\n",
      " [47.]\n",
      " [48.]\n",
      " [49.]], shape=(50, 1), dtype=float32)\n"
     ]
    }
   ],
   "source": [
    "position=50\n",
    "a = tf.range(position, dtype=tf.float32) # tf.range = np.arange\n",
    "print(a)\n",
    "print(a.numpy()) # tensor -> numpy\n",
    "print(a.shape)   # (50, )\n",
    "\n",
    "a = tf.range(position, dtype=tf.float32)[:, tf.newaxis] # (50, 1)\n",
    "print(a.shape)\n",
    "print(a)"
   ]
  },
  {
   "cell_type": "code",
   "execution_count": 16,
   "metadata": {},
   "outputs": [
    {
     "name": "stdout",
     "output_type": "stream",
     "text": [
      "(128,)\n",
      "(1, 128)\n",
      "tf.Tensor(\n",
      "[[  0.   1.   2.   3.   4.   5.   6.   7.   8.   9.  10.  11.  12.  13.\n",
      "   14.  15.  16.  17.  18.  19.  20.  21.  22.  23.  24.  25.  26.  27.\n",
      "   28.  29.  30.  31.  32.  33.  34.  35.  36.  37.  38.  39.  40.  41.\n",
      "   42.  43.  44.  45.  46.  47.  48.  49.  50.  51.  52.  53.  54.  55.\n",
      "   56.  57.  58.  59.  60.  61.  62.  63.  64.  65.  66.  67.  68.  69.\n",
      "   70.  71.  72.  73.  74.  75.  76.  77.  78.  79.  80.  81.  82.  83.\n",
      "   84.  85.  86.  87.  88.  89.  90.  91.  92.  93.  94.  95.  96.  97.\n",
      "   98.  99. 100. 101. 102. 103. 104. 105. 106. 107. 108. 109. 110. 111.\n",
      "  112. 113. 114. 115. 116. 117. 118. 119. 120. 121. 122. 123. 124. 125.\n",
      "  126. 127.]], shape=(1, 128), dtype=float32)\n"
     ]
    }
   ],
   "source": [
    "d_model = 128\n",
    "i = tf.range(d_model, dtype=tf.float32)\n",
    "print(i.shape)  # (128, )\n",
    "\n",
    "i = i[tf.newaxis, :]\n",
    "print(i.shape) # (1, 128)\n",
    "print(i)"
   ]
  },
  {
   "cell_type": "code",
   "execution_count": 19,
   "metadata": {},
   "outputs": [
    {
     "data": {
      "text/plain": [
       "8"
      ]
     },
     "execution_count": 19,
     "metadata": {},
     "output_type": "execute_result"
    }
   ],
   "source": [
    "# pow(): 거듭제곱(x의 y승), 스칼라일때\n",
    "tf.pow(2, 3)"
   ]
  },
  {
   "cell_type": "code",
   "execution_count": 20,
   "metadata": {},
   "outputs": [
    {
     "data": {
      "text/plain": [
       "<tf.Tensor: shape=(4,), dtype=int32, numpy=array([ 2,  4,  8, 16])>"
      ]
     },
     "execution_count": 20,
     "metadata": {},
     "output_type": "execute_result"
    }
   ],
   "source": [
    "# pow(): 한쪽 배열일때\n",
    "i = [1,2,3,4]\n",
    "tf.pow(2, i)"
   ]
  },
  {
   "cell_type": "code",
   "execution_count": 21,
   "metadata": {},
   "outputs": [
    {
     "data": {
      "text/plain": [
       "<tf.Tensor: shape=(2, 2), dtype=int32, numpy=\n",
       "array([[  256, 65536],\n",
       "       [    9,    27]])>"
      ]
     },
     "execution_count": 21,
     "metadata": {},
     "output_type": "execute_result"
    }
   ],
   "source": [
    "# pow(): 둘다 배열일때, 원소끼리 거듭제곱\n",
    "x = tf.constant([[2, 2], \n",
    "                 [3, 3]])\n",
    "y = tf.constant([[8, 16], \n",
    "                 [2, 3]])\n",
    "tf.pow(x, y)"
   ]
  },
  {
   "cell_type": "code",
   "execution_count": 40,
   "metadata": {},
   "outputs": [
    {
     "data": {
      "image/png": "[encoded data removed]",
      "text/plain": [
       "<Figure size 432x288 with 1 Axes>"
      ]
     },
     "metadata": {
      "needs_background": "light"
     },
     "output_type": "display_data"
    }
   ],
   "source": [
    "d_model=128\n",
    "i = tf.range(d_model, dtype=tf.float32)[tf.newaxis, :] # (1, 128)\n",
    "i // 2 # 001122\n",
    "2 * (i // 2) # 002244\n",
    "tf.pow(10000, (2 * (i // 2))) # inf\n",
    "(2 * (i // 2)) / tf.cast(d_model, tf.float32) # 2/128 ~ 126/128: 최대 숫자가 1 미만\n",
    "y = tf.pow(10000, (2 * (i // 2))/ tf.cast(d_model, tf.float32))\n",
    "# i\n",
    "# y\n",
    "# plt.plot(i, y, \"ro\")\n",
    "plt.plot(i[0], y[0])\n",
    "plt.show()"
   ]
  },
  {
   "cell_type": "code",
   "execution_count": 41,
   "metadata": {},
   "outputs": [
    {
     "data": {
      "image/png": "[encoded data removed]",
      "text/plain": [
       "<Figure size 432x288 with 1 Axes>"
      ]
     },
     "metadata": {
      "needs_background": "light"
     },
     "output_type": "display_data"
    }
   ],
   "source": [
    "import matplotlib.pyplot as plt\n",
    "import numpy as np\n",
    "\n",
    "angles = 1 / tf.pow(10000, (2 * (i // 2)) / tf.cast(d_model, tf.float32)) \n",
    "# print(angles.shape)\n",
    "# print(angles)\n",
    "\n",
    "x = i[0].numpy()\n",
    "# print(x)\n",
    "y = angles[0].numpy()\n",
    "# print(y)\n",
    "\n",
    "plt.plot(x,y)\n",
    "plt.show()\n",
    "# 로그 스케일: 뒤로 갈수록 간격이 좁아진다\n",
    "# d_model 수가 (128이 아닌 256로) 바뀌어도 로그 스케일로 0~1 범위로 나온다.\n",
    "# 두 개씩 같은 값, 쌍으로 나온다."
   ]
  },
  {
   "cell_type": "code",
   "execution_count": 49,
   "metadata": {},
   "outputs": [
    {
     "name": "stdout",
     "output_type": "stream",
     "text": [
      "[[1]\n",
      " [2]\n",
      " [3]\n",
      " [4]]\n",
      "[[ 3]\n",
      " [ 6]\n",
      " [ 9]\n",
      " [12]]\n"
     ]
    }
   ],
   "source": [
    "a = np.arange(1,5)\n",
    "# print(a.shape) # (4,)\n",
    "a = np.arange(1,5).reshape(4,1)\n",
    "# print(a.shape) # (4,1)\n",
    "\n",
    "b = 3\n",
    "c = a*b  # broadcasting (4,1)*() => (4,1)(4,1)\n",
    "print(a)\n",
    "print(c)"
   ]
  },
  {
   "cell_type": "code",
   "execution_count": 50,
   "metadata": {},
   "outputs": [
    {
     "name": "stdout",
     "output_type": "stream",
     "text": [
      "[[1]\n",
      " [2]\n",
      " [3]\n",
      " [4]]\n",
      "[[ 3]\n",
      " [ 6]\n",
      " [ 9]\n",
      " [12]]\n"
     ]
    }
   ],
   "source": [
    "a = np.arange(1,5).reshape(4,1)\n",
    "b = np.array([3]) # (1, )\n",
    "c = a*b  # axis=0(row)으로 리피트: (4,1)*(1,) => (4,1)*(4,1) => (4,1)\n",
    "print(a)\n",
    "print(c)"
   ]
  },
  {
   "cell_type": "code",
   "execution_count": 52,
   "metadata": {},
   "outputs": [
    {
     "ename": "ValueError",
     "evalue": "operands could not be broadcast together with shapes (4,3) (4,2) ",
     "output_type": "error",
     "traceback": [
      "\u001b[1;31m---------------------------------------------------------------------------\u001b[0m",
      "\u001b[1;31mValueError\u001b[0m                                Traceback (most recent call last)",
      "\u001b[1;32m~\\AppData\\Local\\Temp/ipykernel_27744/2550319264.py\u001b[0m in \u001b[0;36m<module>\u001b[1;34m\u001b[0m\n\u001b[0;32m      4\u001b[0m               \u001b[1;33m[\u001b[0m\u001b[1;36m3\u001b[0m\u001b[1;33m,\u001b[0m\u001b[1;36m3\u001b[0m\u001b[1;33m]\u001b[0m\u001b[1;33m,\u001b[0m\u001b[1;33m\u001b[0m\u001b[1;33m\u001b[0m\u001b[0m\n\u001b[0;32m      5\u001b[0m               [3,3]])\n\u001b[1;32m----> 6\u001b[1;33m \u001b[0mc\u001b[0m \u001b[1;33m=\u001b[0m \u001b[0ma\u001b[0m\u001b[1;33m*\u001b[0m\u001b[0mb\u001b[0m  \u001b[1;31m# (4,3)*(4,2) => Error\u001b[0m\u001b[1;33m\u001b[0m\u001b[1;33m\u001b[0m\u001b[0m\n\u001b[0m\u001b[0;32m      7\u001b[0m \u001b[0mprint\u001b[0m\u001b[1;33m(\u001b[0m\u001b[0ma\u001b[0m\u001b[1;33m)\u001b[0m\u001b[1;33m\u001b[0m\u001b[1;33m\u001b[0m\u001b[0m\n\u001b[0;32m      8\u001b[0m \u001b[0mprint\u001b[0m\u001b[1;33m(\u001b[0m\u001b[0mc\u001b[0m\u001b[1;33m)\u001b[0m\u001b[1;33m\u001b[0m\u001b[1;33m\u001b[0m\u001b[0m\n",
      "\u001b[1;31mValueError\u001b[0m: operands could not be broadcast together with shapes (4,3) (4,2) "
     ]
    }
   ],
   "source": [
    "a = np.arange(1,13).reshape(4,3)\n",
    "b = np.array([[3,3],\n",
    "              [3,3],\n",
    "              [3,3],\n",
    "              [3,3]])\n",
    "c = a*b  # (4,3)*(4,2) => Error\n",
    "print(a)\n",
    "print(c)"
   ]
  },
  {
   "cell_type": "code",
   "execution_count": 51,
   "metadata": {},
   "outputs": [
    {
     "name": "stdout",
     "output_type": "stream",
     "text": [
      "[[ 1  2  3]\n",
      " [ 4  5  6]\n",
      " [ 7  8  9]\n",
      " [10 11 12]]\n",
      "[[ 3  6  9]\n",
      " [12 15 18]\n",
      " [21 24 27]\n",
      " [30 33 36]]\n"
     ]
    }
   ],
   "source": [
    "a = np.arange(1,13).reshape(4,3)\n",
    "b = np.array([[3],\n",
    "              [3],\n",
    "              [3],\n",
    "              [3]])\n",
    "c = a*b  # 1열일때는 열 복제 가능: (4,3)*(4,1) => (4,3)*(4,3)\n",
    "print(a)\n",
    "print(c)"
   ]
  },
  {
   "cell_type": "code",
   "execution_count": 55,
   "metadata": {},
   "outputs": [
    {
     "name": "stdout",
     "output_type": "stream",
     "text": [
      "[[1 2 3]]\n",
      "[[0]\n",
      " [1]\n",
      " [2]\n",
      " [3]]\n",
      "[[0 0 0]\n",
      " [1 2 3]\n",
      " [2 4 6]\n",
      " [3 6 9]]\n"
     ]
    }
   ],
   "source": [
    "a = np.arange(1,4).reshape(1,3)\n",
    "print(a)\n",
    "b = np.array([[0],\n",
    "              [1],\n",
    "              [2],\n",
    "              [3]])\n",
    "print(b)\n",
    "c = a*b  # 1열일때는 열 복제 가능: (1,3)*(4,1) => (4,3)(4,3)\n",
    "print(c)"
   ]
  },
  {
   "cell_type": "code",
   "execution_count": 66,
   "metadata": {},
   "outputs": [
    {
     "name": "stdout",
     "output_type": "stream",
     "text": [
      "tf.Tensor(0.89399666, shape=(), dtype=float32)\n"
     ]
    }
   ],
   "source": [
    "print(tf.math.sin(90.))"
   ]
  },
  {
   "cell_type": "code",
   "execution_count": 64,
   "metadata": {},
   "outputs": [
    {
     "name": "stdout",
     "output_type": "stream",
     "text": [
      "tf.Tensor(1.0, shape=(), dtype=float32)\n"
     ]
    }
   ],
   "source": [
    "# 라디안\n",
    "print(tf.math.sin(90.*np.pi/180))"
   ]
  },
  {
   "cell_type": "code",
   "execution_count": 65,
   "metadata": {},
   "outputs": [
    {
     "name": "stdout",
     "output_type": "stream",
     "text": [
      "tf.Tensor(0.84147096, shape=(), dtype=float32)\n"
     ]
    }
   ],
   "source": [
    "print(tf.math.sin(1.))"
   ]
  },
  {
   "cell_type": "code",
   "execution_count": 1,
   "metadata": {},
   "outputs": [],
   "source": [
    "import tensorflow as tf\n",
    "import matplotlib.pyplot as plt\n",
    "import numpy as np\n",
    "\n",
    "class PositionalEncoding(tf.keras.layers.Layer):\n",
    "    def __init__(self, position, d_model):\n",
    "#         print(\"PositionalEncoding.__init__()\", position, d_model)\n",
    "        super(PositionalEncoding, self).__init__()\n",
    "        self.pos_encoding = self.positional_encoding(position, d_model)\n",
    "\n",
    "    def get_angles(self, position, i, d_model):\n",
    "#         print(\"PositionalEncoding.get_angles()\")\n",
    "#         print(position.shape)  # (50,1)\n",
    "#         print(i.shape)         # (1,128)\n",
    "#         print(d_model)         # 128\n",
    "        angles = 1 / tf.pow(10000, (2 * (i // 2)) / tf.cast(d_model, tf.float32))\n",
    "#         print(angles.shape)    # (1,128)\n",
    "#         print(angles)\n",
    "        return position * angles    # 1열일때 열 복제 가능: (50,1)*(1,128) => (50,128)*(50,128) => (50,128)\n",
    "\n",
    "    def positional_encoding(self, position, d_model):\n",
    "#         print(\"PositionalEncoding.positional_encoding()\", position, d_model)\n",
    "        angle_rads = self.get_angles(\n",
    "            position=tf.range(position, dtype=tf.float32)[:, tf.newaxis],  # (50,1)\n",
    "            i=tf.range(d_model, dtype=tf.float32)[tf.newaxis, :],          # (1,128)\n",
    "            d_model=d_model)\n",
    "\n",
    "#         print(angle_rads[:10,:10])\n",
    "        print(angle_rads.shape)  # (50,128)\n",
    "        \n",
    "#         print(angle_rads[:10, 0:11:2])\n",
    "#         print(angle_rads[:, 0::2].shape)\n",
    "        \n",
    "        # 배열의 짝수 인덱스(2i, 0,2,4,...)에는 사인 함수 적용\n",
    "        sines = tf.math.sin(angle_rads[:, 0::2])\n",
    "        print(sines[:10,:10])\n",
    "        print(sines.shape) # (50, 64)\n",
    "        \n",
    "        # 배열의 홀수 인덱스(2i+1, 1,3,5,...)에는 코사인 함수 적용\n",
    "        # 같은 각도이지만, 다른 값\n",
    "        # ex) 0.84147096 != 0.5403023\n",
    "        cosines = tf.math.cos(angle_rads[:, 1::2])\n",
    "        print(cosines[:10,:10])\n",
    "        print(cosines.shape) # (50, 64)\n",
    "\n",
    "        pos_encoding = tf.concat([sines, cosines], axis=-1)\n",
    "        print(pos_encoding.shape) # (50, 128)\n",
    "        print(pos_encoding[:10,:10])\n",
    "        pos_encoding = pos_encoding[tf.newaxis, ...]\n",
    "#         print(pos_encoding.shape)  # (1, 50,128)\n",
    "        return tf.cast(pos_encoding, tf.float32)\n",
    "\n",
    "    def call(self, inputs):  # (1,40,128): 더 적은 input이 들어와도 OK\n",
    "        return inputs + self.pos_encoding[:, :tf.shape(inputs)[1], :] # (1,40,128)+(1,40,128)"
   ]
  },
  {
   "cell_type": "code",
   "execution_count": 4,
   "metadata": {},
   "outputs": [
    {
     "name": "stdout",
     "output_type": "stream",
     "text": [
      "(50, 128)\n",
      "tf.Tensor(\n",
      "[[ 0.          0.          0.          0.          0.          0.\n",
      "   0.          0.          0.          0.        ]\n",
      " [ 0.84147096  0.7617204   0.68156135  0.604694    0.53316844  0.46794808\n",
      "   0.40930894  0.35711196  0.3109836   0.27043223]\n",
      " [ 0.9092974   0.98704624  0.99748     0.9632266   0.9021307   0.82710385\n",
      "   0.74690354  0.66712916  0.5911271   0.52071136]\n",
      " [ 0.14112     0.51730573  0.7782725   0.9296448   0.9932532   0.9939678\n",
      "   0.95363444  0.8891674   0.8126489   0.732186  ]\n",
      " [-0.7568025  -0.31671554  0.14153895  0.5176193   0.7784717   0.92974603\n",
      "   0.9932807   0.9939451   0.95358074  0.8890967 ]\n",
      " [-0.9589243  -0.9277093  -0.5711271  -0.10512096  0.32393527  0.64936954\n",
      "   0.85889596  0.9676445   0.99994653  0.97975016]\n",
      " [-0.2794155  -0.88542116 -0.97739613 -0.6850681  -0.23036753  0.21802224\n",
      "   0.5740256   0.81373405  0.9471482   0.9973907 ]\n",
      " [ 0.6569866  -0.2196297  -0.8593135  -0.98613477 -0.7137213  -0.2640126\n",
      "   0.18858095  0.5525108   0.8004216   0.9407037 ]\n",
      " [ 0.98935825  0.6008224  -0.28022808 -0.88576156 -0.9772618  -0.6846676\n",
      "  -0.22990441  0.2184243   0.5743178   0.8139136 ]\n",
      " [ 0.41211846  0.99818236  0.4491935  -0.4248087  -0.9398235  -0.94614553\n",
      "  -0.6081086  -0.14446725  0.29125923  0.6264692 ]], shape=(10, 10), dtype=float32)\n",
      "(50, 64)\n",
      "tf.Tensor(\n",
      "[[ 1.          1.          1.          1.          1.          1.\n",
      "   1.          1.          1.          1.        ]\n",
      " [ 0.5403023   0.6479058   0.731761    0.7964579   0.84600914  0.8837559\n",
      "   0.91239583  0.9340616   0.95041525  0.962739  ]\n",
      " [-0.4161468  -0.16043602  0.07094827  0.2686903   0.43146282  0.56204915\n",
      "   0.66493237  0.74494207  0.8065784   0.8537328 ]\n",
      " [-0.9899925  -0.8558007  -0.6279267  -0.36845687 -0.11596616  0.1096727\n",
      "   0.3009673   0.45758203  0.58275366  0.6811047 ]\n",
      " [-0.6536436  -0.94852054 -0.9899327  -0.855611   -0.6276797  -0.36820143\n",
      "  -0.11572982  0.10987744  0.30113748  0.45771942]\n",
      " [ 0.28366217 -0.3733035  -0.82086164 -0.99445945 -0.94607925 -0.760473\n",
      "  -0.5121501  -0.2523174  -0.01034234  0.2002239 ]\n",
      " [ 0.96017027  0.46478963 -0.21141617 -0.728479   -0.9731037  -0.9759438\n",
      "  -0.81883734 -0.5812374  -0.32079637 -0.07219268]\n",
      " [ 0.75390226  0.9755833   0.5114493  -0.16594627 -0.7004298  -0.9645192\n",
      "  -0.98205763 -0.83350575 -0.5994375  -0.33922932]\n",
      " [-0.14550003  0.79938257  0.95993346  0.4641406  -0.21203645 -0.72885543\n",
      "  -0.9732132  -0.9758539  -0.8186324  -0.5809859 ]\n",
      " [-0.91113025  0.06026585  0.89343446  0.90528315  0.34166023 -0.32374159\n",
      "  -0.7938539  -0.9895096  -0.9566442  -0.7794462 ]], shape=(10, 10), dtype=float32)\n",
      "(50, 64)\n",
      "(50, 128)\n",
      "tf.Tensor(\n",
      "[[ 0.          0.          0.          0.          0.          0.\n",
      "   0.          0.          0.          0.        ]\n",
      " [ 0.84147096  0.7617204   0.68156135  0.604694    0.53316844  0.46794808\n",
      "   0.40930894  0.35711196  0.3109836   0.27043223]\n",
      " [ 0.9092974   0.98704624  0.99748     0.9632266   0.9021307   0.82710385\n",
      "   0.74690354  0.66712916  0.5911271   0.52071136]\n",
      " [ 0.14112     0.51730573  0.7782725   0.9296448   0.9932532   0.9939678\n",
      "   0.95363444  0.8891674   0.8126489   0.732186  ]\n",
      " [-0.7568025  -0.31671554  0.14153895  0.5176193   0.7784717   0.92974603\n",
      "   0.9932807   0.9939451   0.95358074  0.8890967 ]\n",
      " [-0.9589243  -0.9277093  -0.5711271  -0.10512096  0.32393527  0.64936954\n",
      "   0.85889596  0.9676445   0.99994653  0.97975016]\n",
      " [-0.2794155  -0.88542116 -0.97739613 -0.6850681  -0.23036753  0.21802224\n",
      "   0.5740256   0.81373405  0.9471482   0.9973907 ]\n",
      " [ 0.6569866  -0.2196297  -0.8593135  -0.98613477 -0.7137213  -0.2640126\n",
      "   0.18858095  0.5525108   0.8004216   0.9407037 ]\n",
      " [ 0.98935825  0.6008224  -0.28022808 -0.88576156 -0.9772618  -0.6846676\n",
      "  -0.22990441  0.2184243   0.5743178   0.8139136 ]\n",
      " [ 0.41211846  0.99818236  0.4491935  -0.4248087  -0.9398235  -0.94614553\n",
      "  -0.6081086  -0.14446725  0.29125923  0.6264692 ]], shape=(10, 10), dtype=float32)\n",
      "(1, 50, 128)\n",
      "tf.Tensor(\n",
      "[[[ 0.          0.          0.          0.          0.\n",
      "    0.          0.          0.          0.          0.        ]\n",
      "  [ 0.84147096  0.7617204   0.68156135  0.604694    0.53316844\n",
      "    0.46794808  0.40930894  0.35711196  0.3109836   0.27043223]\n",
      "  [ 0.9092974   0.98704624  0.99748     0.9632266   0.9021307\n",
      "    0.82710385  0.74690354  0.66712916  0.5911271   0.52071136]\n",
      "  [ 0.14112     0.51730573  0.7782725   0.9296448   0.9932532\n",
      "    0.9939678   0.95363444  0.8891674   0.8126489   0.732186  ]\n",
      "  [-0.7568025  -0.31671554  0.14153895  0.5176193   0.7784717\n",
      "    0.92974603  0.9932807   0.9939451   0.95358074  0.8890967 ]\n",
      "  [-0.9589243  -0.9277093  -0.5711271  -0.10512096  0.32393527\n",
      "    0.64936954  0.85889596  0.9676445   0.99994653  0.97975016]\n",
      "  [-0.2794155  -0.88542116 -0.97739613 -0.6850681  -0.23036753\n",
      "    0.21802224  0.5740256   0.81373405  0.9471482   0.9973907 ]\n",
      "  [ 0.6569866  -0.2196297  -0.8593135  -0.98613477 -0.7137213\n",
      "   -0.2640126   0.18858095  0.5525108   0.8004216   0.9407037 ]\n",
      "  [ 0.98935825  0.6008224  -0.28022808 -0.88576156 -0.9772618\n",
      "   -0.6846676  -0.22990441  0.2184243   0.5743178   0.8139136 ]\n",
      "  [ 0.41211846  0.99818236  0.4491935  -0.4248087  -0.9398235\n",
      "   -0.94614553 -0.6081086  -0.14446725  0.29125923  0.6264692 ]]], shape=(1, 10, 10), dtype=float32)\n"
     ]
    },
    {
     "data": {
      "image/png": "[encoded data removed]",
      "text/plain": [
       "<Figure size 432x288 with 2 Axes>"
      ]
     },
     "metadata": {
      "needs_background": "light"
     },
     "output_type": "display_data"
    }
   ],
   "source": [
    "sample_pos_encoding = PositionalEncoding(50, 128)\n",
    "print(sample_pos_encoding.pos_encoding.shape) # (1,50,128)\n",
    "                                              # (N,T,D)\n",
    "                                              # tf.shape(inputs)[1]\n",
    "print(sample_pos_encoding.pos_encoding[:, :10, :10])\n",
    "\n",
    "plt.pcolormesh(sample_pos_encoding.pos_encoding.numpy()[0], cmap='RdBu')\n",
    "plt.xlabel('Depth')\n",
    "plt.xlim((0, 128)) # 0~64: sin, 65~128: cos 결과, 모든 행과 열의 값이 모두 다르다.\n",
    "plt.ylabel('Position')\n",
    "plt.colorbar()\n",
    "plt.show()"
   ]
  },
  {
   "cell_type": "code",
   "execution_count": 12,
   "metadata": {},
   "outputs": [
    {
     "name": "stdout",
     "output_type": "stream",
     "text": [
      "(1, 50, 128)\n",
      "tf.Tensor(\n",
      "[[[0.0000000e+00 1.0000000e+00 2.0000000e+00 ... 1.2600000e+02\n",
      "   1.2700000e+02 1.2800000e+02]\n",
      "  [1.2884148e+02 1.2976172e+02 1.3068156e+02 ... 2.5400000e+02\n",
      "   2.5500000e+02 2.5600000e+02]\n",
      "  [2.5690930e+02 2.5798706e+02 2.5899747e+02 ... 3.8200000e+02\n",
      "   3.8300000e+02 3.8400000e+02]\n",
      "  ...\n",
      "  [6.0161235e+03 6.0171401e+03 6.0173652e+03 ... 6.1420000e+03\n",
      "   6.1430000e+03 6.1440000e+03]\n",
      "  [6.1432319e+03 6.1443364e+03 6.1450088e+03 ... 6.2700000e+03\n",
      "   6.2710000e+03 6.2720000e+03]\n",
      "  [6.2710464e+03 6.2720000e+03 6.2731841e+03 ... 6.3980000e+03\n",
      "   6.3990000e+03 6.4000000e+03]]], shape=(1, 50, 128), dtype=float32)\n"
     ]
    }
   ],
   "source": [
    "N=1\n",
    "T=50\n",
    "D=128\n",
    "a = np.arange(N*T*D).reshape(N,T,D)\n",
    "inputs = tf.constant(a, dtype=tf.float32)\n",
    "result = sample_pos_encoding(inputs)\n",
    "print(result.shape) # (1, 50, 128)\n",
    "print(result) # +Positional Encoding"
   ]
  },
  {
   "cell_type": "code",
   "execution_count": 34,
   "metadata": {},
   "outputs": [
    {
     "name": "stdout",
     "output_type": "stream",
     "text": [
      "[[[0 1]\n",
      "  [2 3]]\n",
      "\n",
      " [[4 5]\n",
      "  [6 7]]]\n",
      "[[1. 1. 1.]\n",
      " [1. 1. 1.]]\n",
      "(2, 2, 3)\n",
      "[[[ 1.  1.  1.]\n",
      "  [ 5.  5.  5.]]\n",
      "\n",
      " [[ 9.  9.  9.]\n",
      "  [13. 13. 13.]]]\n"
     ]
    }
   ],
   "source": [
    "x = np.arange(8).reshape(2,2,2)\n",
    "print(x)\n",
    "w = np.ones((2,3))\n",
    "print(w)   \n",
    "out = np.dot(x,w)    # (2,2,2)(2,3)\n",
    "print(out.shape)\n",
    "print(out)"
   ]
  },
  {
   "cell_type": "code",
   "execution_count": null,
   "metadata": {},
   "outputs": [],
   "source": [
    "x = np.arange(12).reshape(2,3,2)\n",
    "print(x)\n",
    "w = np.ones((2,3))\n",
    "print(w)   \n",
    "out = np.dot(w,x)    # (2,3)(2,2,2)\n",
    "print(out.shape)\n",
    "print(out)"
   ]
  },
  {
   "cell_type": "code",
   "execution_count": 46,
   "metadata": {},
   "outputs": [
    {
     "name": "stdout",
     "output_type": "stream",
     "text": [
      "tf.Tensor(\n",
      "[[0. 1. 2.]\n",
      " [3. 4. 5.]], shape=(2, 3), dtype=float32)\n",
      "tf.Tensor(\n",
      "[[1. 1. 1.]\n",
      " [1. 1. 1.]], shape=(2, 3), dtype=float32)\n",
      "(2, 2)\n",
      "matmul_qk= tf.Tensor(\n",
      "[[ 3.  3.]\n",
      " [12. 12.]], shape=(2, 2), dtype=float32)\n"
     ]
    }
   ],
   "source": [
    "# 2차원 배열의 행렬 곱 (s445)\n",
    "query = tf.constant(np.arange(6).reshape(2,3),dtype=tf.float32)\n",
    "print(query)\n",
    "\n",
    "key = tf.constant(np.ones((2,3)),dtype=tf.float32)\n",
    "print(key)\n",
    "\n",
    "matmul_qk = tf.matmul(query, key, transpose_b=True)\n",
    "print(matmul_qk.shape)\n",
    "print(\"matmul_qk=\", matmul_qk)\n",
    "\n",
    "# 동시에 여러개 있을때는?"
   ]
  },
  {
   "cell_type": "code",
   "execution_count": 48,
   "metadata": {},
   "outputs": [
    {
     "name": "stdout",
     "output_type": "stream",
     "text": [
      "tf.Tensor(\n",
      "[[[ 0.  1.  2.]\n",
      "  [ 3.  4.  5.]]\n",
      "\n",
      " [[ 6.  7.  8.]\n",
      "  [ 9. 10. 11.]]], shape=(2, 2, 3), dtype=float32)\n",
      "tf.Tensor(\n",
      "[[[1. 1. 1.]\n",
      "  [1. 1. 1.]]\n",
      "\n",
      " [[1. 1. 1.]\n",
      "  [1. 1. 1.]]], shape=(2, 2, 3), dtype=float32)\n",
      "(2, 2, 2)\n",
      "matmul_qk= tf.Tensor(\n",
      "[[[ 3.  3.]\n",
      "  [12. 12.]]\n",
      "\n",
      " [[21. 21.]\n",
      "  [30. 30.]]], shape=(2, 2, 2), dtype=float32)\n"
     ]
    }
   ],
   "source": [
    "# 2문장이 있을때 (s446)\n",
    "query = tf.constant(np.arange(12).reshape(2,2,3),dtype=tf.float32)\n",
    "print(query)\n",
    "\n",
    "key = tf.constant(np.ones((2,2,3)),dtype=tf.float32)\n",
    "print(key)\n",
    "\n",
    "matmul_qk = tf.matmul(query, key, transpose_b=True) # (2,2,3)*(2,3,2)=(2,2,2)\n",
    "print(matmul_qk.shape)\n",
    "print(\"matmul_qk=\", matmul_qk)"
   ]
  },
  {
   "cell_type": "code",
   "execution_count": 49,
   "metadata": {},
   "outputs": [
    {
     "name": "stdout",
     "output_type": "stream",
     "text": [
      "tf.Tensor(\n",
      "[[[[ 0.  1.  2.  3.]\n",
      "   [ 4.  5.  6.  7.]\n",
      "   [ 8.  9. 10. 11.]]\n",
      "\n",
      "  [[12. 13. 14. 15.]\n",
      "   [16. 17. 18. 19.]\n",
      "   [20. 21. 22. 23.]]]], shape=(1, 2, 3, 4), dtype=float32)\n",
      "tf.Tensor(\n",
      "[[[[1. 1. 1. 1.]\n",
      "   [1. 1. 1. 1.]\n",
      "   [1. 1. 1. 1.]]\n",
      "\n",
      "  [[1. 1. 1. 1.]\n",
      "   [1. 1. 1. 1.]\n",
      "   [1. 1. 1. 1.]]]], shape=(1, 2, 3, 4), dtype=float32)\n",
      "(1, 2, 3, 3)\n",
      "matmul_qk= tf.Tensor(\n",
      "[[[[ 6.  6.  6.]\n",
      "   [22. 22. 22.]\n",
      "   [38. 38. 38.]]\n",
      "\n",
      "  [[54. 54. 54.]\n",
      "   [70. 70. 70.]\n",
      "   [86. 86. 86.]]]], shape=(1, 2, 3, 3), dtype=float32)\n"
     ]
    }
   ],
   "source": [
    "# 4차원\n",
    "query = tf.constant(np.arange(24).reshape(1,2,3,4),dtype=tf.float32)\n",
    "print(query)\n",
    "\n",
    "key = tf.constant(np.ones((1,2,3,4)),dtype=tf.float32)\n",
    "print(key)\n",
    "\n",
    "matmul_qk = tf.matmul(query, key, transpose_b=True)\n",
    "print(matmul_qk.shape)\n",
    "print(\"matmul_qk=\", matmul_qk)"
   ]
  },
  {
   "cell_type": "code",
   "execution_count": 50,
   "metadata": {},
   "outputs": [
    {
     "name": "stdout",
     "output_type": "stream",
     "text": [
      "tf.Tensor(\n",
      "[[[[ 0.  1.  2.  3.]\n",
      "   [ 4.  5.  6.  7.]\n",
      "   [ 8.  9. 10. 11.]]\n",
      "\n",
      "  [[12. 13. 14. 15.]\n",
      "   [16. 17. 18. 19.]\n",
      "   [20. 21. 22. 23.]]]\n",
      "\n",
      "\n",
      " [[[24. 25. 26. 27.]\n",
      "   [28. 29. 30. 31.]\n",
      "   [32. 33. 34. 35.]]\n",
      "\n",
      "  [[36. 37. 38. 39.]\n",
      "   [40. 41. 42. 43.]\n",
      "   [44. 45. 46. 47.]]]], shape=(2, 2, 3, 4), dtype=float32)\n",
      "tf.Tensor(\n",
      "[[[[1. 1. 1. 1.]\n",
      "   [1. 1. 1. 1.]\n",
      "   [1. 1. 1. 1.]]\n",
      "\n",
      "  [[1. 1. 1. 1.]\n",
      "   [1. 1. 1. 1.]\n",
      "   [1. 1. 1. 1.]]]\n",
      "\n",
      "\n",
      " [[[1. 1. 1. 1.]\n",
      "   [1. 1. 1. 1.]\n",
      "   [1. 1. 1. 1.]]\n",
      "\n",
      "  [[1. 1. 1. 1.]\n",
      "   [1. 1. 1. 1.]\n",
      "   [1. 1. 1. 1.]]]], shape=(2, 2, 3, 4), dtype=float32)\n",
      "(2, 2, 3, 3)\n",
      "matmul_qk= tf.Tensor(\n",
      "[[[[  6.   6.   6.]\n",
      "   [ 22.  22.  22.]\n",
      "   [ 38.  38.  38.]]\n",
      "\n",
      "  [[ 54.  54.  54.]\n",
      "   [ 70.  70.  70.]\n",
      "   [ 86.  86.  86.]]]\n",
      "\n",
      "\n",
      " [[[102. 102. 102.]\n",
      "   [118. 118. 118.]\n",
      "   [134. 134. 134.]]\n",
      "\n",
      "  [[150. 150. 150.]\n",
      "   [166. 166. 166.]\n",
      "   [182. 182. 182.]]]], shape=(2, 2, 3, 3), dtype=float32)\n"
     ]
    }
   ],
   "source": [
    "# 4차원 - 2개 동시에 (고차원 텐서 이용 시 나눠서 수행하는 것과 같은 효과)\n",
    "query = tf.constant(np.arange(48).reshape(2,2,3,4),dtype=tf.float32)\n",
    "print(query)\n",
    "\n",
    "key = tf.constant(np.ones((2,2,3,4)),dtype=tf.float32)\n",
    "print(key)\n",
    "\n",
    "matmul_qk = tf.matmul(query, key, transpose_b=True)\n",
    "print(matmul_qk.shape)\n",
    "print(\"matmul_qk=\", matmul_qk)"
   ]
  },
  {
   "cell_type": "code",
   "execution_count": 74,
   "metadata": {},
   "outputs": [],
   "source": [
    "# Self-attention 함수\n",
    "# 실제 데이터는 4차원\n",
    "def scaled_dot_product_attention(query, key, value, mask):\n",
    "    # query 크기 : (batch_size, num_heads, query의 문장 길이, d_model/num_heads)\n",
    "    # key 크기 : (batch_size, num_heads, key의 문장 길이, d_model/num_heads)\n",
    "    # value 크기 : (batch_size, num_heads, value의 문장 길이, d_model/num_heads)\n",
    "    # padding_mask : (batch_size, 1, 1, key의 문장 길이)\n",
    "\n",
    "    # Q와 K의 곱. 어텐션 스코어 행렬. transpose_b = b(key)를 전치\n",
    "    matmul_qk = tf.matmul(query, key, transpose_b=True) # (64,4,40,32)(64,4,32,40) => (64,4,40,40)\n",
    "#     print(\"matmul_qk.shape =\", matmul_qk.shape)         # (1,4,4,4)\n",
    "#     print(\"matmul_qk =\", matmul_qk)                     # [[  0. 100.   0.   0.]]\n",
    "    # 스케일링\n",
    "    # dk의 루트값으로 나눠준다.\n",
    "    depth = tf.cast(tf.shape(key)[-1], tf.float32) # k의 열의 크기 (뉴런수)\n",
    "#     print(\"depth=\",depth) # 3.0 -> 32\n",
    "    logits = matmul_qk / tf.math.sqrt(depth)\n",
    "    print(\"logits=\",logits) # [[ 0.       57.735027  0.        0.      ]]\n",
    "\n",
    "    # 마스킹. 어텐션 스코어 행렬의 마스킹 할 위치에 매우 작은 음수값을 넣는다.\n",
    "    # 매우 작은 값이므로 소프트맥스 함수를 지나면 행렬의 해당 위치의 값은 0이 된다.\n",
    "    if mask is not None:\n",
    "        logits += (mask * -1e9)  # 1 * (-1000000000)  # (1,4,4,4) += (1,1,1,4)\n",
    "    print(\"logits=\",logits)\n",
    "\n",
    "    # 소프트맥스 함수는 마지막 차원인 key의 문장 길이 방향으로 수행된다.\n",
    "    # attention weight : (batch_size, num_heads, query의 문장 길이, key의 문장 길이)\n",
    "    # 열끼리 가로로 softmax 계산\n",
    "    attention_weights = tf.nn.softmax(logits, axis=-1)\n",
    "    print(\"attention_weights=\",attention_weights)  # [[0. 1. 0. 0.]]\n",
    "#     print(\"attention_weights.shape =\",attention_weights.shape)  # (64,4,40,40)(64,4,40,32) -> (64,4,40,32)\n",
    "    \n",
    "    print(\"value.shape=\", value.shape) # (batch_size=1, num_heads=4, 문장내 단어수=4, depth=32)\n",
    "    print(\"value=\", value)\n",
    "    \n",
    "    # output : (batch_size, num_heads, query의 문장 길이, d_model/num_heads)\n",
    "    output = tf.matmul(attention_weights, value) # (1,4,4,4)(1,4,4,32) => (1,4,4,32)\n",
    "#     print(\"output.shape =\", output.shape)\n",
    "    print(\"output =\", output) \n",
    "\n",
    "    return output, attention_weights"
   ]
  },
  {
   "cell_type": "code",
   "execution_count": 71,
   "metadata": {},
   "outputs": [],
   "source": [
    "# 일반적으로 q, k, v 크기가 같지만 달라도 상관없다\n",
    "np.set_printoptions(suppress=True)\n",
    "\n",
    "temp_k = tf.constant([[10,0,0],\n",
    "                      [0,10,0],\n",
    "                      [0,0,10],\n",
    "                      [0,0,10]], dtype=tf.float32)  # (4, 3)\n",
    "\n",
    "temp_v = tf.constant([[   1,0],\n",
    "                      [  10,0],\n",
    "                      [ 100,5],\n",
    "                      [1000,6]], dtype=tf.float32)  # (4, 2)\n",
    "\n",
    "temp_q = tf.constant([[0, 10, 0]], dtype=tf.float32)  # (1, 3)"
   ]
  },
  {
   "cell_type": "code",
   "execution_count": 72,
   "metadata": {},
   "outputs": [
    {
     "name": "stdout",
     "output_type": "stream",
     "text": [
      "logits= tf.Tensor([[ 0.       57.735027  0.        0.      ]], shape=(1, 4), dtype=float32)\n",
      "logits= tf.Tensor([[ 0.       57.735027  0.        0.      ]], shape=(1, 4), dtype=float32)\n",
      "attention_weights= tf.Tensor([[0. 1. 0. 0.]], shape=(1, 4), dtype=float32)\n",
      "tf.Tensor([[0. 1. 0. 0.]], shape=(1, 4), dtype=float32)\n",
      "tf.Tensor([[10.  0.]], shape=(1, 2), dtype=float32)\n"
     ]
    }
   ],
   "source": [
    "temp_out, temp_attn = scaled_dot_product_attention(temp_q, temp_k, temp_v, None)\n",
    "print(temp_attn) # 어텐션 분포(어텐션 가중치의 나열) [[0. 1. 0. 0.]], shape=(1, 4)\n",
    "print(temp_out) # 어텐션 값 [[10.  0.]], shape=(1, 2)"
   ]
  },
  {
   "cell_type": "code",
   "execution_count": 51,
   "metadata": {},
   "outputs": [
    {
     "name": "stdout",
     "output_type": "stream",
     "text": [
      "tf.Tensor([[0.  0.  0.5 0.5]], shape=(1, 4), dtype=float32)\n",
      "tf.Tensor([[550.    5.5]], shape=(1, 2), dtype=float32)\n"
     ]
    }
   ],
   "source": [
    "temp_q = tf.constant([[0, 0, 10]], dtype=tf.float32)\n",
    "temp_out, temp_attn = scaled_dot_product_attention(temp_q, temp_k, temp_v, None)\n",
    "print(temp_attn) # 어텐션 분포(어텐션 가중치의 나열)\n",
    "print(temp_out) # 어텐션 값"
   ]
  },
  {
   "cell_type": "code",
   "execution_count": 27,
   "metadata": {},
   "outputs": [
    {
     "name": "stdout",
     "output_type": "stream",
     "text": [
      "attention_weights= tf.Tensor(\n",
      "[[0.  0.  0.5 0.5]\n",
      " [0.  1.  0.  0. ]\n",
      " [0.5 0.5 0.  0. ]], shape=(3, 4), dtype=float32)\n",
      "attention_weights.shape = (3, 4)\n",
      "tf.Tensor(\n",
      "[[0.  0.  0.5 0.5]\n",
      " [0.  1.  0.  0. ]\n",
      " [0.5 0.5 0.  0. ]], shape=(3, 4), dtype=float32)\n",
      "tf.Tensor(\n",
      "[[550.    5.5]\n",
      " [ 10.    0. ]\n",
      " [  5.5   0. ]], shape=(3, 2), dtype=float32)\n"
     ]
    }
   ],
   "source": [
    "# query 3개인 경우\n",
    "temp_q = tf.constant([[0, 0, 10], \n",
    "                      [0, 10, 0], \n",
    "                      [10, 10, 0]], dtype=tf.float32)  # (3, 3)\n",
    "temp_out, temp_attn = scaled_dot_product_attention(temp_q, temp_k, temp_v, None)\n",
    "print(temp_attn) # 어텐션 분포(어텐션 가중치의 나열)\n",
    "print(temp_out) # 어텐션 값"
   ]
  },
  {
   "cell_type": "code",
   "execution_count": 53,
   "metadata": {},
   "outputs": [
    {
     "name": "stdout",
     "output_type": "stream",
     "text": [
      "[]\n",
      "(1, 3)\n",
      "[<tf.Variable 'dense_37/kernel:0' shape=(3, 4) dtype=float32, numpy=\n",
      "array([[-0.10356826, -0.37470925,  0.4403298 ,  0.66695535],\n",
      "       [ 0.52871513, -0.6876186 , -0.5321318 , -0.29070854],\n",
      "       [-0.04145581, -0.02151173, -0.67146564,  0.11413956]],\n",
      "      dtype=float32)>, <tf.Variable 'dense_37/bias:0' shape=(4,) dtype=float32, numpy=array([0., 0., 0., 0.], dtype=float32)>]\n"
     ]
    }
   ],
   "source": [
    "dense1 = tf.keras.layers.Dense(4)  # weight = (?,4)  , bias = (4,)\n",
    "# dir(dense1)\n",
    "print(dense1.weights)\n",
    "x = tf.constant([[1,2,3]])\n",
    "print(x.shape)\n",
    "out = dense1(x)   # (1,3)(3,4)+(4,)\n",
    "print(dense1.weights)"
   ]
  },
  {
   "cell_type": "code",
   "execution_count": 34,
   "metadata": {},
   "outputs": [
    {
     "name": "stdout",
     "output_type": "stream",
     "text": [
      "AAA.__init__\n",
      "BBB.__init__\n"
     ]
    },
    {
     "data": {
      "text/plain": [
       "<__main__.BBB at 0x1ac6345a640>"
      ]
     },
     "execution_count": 34,
     "metadata": {},
     "output_type": "execute_result"
    }
   ],
   "source": [
    "class AAA():\n",
    "    def __init__(self):\n",
    "        print(\"AAA.__init__\")\n",
    "\n",
    "class BBB(AAA):\n",
    "    def __init__(self):\n",
    "        super(BBB, self).__init__() # 이 부분이 없으면, 부모 생성자 호출안됨\n",
    "        print(\"BBB.__init__\")\n",
    "        \n",
    "# AAA()\n",
    "BBB()"
   ]
  },
  {
   "cell_type": "code",
   "execution_count": 36,
   "metadata": {},
   "outputs": [
    {
     "data": {
      "text/plain": [
       "array([[0],\n",
       "       [1],\n",
       "       [2],\n",
       "       [3],\n",
       "       [4]])"
      ]
     },
     "execution_count": 36,
     "metadata": {},
     "output_type": "execute_result"
    }
   ],
   "source": [
    "# a = np.arange(5)\n",
    "a = np.arange(10)\n",
    "a = np.reshape(a, (-1,1)) # -1: row 자동 결정\n",
    "a"
   ]
  },
  {
   "cell_type": "code",
   "execution_count": 59,
   "metadata": {},
   "outputs": [],
   "source": [
    "class MultiHeadAttention(tf.keras.layers.Layer):\n",
    "    # d_model: word_vec의 차원수(512->128로 축소), num_heads (8->4로 축소)\n",
    "    def __init__(self, d_model, num_heads, name=\"multi_head_attention\"):\n",
    "        super(MultiHeadAttention, self).__init__(name=name) # 부모 생성자 초기화\n",
    "        \n",
    "#         print(\"MultiHeadAttention.__init__()\")\n",
    "        self.num_heads = num_heads     # 4\n",
    "        self.d_model = d_model         # 128\n",
    "\n",
    "        assert d_model % self.num_heads == 0\n",
    "\n",
    "        # d_model을 num_heads로 나눈 값.\n",
    "        # 논문 기준 : 64\n",
    "        self.depth = d_model // self.num_heads  # 32\n",
    "#         print(\"self.depth=\", self.depth)\n",
    "\n",
    "        # WQ, WK, WV에 해당하는 밀집층 정의\n",
    "        self.query_dense = tf.keras.layers.Dense(units=d_model)  # (특성수, 뉴런수=d_model) = (?,128)\n",
    "        self.key_dense = tf.keras.layers.Dense(units=d_model)\n",
    "        self.value_dense = tf.keras.layers.Dense(units=d_model)\n",
    "\n",
    "        print(self.query_dense.weights) # empty weight list\n",
    "        # WO에 해당하는 밀집층 정의\n",
    "        self.dense = tf.keras.layers.Dense(units=d_model)  # (128,128)\n",
    "\n",
    "  # num_heads 개수만큼 q, k, v를 split하는 함수\n",
    "  # batch_size = 동시에 들어가는 문장의 개수 (서로 연관 없는 문장들 동시에 학습)\n",
    "    def split_heads(self, inputs, batch_size):\n",
    "#         print(\"split_heads()\")\n",
    "#         print(inputs.shape) # (N=64,T=40,H=128) => (64, 40, 4, 32)\n",
    "        inputs = tf.reshape(\n",
    "            # (batch_size, query의 문장 길이, num_heads, d_model/num_heads)\n",
    "            inputs, shape=(batch_size, -1, self.num_heads, self.depth))\n",
    "#         print(inputs.shape) # (64,40,4,32)\n",
    "        return tf.transpose(inputs, perm=[0, 2, 1, 3]) # (64,4,40,32)\n",
    "    \n",
    "    def call(self, inputs):\n",
    "        query, key, value, mask = inputs['query'], inputs['key'], inputs[\n",
    "            'value'], inputs['mask']\n",
    "        batch_size = tf.shape(query)[0]\n",
    "#         print(\"tf.shape(query) = \",  tf.shape(query))\n",
    "#         print(\"batch_size=\", batch_size)\n",
    "        \n",
    "#         # q,k값이 같다\n",
    "#         print(query[0,0,:10])\n",
    "#         print(key[0,0,:10])        \n",
    "        \n",
    "        # 1. WQ, WK, WV에 해당하는 밀집층 지나기\n",
    "        # q : (batch_size, query의 문장 길이, d_model)  =>  (64,40,128)\n",
    "        # k : (batch_size, key의 문장 길이, d_model)\n",
    "        # v : (batch_size, value의 문장 길이, d_model)\n",
    "        # 참고) 인코더(k, v)-디코더(q) 어텐션에서는 query 길이와 key, value의 길이는 다를 수 있다.\n",
    "        query = self.query_dense(query)    # (64,40,128)(128,128) => (64,40,128)\n",
    "        key = self.key_dense(key)          # (64,40,128)(128,128) => (64,40,128)\n",
    "        value = self.value_dense(value)    # (64,40,128)(128,128) => (64,40,128)\n",
    "        \n",
    "#         print(self.query_dense.weights) # weight, bias\n",
    "#         print(query.shape)\n",
    "#         print(key.shape)\n",
    "#         print(value.shape)\n",
    "        \n",
    "#         # **input은 같지만, q,k값은 달라진다**\n",
    "#         print(query[0,0,:10])\n",
    "#         print(key[0,0,:10])\n",
    "\n",
    "        # 2. 헤드 나누기(Split head) 4차원으로 분리\n",
    "        # q : (batch_size, num_heads, query의 문장 길이, d_model/num_heads)\n",
    "        # k : (batch_size, num_heads, key의 문장 길이, d_model/num_heads)\n",
    "        # v : (batch_size, num_heads, value의 문장 길이, d_model/num_heads)\n",
    "        query = self.split_heads(query, batch_size)\n",
    "        key = self.split_heads(key, batch_size)\n",
    "        value = self.split_heads(value, batch_size)\n",
    "#         print(query.shape)\n",
    "#         print(key.shape)\n",
    "#         print(value.shape)\n",
    "        \n",
    "\n",
    "        # 3. 스케일드 닷 프로덕트 어텐션. 앞서 구현한 함수 사용.\n",
    "        # (batch_size, num_heads, query의 문장 길이, d_model/num_heads)\n",
    "        scaled_attention, _ = scaled_dot_product_attention(query, key, value, mask)\n",
    "#         print('scaled_attention.shape=',scaled_attention.shape) # (64, 4, 40, 32)\n",
    "        # (batch_size, query의 문장 길이, num_heads, d_model/num_heads)\n",
    "        scaled_attention = tf.transpose(scaled_attention, perm=[0, 2, 1, 3])\n",
    "#         print('scaled_attention.shape=',scaled_attention.shape) # (64, 40, 4, 32)\n",
    "        \n",
    "        # 4. 헤드 연결(concatenate)하기\n",
    "        # (batch_size, query의 문장 길이, d_model), -1: 다른 변수에 따라 자동 결정(코드의 일반화)\n",
    "        concat_attention = tf.reshape(scaled_attention,\n",
    "                                  (batch_size, -1, self.d_model))\n",
    "#         print('concat_attention.shape=',concat_attention.shape)  # (64,40,4,32) => (64,40,128)\n",
    "\n",
    "        # 5. WO에 해당하는 밀집층 지나기\n",
    "        # (batch_size, query의 문장 길이, d_model)\n",
    "        outputs = self.dense(concat_attention)  # (64,40,128)(128,128) => (64,40,128)\n",
    "#         print('outputs.shape=',outputs.shape)\n",
    "\n",
    "        return outputs"
   ]
  },
  {
   "cell_type": "code",
   "execution_count": 60,
   "metadata": {},
   "outputs": [
    {
     "name": "stdout",
     "output_type": "stream",
     "text": [
      "[]\n",
      "(64, 40, 128)\n"
     ]
    }
   ],
   "source": [
    "# 실제 데이터 입력 - (N, T, D) T=40(문장 1개 당 단어의 길이)\n",
    "x = tf.constant(np.random.randn(64,40,128))\n",
    "# inputs = { 'query':x, 'key':x, 'value':x, 'mask':None } # 가공 전 query=key\n",
    "# mha = MultiHeadAttention(128,4)\n",
    "# mha(inputs) # 만들어진 객체를 call -> call()호출\n",
    "\n",
    "# 위의 코드를 합쳐서 쓰면\n",
    "outputs = MultiHeadAttention(128,4)({ 'query':x, 'key':x, 'value':x, 'mask':None })\n",
    "print(outputs.shape)"
   ]
  },
  {
   "cell_type": "code",
   "execution_count": 61,
   "metadata": {},
   "outputs": [
    {
     "name": "stdout",
     "output_type": "stream",
     "text": [
      "(1, 5)\n",
      "(1, 5)\n",
      "(1, 1, 1, 5)\n",
      "tf.Tensor([[[[0. 0. 0. 1. 1.]]]], shape=(1, 1, 1, 5), dtype=float32)\n"
     ]
    }
   ],
   "source": [
    "# 패딩 문자는 계산에 사용되지 않는다\n",
    "x = tf.constant([[1, 21, 777, 0, 0]])\n",
    "print(x.shape)\n",
    "# mask = tf.math.equal(x, 0)\n",
    "mask = tf.cast(tf.math.equal(x, 0), tf.float32)\n",
    "print(mask.shape)\n",
    "mask = mask[:, tf.newaxis, tf.newaxis, :]\n",
    "print(mask.shape)\n",
    "print(mask)"
   ]
  },
  {
   "cell_type": "code",
   "execution_count": 62,
   "metadata": {},
   "outputs": [
    {
     "name": "stdout",
     "output_type": "stream",
     "text": [
      "(2, 5)\n",
      "(2, 5)\n",
      "(2, 1, 1, 5)\n",
      "tf.Tensor(\n",
      "[[[[0. 0. 0. 1. 1.]]]\n",
      "\n",
      "\n",
      " [[[0. 0. 0. 0. 1.]]]], shape=(2, 1, 1, 5), dtype=float32)\n"
     ]
    }
   ],
   "source": [
    "x = tf.constant([[1, 21, 777, 0, 0],\n",
    "                 [23, 34, 31, 12, 0]])\n",
    "print(x.shape)\n",
    "mask = tf.cast(tf.math.equal(x, 0), tf.float32)\n",
    "print(mask.shape)\n",
    "mask = mask[:, tf.newaxis, tf.newaxis, :]\n",
    "print(mask.shape)\n",
    "print(mask)"
   ]
  },
  {
   "cell_type": "code",
   "execution_count": 63,
   "metadata": {},
   "outputs": [],
   "source": [
    "def create_padding_mask(x):  # (2,5)\n",
    "    mask = tf.cast(tf.math.equal(x, 0), tf.float32) # (2,5)\n",
    "    # (batch_size, 1, 1, key의 문장 길이)\n",
    "#     print(mask) #  [[0, 0, 0, 1, 1],\n",
    "                #   [1, 1, 0, 0, 0]]  (2,5)\n",
    "    return mask[:, tf.newaxis, tf.newaxis, :]  # (2,1,1,5)"
   ]
  },
  {
   "cell_type": "code",
   "execution_count": 64,
   "metadata": {},
   "outputs": [
    {
     "name": "stdout",
     "output_type": "stream",
     "text": [
      "tf.Tensor([[[[0. 0. 0. 1. 1.]]]], shape=(1, 1, 1, 5), dtype=float32)\n"
     ]
    }
   ],
   "source": [
    "#  0,0 5자리를 맞추기 위해 패딩\n",
    "print(create_padding_mask(tf.constant([[1, 21, 777, 0, 0]])))  # (1,5)"
   ]
  },
  {
   "cell_type": "code",
   "execution_count": 65,
   "metadata": {},
   "outputs": [
    {
     "name": "stdout",
     "output_type": "stream",
     "text": [
      "tf.Tensor(\n",
      "[[[[0. 0. 0. 1. 1.]]]\n",
      "\n",
      "\n",
      " [[[1. 1. 0. 0. 0.]]]], shape=(2, 1, 1, 5), dtype=float32)\n"
     ]
    }
   ],
   "source": [
    "print(create_padding_mask(tf.constant([[1, 21, 777, 0, 0],\n",
    "                                       [0, 0, 777, 23, 25]])))  # (2,1,1,5)"
   ]
  },
  {
   "cell_type": "code",
   "execution_count": 80,
   "metadata": {},
   "outputs": [
    {
     "name": "stdout",
     "output_type": "stream",
     "text": [
      "tf.Tensor([0.0320586  0.08714432 0.2368828  0.6439142  0.        ], shape=(5,), dtype=float32)\n"
     ]
    }
   ],
   "source": [
    "# 패딩에 0이 아닌 1e-9를 넣는 이유\n",
    "# logits = tf.constant([1.,2.,3.,4.,0.]) # 0인 경우, 0.01165623\n",
    "logits = tf.constant([1.,2.,3.,4.,-1000000000]) # 아주 작은 수인 경우, 0.\n",
    "attention_weights = tf.nn.softmax(logits, axis = -1)\n",
    "print(attention_weights)"
   ]
  },
  {
   "cell_type": "code",
   "execution_count": 75,
   "metadata": {},
   "outputs": [
    {
     "name": "stdout",
     "output_type": "stream",
     "text": [
      "[]\n",
      "logits= tf.Tensor(\n",
      "[[[[-0.8604314  -0.6006049   1.6691302   1.5278038 ]\n",
      "   [-0.0263841   0.7212323   0.9024451   0.7755365 ]\n",
      "   [-1.0307772   0.3297551   1.813923    0.9625724 ]\n",
      "   [-0.9952053   1.453032    0.3544928   0.7198589 ]]\n",
      "\n",
      "  [[-2.2006116  -1.3655452   0.6784962  -1.1276982 ]\n",
      "   [-2.889778   -1.3557283  -1.9291644   0.7287981 ]\n",
      "   [-0.94129384 -1.1965059  -0.34277287 -0.00456636]\n",
      "   [ 0.02369308  1.8595539  -0.17542033 -1.1133066 ]]\n",
      "\n",
      "  [[ 1.0326271  -0.6045838   0.77593446  1.101066  ]\n",
      "   [ 0.03653472 -1.0523369   1.0183653   1.9052736 ]\n",
      "   [ 0.00842478  1.4442008   0.96704733  0.8676384 ]\n",
      "   [ 1.401681   -2.3256142  -1.9649222  -0.6158382 ]]\n",
      "\n",
      "  [[ 0.48451564  0.1821836   1.7385336   0.4127306 ]\n",
      "   [ 0.00674114  1.7280456  -0.8368726  -0.8338761 ]\n",
      "   [ 0.18892704  0.30502307  1.2280482   0.4916521 ]\n",
      "   [ 0.20232473 -0.6410892  -0.11899135  0.4341609 ]]]], shape=(1, 4, 4, 4), dtype=float32)\n",
      "logits= tf.Tensor(\n",
      "[[[[-8.60431373e-01 -6.00604892e-01  1.66913021e+00 -1.00000000e+09]\n",
      "   [-2.63840966e-02  7.21232295e-01  9.02445078e-01 -1.00000000e+09]\n",
      "   [-1.03077722e+00  3.29755098e-01  1.81392300e+00 -1.00000000e+09]\n",
      "   [-9.95205283e-01  1.45303202e+00  3.54492813e-01 -1.00000000e+09]]\n",
      "\n",
      "  [[-2.20061159e+00 -1.36554515e+00  6.78496182e-01 -1.00000000e+09]\n",
      "   [-2.88977790e+00 -1.35572827e+00 -1.92916441e+00 -1.00000000e+09]\n",
      "   [-9.41293836e-01 -1.19650590e+00 -3.42772871e-01 -1.00000000e+09]\n",
      "   [ 2.36930829e-02  1.85955393e+00 -1.75420329e-01 -1.00000000e+09]]\n",
      "\n",
      "  [[ 1.03262711e+00 -6.04583800e-01  7.75934458e-01 -1.00000000e+09]\n",
      "   [ 3.65347229e-02 -1.05233693e+00  1.01836526e+00 -1.00000000e+09]\n",
      "   [ 8.42477567e-03  1.44420075e+00  9.67047334e-01 -1.00000000e+09]\n",
      "   [ 1.40168095e+00 -2.32561421e+00 -1.96492219e+00 -1.00000000e+09]]\n",
      "\n",
      "  [[ 4.84515637e-01  1.82183594e-01  1.73853362e+00 -1.00000000e+09]\n",
      "   [ 6.74113585e-03  1.72804558e+00 -8.36872578e-01 -1.00000000e+09]\n",
      "   [ 1.88927040e-01  3.05023074e-01  1.22804821e+00 -1.00000000e+09]\n",
      "   [ 2.02324733e-01 -6.41089201e-01 -1.18991345e-01 -1.00000000e+09]]]], shape=(1, 4, 4, 4), dtype=float32)\n",
      "attention_weights= tf.Tensor(\n",
      "[[[[0.06736408 0.08735134 0.84528464 0.        ]\n",
      "   [0.1771949  0.3742285  0.44857657 0.        ]\n",
      "   [0.04525978 0.17643476 0.7783055  0.        ]\n",
      "   [0.06088576 0.7043228  0.23479143 0.        ]]\n",
      "\n",
      "  [[0.04738584 0.10922279 0.84339136 0.        ]\n",
      "   [0.12120895 0.5620358  0.31675524 0.        ]\n",
      "   [0.27822772 0.21555755 0.50621474 0.        ]\n",
      "   [0.1236096  0.77509767 0.10129274 0.        ]]\n",
      "\n",
      "  [[0.5080971  0.09883599 0.39306694 0.        ]\n",
      "   [0.24962965 0.08402437 0.66634595 0.        ]\n",
      "   [0.12802447 0.53807473 0.3339008  0.        ]\n",
      "   [0.9446755  0.02272683 0.03259759 0.        ]]\n",
      "\n",
      "  [[0.19071276 0.14095439 0.6683329  0.        ]\n",
      "   [0.14241014 0.7963316  0.06125819 0.        ]\n",
      "   [0.20202693 0.2268972  0.5710759  0.        ]\n",
      "   [0.46394387 0.19960684 0.33644933 0.        ]]]], shape=(1, 4, 4, 4), dtype=float32)\n",
      "value.shape= (1, 4, 4, 32)\n",
      "value= tf.Tensor(\n",
      "[[[[ 0.6929017   0.84151244  0.16982676 -1.3616166  -0.8122109\n",
      "     0.16310625 -0.00719828  0.5499877  -0.43165326  0.17784153\n",
      "     1.1478311  -0.9945191   0.02196929  0.5337115   0.41314954\n",
      "    -0.70382786 -0.43175447 -0.9285824  -0.5314029  -0.2103656\n",
      "    -0.6793962   0.06768858  0.2998864  -0.83838433 -0.2527027\n",
      "     0.07920114  0.24193348  0.32143953 -0.5873576  -0.77613056\n",
      "    -0.74865144  2.122211  ]\n",
      "   [-0.18742158  1.3128649   0.1357083  -0.24601981  0.13060455\n",
      "    -0.52304393  0.31703374  0.06658389 -1.3645817  -1.454895\n",
      "     2.2838197  -1.655332    0.60453     3.0695517   1.1552268\n",
      "    -0.08773683 -0.879369   -0.13718152 -0.05925866  1.6893015\n",
      "    -0.08535378  1.6868798  -1.5585467  -0.2696134   1.0837452\n",
      "    -0.07035249  1.1749666   1.7522724   0.9716944  -0.33014035\n",
      "    -0.5565819  -0.01701639]\n",
      "   [ 0.4781825   0.9836182   0.57795364 -0.3727163   1.2024235\n",
      "     0.88466287  1.0492499   0.39667293 -0.99912876  0.20389646\n",
      "     0.48863527 -1.8988069  -0.31354827  1.0350872   1.1033762\n",
      "    -0.08254116  2.2338564  -1.33207     1.3099595  -0.9596846\n",
      "     0.37477675 -2.1896744   1.4554033  -1.7584809   1.1404179\n",
      "     1.6549898   1.8919042   0.16686061  0.5375518   0.1457297\n",
      "    -0.9297774  -0.9107687 ]\n",
      "   [ 0.84440666 -0.20016684 -0.20457567  1.3457085  -0.22364065\n",
      "     0.7039294   0.2282396  -0.8046354   0.7275525   0.04498529\n",
      "     1.083688    0.10982733 -0.73913175 -0.17657936  0.0966889\n",
      "    -1.5445199   0.06295949 -0.0768404  -0.8234198   0.49038982\n",
      "     1.4478686   0.57785577  1.297774    0.79143155  0.8701283\n",
      "     0.19800024  0.31462207 -1.2561865  -0.99069     0.23392464\n",
      "     1.222645    0.9506691 ]]\n",
      "\n",
      "  [[-0.00461036  1.097778    0.45505065 -1.8616068   0.9180941\n",
      "    -0.11915725  0.68462914 -0.21088018  0.24606252 -0.7486939\n",
      "    -0.74960697  0.3093326   1.74093    -0.38081285  0.1022779\n",
      "    -0.13356867  0.31192234 -0.53119767  0.47954866  1.4534911\n",
      "     2.5914638  -0.12135267 -0.21397856  0.44692728  0.36933064\n",
      "    -0.7681326   0.7026472  -0.63585985 -1.5436136  -0.5864463\n",
      "     1.3992809  -1.9936379 ]\n",
      "   [ 0.15154499 -0.25276694  0.98682064 -0.65061456  0.67891985\n",
      "    -0.3588489  -0.755489   -0.06888212  0.29407156  0.02254225\n",
      "     0.75122404 -1.1253558  -0.06245837  0.12832226 -0.12049038\n",
      "     0.5718786  -1.0512588  -2.4262428  -0.5894993  -0.50959396\n",
      "     1.7645812  -1.1753479   1.1223601  -1.0265087  -0.6682821\n",
      "     0.04660397 -1.0247475  -0.40520975 -0.17922455 -1.3043566\n",
      "     1.5084467  -1.6156073 ]\n",
      "   [ 0.54484373  0.2967408  -0.5651999   0.46970245  1.6864498\n",
      "    -0.10652902  1.1404448   1.7624733  -0.53272504  1.6157068\n",
      "    -1.19576     0.26895046 -1.89755     1.0892494   0.57865745\n",
      "     0.9182262  -1.2423697  -0.21903317 -0.28055388 -0.1528297\n",
      "     0.8209104   0.9089796  -2.924171   -0.7276985  -0.07501773\n",
      "    -0.6013498   1.6924168   1.6012118   1.6567563   0.5831637\n",
      "    -2.0522223  -0.3444487 ]\n",
      "   [-1.368225    0.9131706  -0.50630957  1.8767276   0.28755838\n",
      "    -0.05382303 -0.38149035 -0.48191288  0.32929304  0.93564475\n",
      "     0.23546748  0.71768314  0.38711137  1.4178575  -0.50107765\n",
      "     1.137791   -0.38389823 -0.42967197  0.23530667  0.93993956\n",
      "    -0.41184     0.5506017  -1.7915101   0.54036593  0.5584202\n",
      "    -0.23371458 -1.15009    -1.6475087   0.79453707 -0.08751129\n",
      "    -0.31833625 -0.37670574]]\n",
      "\n",
      "  [[-0.7813025   0.8595812  -0.28867754  1.3589935   0.35474762\n",
      "     0.08822751 -0.35775194  0.04477616  0.21250601 -0.59038776\n",
      "    -0.5806624   0.66133153 -0.7559453   0.91481507  1.028107\n",
      "    -1.081851   -0.03247783 -0.66423553 -1.5350724  -1.4368012\n",
      "    -1.8113443   0.2277264   1.0059471   0.78914446 -0.5355499\n",
      "     0.7137214   0.76517427  0.65144515 -1.1476163  -1.0414941\n",
      "    -0.24702767  0.2519837 ]\n",
      "   [-1.615907   -0.6719727   0.08010446 -1.6845872   1.3361232\n",
      "    -0.17555238  0.46198598 -1.2239991  -0.619358   -0.9690622\n",
      "    -0.607336    0.40886137  1.2874004  -0.15832947 -1.1519064\n",
      "    -0.20063844 -0.8396594   0.93527997  0.50429964 -1.4235116\n",
      "     1.901206    0.50299895  0.05996336  0.8236754   1.9535656\n",
      "    -0.06065527  0.20296088  0.97810906 -0.5521029  -0.8302031\n",
      "     0.95150656  2.137124  ]\n",
      "   [ 0.93705547  1.5908006   0.99648666  1.15481    -2.5393288\n",
      "     1.3136255   0.59926474 -0.56171316 -0.10460531 -0.7296697\n",
      "    -0.41785413  1.3420337  -1.58873     1.0476577  -0.315065\n",
      "     0.472009   -0.8758886  -1.0572723  -0.46216825 -0.24055132\n",
      "     1.3138627  -2.6133897  -0.5705206  -0.23313735  1.5128645\n",
      "    -1.8304667  -0.3151759  -0.9817543   0.3446578   0.10382229\n",
      "    -1.093094   -0.78770715]\n",
      "   [-1.562696    0.51088893 -0.24239244  0.09232336  1.8296444\n",
      "     1.7872252  -0.51069045 -0.6715931   1.3888102   0.15227029\n",
      "     1.2300237  -1.8719397  -0.6723758  -0.47307116 -0.16321611\n",
      "     0.35959098 -0.51161575 -0.20552994  0.03409452 -0.9090035\n",
      "    -1.5181171  -0.04820632 -1.0149907   0.00296249  0.8978849\n",
      "     0.46715438 -0.8503284  -1.4471501   0.5772028   0.06730936\n",
      "     1.062945    0.73073727]]\n",
      "\n",
      "  [[ 0.06148033 -0.6521844   0.68326056  0.8708514  -0.42727157\n",
      "     1.0822606  -0.3692681  -0.8526749   0.16102579 -1.4677444\n",
      "    -0.07652509  0.54353637 -1.7236838  -0.26800045 -1.9489483\n",
      "    -0.65472215 -0.5672262   0.96294993  0.8896529   0.9700915\n",
      "    -0.9840099   0.50529903 -0.4777857   0.89846146 -0.8354982\n",
      "    -1.1858703  -0.439987    0.17287816 -0.06259549  0.39724863\n",
      "     0.01917542  1.0664958 ]\n",
      "   [ 1.3315669  -0.7734326  -0.65154773 -1.147272   -2.1344411\n",
      "     1.4747889   1.3876443  -0.40537378 -0.01076789  0.4021824\n",
      "     0.43080267  1.2040141   0.71811205 -0.01648512  0.20019919\n",
      "    -0.56203    -1.9081931  -0.09646109 -0.2819886   0.41729823\n",
      "     1.1989889   0.2272285   0.08266357  2.2002902   3.2852547\n",
      "     0.3303006  -0.9936818  -0.61230135 -0.5968148   1.8225745\n",
      "    -0.21382189  0.61106664]\n",
      "   [ 0.7452372   0.1761743   0.25268015  2.3393915   0.6384832\n",
      "    -0.4958735   1.2043575  -0.933868   -0.72575676  0.5478477\n",
      "    -0.26350117  0.30736598 -2.0799034  -1.271807   -0.8519783\n",
      "     1.0795159   1.1755286   0.3475569   1.2045933  -0.09601853\n",
      "     0.04570894  0.2678175   0.20098548 -1.5001559  -1.0950783\n",
      "     0.06147702  1.1495291  -0.19371422 -0.12002806 -0.79634887\n",
      "    -0.6028276  -0.9197367 ]\n",
      "   [ 0.50980383  0.05338639 -0.87880605 -0.392312    0.458688\n",
      "    -0.5381126  -0.9241304  -1.3578006   2.0658774   1.0217558\n",
      "    -1.2992189  -0.7660189  -0.41818577  0.06490172 -1.8859433\n",
      "    -1.006445    1.7153312   1.0940887  -0.9961477  -0.5811316\n",
      "    -0.06139963  0.32961953 -0.7457409   1.5226861   0.10466753\n",
      "    -1.6881473   0.723151   -0.6969641   0.9958852   1.3428553\n",
      "    -0.5608857  -1.1938682 ]]]], shape=(1, 4, 4, 32), dtype=float32)\n",
      "output = tf.Tensor(\n",
      "[[[[ 0.43450546  1.0028056   0.51182985 -0.42826557  0.97308475\n",
      "     0.71309084  0.9141232   0.37816715 -0.99282414  0.05724366\n",
      "     0.6898532  -1.8166226  -0.21075109  1.1790258   1.061409\n",
      "    -0.12484742  1.7823457  -1.2005144   1.0663149  -0.67781496\n",
      "     0.26357037 -1.6989871   1.1142905  -1.566445    1.0416212\n",
      "     1.3981274   1.7181301   0.3157615   0.49969628  0.04206156\n",
      "    -0.8849769  -0.6283844 ]\n",
      "   [ 0.2671416   1.0816512   0.3401348  -0.50053096  0.4443353\n",
      "     0.23000267  0.5880365   0.3003108  -1.0353379  -0.42148742\n",
      "     1.2772505  -1.6474564   0.08947478  1.7076006   1.0004754\n",
      "    -0.19457436  0.596466   -0.81341267  0.471279    0.16441703\n",
      "     0.0157887  -0.33896405  0.12274551 -1.0382679   0.8723555\n",
      "     0.7300958   1.3312393   0.7875575   0.5006921  -0.19570337\n",
      "    -0.75802237 -0.03887254]\n",
      "   [ 0.37046495  1.0352771   0.48145446 -0.39512005  0.9221355\n",
      "     0.603637    0.8722469   0.34537274 -1.0379236  -0.08995125\n",
      "     0.83520323 -1.8149216  -0.13638191  1.3713453   1.0812849\n",
      "    -0.11157715  1.5639303  -1.1029884   0.9850422  -0.4583974\n",
      "     0.2458821  -1.4035478   0.8713393  -1.4541496   1.0673666\n",
      "     1.2792596   1.6907343   0.45357853  0.5632365   0.0200465\n",
      "    -0.855735   -0.6158077 ]\n",
      "   [ 0.02245571  1.206862    0.24162105 -0.34369102  0.3248544\n",
      "    -0.15074967  0.46921068  0.17351837 -1.2219744  -0.9660146\n",
      "     1.7931602  -1.6722636   0.35350344  2.4374804   1.0978708\n",
      "    -0.12402811 -0.12115699 -0.46591616  0.23347516  0.9516796\n",
      "    -0.0134878   0.6781124  -0.737745   -0.65381676  1.0156809\n",
      "     0.3438488   1.286489    1.2929139   0.7748374  -0.2455646\n",
      "    -0.6558993  -0.09661327]]\n",
      "\n",
      "  [[ 0.4758502   0.27467984 -0.34733847  0.23686725  1.5399953\n",
      "    -0.1346865   0.91176635  1.4689386  -0.4055165   1.3296578\n",
      "    -0.96196365  0.11857397 -1.5247037   0.9146341   0.47972092\n",
      "     0.8305569  -1.1478446  -0.47490296 -0.27827966 -0.11567964\n",
      "     1.0078799   0.63250035 -2.3537729  -0.7046747  -0.1187599\n",
      "    -0.5384816   1.3487395   1.2760593   1.304573    0.32158047\n",
      "    -1.4997636  -0.5614364 ]\n",
      "   [ 0.257197    0.08499065  0.43075475 -0.4425314   1.0270503\n",
      "    -0.24987248  0.01961318  0.49399787  0.02636029  0.43370473\n",
      "    -0.04740751 -0.5098049  -0.42514646  0.37098923  0.12796986\n",
      "     0.59607947 -0.94656444 -1.4974011  -0.36206105 -0.15864354\n",
      "     1.5658941  -0.3873726  -0.32137603 -0.7532654  -0.35459453\n",
      "    -0.25739214  0.04530421  0.20237792  0.23695582 -0.6194575\n",
      "     0.36735433 -1.2587818 ]\n",
      "   [ 0.30719185  0.40116102  0.05321184 -0.42042518  1.2554913\n",
      "    -0.164432    0.6049414   0.8186692  -0.13782251  0.61444634\n",
      "    -0.65194076 -0.02036734 -0.48965618  0.47310224  0.29540887\n",
      "     0.5509299  -0.7687272  -0.7816667  -0.1356678   0.21719003\n",
      "     1.5169427   0.17302006 -1.29786    -0.46529582 -0.07927031\n",
      "    -0.5080821   0.83133024  0.5462972   0.37056515 -0.14912346\n",
      "    -0.3243894  -1.0773067 ]\n",
      "   [ 0.172081   -0.03016547  0.7638804  -0.68682486  0.8105396\n",
      "    -0.30366257 -0.3854322   0.09906857  0.2043887   0.08858605\n",
      "     0.3684916  -0.8067815  -0.02542372  0.16272321 -0.02213548\n",
      "     0.519761   -0.9021146  -1.9684229  -0.42606077 -0.23080015\n",
      "     1.7712048  -0.83393675  0.54729164 -0.8141105  -0.47992986\n",
      "    -0.1197383  -0.53599596 -0.2304844  -0.1619046  -1.024424\n",
      "     1.1342828  -1.5335764 ]]\n",
      "\n",
      "  [[-0.18836176  0.9956268   0.25292695  0.9779205  -0.6858229\n",
      "     0.54382     0.09943928 -0.3190154   0.00564194 -0.6825616\n",
      "    -0.51930416  0.90393996 -0.88132936  0.86096585  0.28468674\n",
      "    -0.3839845  -0.4437733  -0.6606356  -0.91178596 -0.9652815\n",
      "    -0.21599525 -0.8618155   0.29279262  0.3907322   0.5156282\n",
      "    -0.36285108  0.28495747  0.04177463 -0.5021945  -0.57042503\n",
      "    -0.46113005  0.02963531]\n",
      "   [ 0.29359126  1.2181385   0.5986731   0.96720165 -1.491249\n",
      "     0.8826026   0.34883022 -0.4659636  -0.06869669 -0.71501553\n",
      "    -0.47441697  1.093701   -1.1391772   0.9131639  -0.05008447\n",
      "     0.02760068 -0.6623041  -0.7917357  -0.6487901  -0.6385683\n",
      "     0.5830695  -1.6423103  -0.12401149  0.11085252  1.0385491\n",
      "    -1.0466546  -0.00195234 -0.409383   -0.10320784 -0.26056352\n",
      "    -0.71009445 -0.28241238]\n",
      "   [-0.656621    0.2796455   0.3388721  -0.34685743 -0.08353347\n",
      "     0.35545558  0.40287697 -0.84042704 -0.3409827  -0.84064925\n",
      "    -0.540653    0.7527708   0.06545985  0.38173938 -0.59338933\n",
      "    -0.08885768 -0.7484174   0.06518805 -0.0794943  -1.0302216\n",
      "     1.2297944  -0.57280743 -0.02944666  0.466384    1.4877474\n",
      "    -0.5524576   0.10193166  0.28188813 -0.32891408 -0.5453817\n",
      "     0.11537105  0.9191765 ]\n",
      "   [-0.744256    0.84860975 -0.23840299  1.2831665   0.28271124\n",
      "     0.12217765 -0.30792543 -0.00382918  0.18326329 -0.60353404\n",
      "    -0.5759614   0.6777829  -0.7366532   0.8947562   0.934778\n",
      "    -1.0111717  -0.07831566 -0.64069563 -1.4537498  -1.3975041\n",
      "    -1.6250954   0.14136893  0.9330588   0.75660527 -0.4122067\n",
      "     0.61318785  0.7171801   0.60563076 -1.0854374  -0.9993576\n",
      "    -0.24736848  0.26093554]]\n",
      "\n",
      "  [[ 0.6974818  -0.11565554  0.20734245  1.5678617   0.04437435\n",
      "     0.0828703   0.93008214 -0.84388983 -0.45585522  0.14291641\n",
      "    -0.12997729  0.47879317 -1.6175753  -0.90342516 -0.9128754\n",
      "     0.5173915   0.40849894  0.40233392  0.9349899   0.17965652\n",
      "     0.01188828  0.30738705  0.05485716 -0.52111495 -0.42814595\n",
      "    -0.13851616  0.54429317 -0.18280208 -0.17628014 -0.19956589\n",
      "    -0.42937165 -0.32516336]\n",
      "   [ 1.1147761  -0.69799435 -0.4060661  -0.6462839  -1.7214583\n",
      "     1.2981695   1.1262141  -0.5014486  -0.03010166  0.14480901\n",
      "     0.31602222  1.0550282   0.19897413 -0.1292022  -0.17031573\n",
      "    -0.47467214 -1.5283225   0.08160953 -0.02406961  0.4645767\n",
      "     0.81745976  0.26931497  0.01009809  1.7882137   2.4300861\n",
      "     0.09791481 -0.7835407  -0.47484186 -0.49152943  1.4591628\n",
      "    -0.20447049  0.5821501 ]\n",
      "   [ 0.7401365  -0.20663963  0.13450225  1.2515928  -0.20599666\n",
      "     0.2700898   0.92803    -0.797551   -0.38437387  0.10759279\n",
      "    -0.06819138  0.5585257  -1.3730757  -0.7841821  -0.83485967\n",
      "     0.356691    0.12375742  0.37113643  0.8036657   0.23583455\n",
      "     0.09935398  0.30658564  0.03700852 -0.17594981 -0.04875094\n",
      "    -0.12952541  0.34211555 -0.21462893 -0.21660672  0.03901631\n",
      "    -0.38890198 -0.17112929]\n",
      "   [ 0.5450478  -0.39768568  0.27195522  0.9621095  -0.40946183\n",
      "     0.6296498   0.5108689  -0.79070795 -0.17162278 -0.41634968\n",
      "    -0.03816697  0.5959129  -1.3561347  -0.5555263  -1.150889\n",
      "    -0.05273697 -0.24854371  0.54443574  0.76174676  0.5010582\n",
      "    -0.20182022  0.3698938  -0.13754411  0.3513022  -0.10030335\n",
      "    -0.4635631  -0.01571664 -0.10718879 -0.18855247  0.28016835\n",
      "    -0.23660493  0.3073225 ]]]], shape=(1, 4, 4, 32), dtype=float32)\n",
      "(1, 4, 128)\n"
     ]
    }
   ],
   "source": [
    "x = tf.constant(np.random.randn(1,4,128)) # (문장수, 단어수, dmodel)\n",
    "\n",
    "mask = create_padding_mask(tf.constant([[1, 23, 777, 0]]))  # (1,1,1,4)\n",
    "\n",
    "outputs = MultiHeadAttention(128,4)({ 'query':x, 'key':x, 'value':x, 'mask':mask })\n",
    "print(outputs.shape)"
   ]
  },
  {
   "cell_type": "code",
   "execution_count": 86,
   "metadata": {},
   "outputs": [
    {
     "name": "stdout",
     "output_type": "stream",
     "text": [
      "[[ 1.  2.]\n",
      " [ 3.  4.]\n",
      " [ 5.  6.]\n",
      " [ 7.  8.]\n",
      " [ 9. 10.]]\n",
      "tf.Tensor(\n",
      "[[ 0.    2.5 ]\n",
      " [ 3.75  5.  ]\n",
      " [ 6.25  0.  ]\n",
      " [ 8.75 10.  ]\n",
      " [11.25 12.5 ]], shape=(5, 2), dtype=float32)\n"
     ]
    }
   ],
   "source": [
    "# Dropout: 보통 10~50%\n",
    "# tf.random.set_seed(0) # set_seed()안하면 랜덤하게 지운다.\n",
    "layer = tf.keras.layers.Dropout(.2, input_shape=(2,)) # 0.2(20%)만큼 지운다\n",
    "data = np.arange(1,11).reshape(5, 2).astype(np.float32)\n",
    "print(data)\n",
    "\n",
    "outputs = layer(data, training=True) # 트레이닝 시\n",
    "print(outputs) # 5개 중 하나를 지운다.\n",
    "# outputs = layer(data, training=False) # 추론 시"
   ]
  },
  {
   "cell_type": "code",
   "execution_count": 96,
   "metadata": {},
   "outputs": [
    {
     "name": "stdout",
     "output_type": "stream",
     "text": [
      "tf.Tensor(\n",
      "[[  0.  10.  20.  30.]\n",
      " [ 40.  50.  60.  70.]\n",
      " [ 80.  90. 100. 110.]\n",
      " [120. 130. 140. 150.]\n",
      " [160. 170. 180. 190.]\n",
      " [200. 210. 220. 230.]\n",
      " [240. 250. 260. 270.]\n",
      " [280. 290. 300. 310.]], shape=(8, 4), dtype=float32)\n",
      "[ 15.  55.  95. 135. 175. 215. 255. 295.] [11.18034 11.18034 11.18034 11.18034 11.18034 11.18034 11.18034 11.18034]\n",
      "<tf.Variable 'layer_normalization_7/beta:0' shape=(4,) dtype=float32, numpy=array([0., 0., 0., 0.], dtype=float32)>\n",
      "<tf.Variable 'layer_normalization_7/gamma:0' shape=(4,) dtype=float32, numpy=array([1., 1., 1., 1.], dtype=float32)>\n",
      "tf.Tensor(\n",
      "[[-1.3416353 -0.4472118  0.4472118  1.3416353]\n",
      " [-1.3416353 -0.4472118  0.4472118  1.3416353]\n",
      " [-1.3416353 -0.4472118  0.4472118  1.3416353]\n",
      " [-1.3416353 -0.4472118  0.4472118  1.3416353]\n",
      " [-1.3416353 -0.4472118  0.4472118  1.3416353]\n",
      " [-1.3416353 -0.4472118  0.4472118  1.3416353]\n",
      " [-1.3416353 -0.4472118  0.4472118  1.3416353]\n",
      " [-1.3416353 -0.4472118  0.4472118  1.3416353]], shape=(8, 4), dtype=float32)\n",
      "[-0.00000003 -0.00000003 -0.00000003 -0.00000003 -0.00000003 -0.00000003\n",
      " -0.00000003 -0.00000003] [0.99999595 0.99999595 0.99999595 0.99999595 0.99999595 0.99999595\n",
      " 0.99999595 0.99999595]\n"
     ]
    }
   ],
   "source": [
    "# Layer Normalization\n",
    "data = tf.constant(np.arange(32).reshape(8, 4) * 10, dtype=tf.float32)\n",
    "print(data)\n",
    "\n",
    "# 평균\n",
    "m = np.mean(data.numpy(), axis=1)\n",
    "# 표준편차\n",
    "s = np.std(data.numpy(), axis=1)\n",
    "print(m,s) # 45.0, 28.722813\n",
    "\n",
    "layer = tf.keras.layers.LayerNormalization(axis=1)\n",
    "output = layer(data)\n",
    "print(layer.beta) # default 평균 0\n",
    "print(layer.gamma) # default 표준편차 1\n",
    "print(output) # 값이 일정해짐 값 - 평균 / 표준편차 ex) 40 - 55 / 11.18034 = -1.3416\n",
    "\n",
    "m = np.mean(output.numpy(), axis=1)\n",
    "s = np.std(output.numpy(), axis=1)\n",
    "print(m,s) # 평균 0, 표준편차 1에 수렴"
   ]
  },
  {
   "cell_type": "code",
   "execution_count": 102,
   "metadata": {},
   "outputs": [
    {
     "name": "stdout",
     "output_type": "stream",
     "text": [
      "744.2\n",
      "697530.5599999999\n",
      "[ 0.43918521  1.76703799 -0.53185952 -0.84316855 -0.83119513]\n",
      "0.0\n",
      "0.9999999999999283\n",
      "0.0\n",
      "0.9999999999999283\n"
     ]
    }
   ],
   "source": [
    "# Normalization Scaling - beta, gamma\n",
    "\n",
    "x_i = np.array([1,2,3,4,5])\n",
    "x_i = np.array([1111,2220,300,40,50])\n",
    "k = len(x_i)\n",
    "mean_i = sum(x_i[j] for j in range(k)) / k\n",
    "print(mean_i) # 3.0\n",
    "var_i = sum((x_i[j] - mean_i) ** 2 for j in range(k)) / k # 분산 = 증폭된 합 / k\n",
    "print(var_i) # 2.0\n",
    "\n",
    "# Normalization\n",
    "x_i_normalized = (x_i - mean_i) / np.sqrt(var_i + 0.0000001)\n",
    "print(x_i_normalized)\n",
    "print(np.mean(x_i_normalized)) # 평균 4.4408920985006264e-17 = 0에 수렴\n",
    "print(np.std(x_i_normalized)) # 표준편차 0.999999975000001 = 1에 수렴\n",
    "\n",
    "# default\n",
    "# gamma = 1\n",
    "# beta = 0\n",
    "\n",
    "# 학습을 통해 최적의 gamma, beta로 조정\n",
    "gamma = 2\n",
    "beta = 3\n",
    "\n",
    "output_i = x_i_normalized * gamma + beta\n",
    "print(np.mean(x_i_normalized)) \n",
    "print(np.std(x_i_normalized))\n"
   ]
  },
  {
   "cell_type": "code",
   "execution_count": 104,
   "metadata": {},
   "outputs": [],
   "source": [
    "# dff: affine(feedforward netwowrk) 은닉층의 뉴런수\n",
    "def encoder_layer(dff, d_model, num_heads, dropout, name=\"encoder_layer\"):\n",
    "    inputs = tf.keras.Input(shape=(None, d_model), name=\"inputs\")   # (None,None,128)\n",
    "\n",
    "    # 인코더는 패딩 마스크 사용\n",
    "    padding_mask = tf.keras.Input(shape=(1, 1, None), name=\"padding_mask\")  # (None,1,1,None)\n",
    "\n",
    "    # 멀티-헤드 어텐션 (첫번째 서브층 / 셀프 어텐션)\n",
    "    attention = MultiHeadAttention(\n",
    "        d_model, num_heads, name=\"attention\")({\n",
    "            'query': inputs, 'key': inputs, 'value': inputs, # Q = K = V\n",
    "            'mask': padding_mask # 패딩 마스크 사용\n",
    "        })       \n",
    "    \n",
    "#     print('attention.shape=', attention.shape)  # (64,40,128)\n",
    "\n",
    "    # 드롭아웃(Dropout) + 잔차 연결(Residual Connection)과 층 정규화(Layer Normalization)\n",
    "    attention = tf.keras.layers.Dropout(rate=dropout)(attention)\n",
    "#     print('attention.shape=', attention.shape)  # (64,40,128)\n",
    "    attention = tf.keras.layers.LayerNormalization(\n",
    "        epsilon=1e-6)(inputs + attention)  # 잔차 연결: (64,40,128) + (64,40,128)\n",
    "    \n",
    "#     print('attention.shape=', attention.shape)\n",
    "\n",
    "    # 포지션 와이즈 피드 포워드 신경망 (두번째 서브층)\n",
    "    outputs = tf.keras.layers.Dense(units=dff, activation='relu')(attention)  # (N=64,T=40,H=128)(128,512)=>(64,40,512)\n",
    "    outputs = tf.keras.layers.Dense(units=d_model)(outputs)  # (64,40,512)(512,128)=>(64,40,128)\n",
    "\n",
    "    # 드롭아웃 + 잔차 연결과 층 정규화\n",
    "    outputs = tf.keras.layers.Dropout(rate=dropout)(outputs)\n",
    "    outputs = tf.keras.layers.LayerNormalization(\n",
    "        epsilon=1e-6)(attention + outputs)  # 잔차 연결: (64,40,128) + (64,40,128)\n",
    "    \n",
    "    # 함수형 API: Model 내 Layers\n",
    "    return tf.keras.Model(\n",
    "        inputs=[inputs, padding_mask], outputs=outputs, name=name)"
   ]
  },
  {
   "cell_type": "code",
   "execution_count": 105,
   "metadata": {},
   "outputs": [],
   "source": [
    "# encoder: Embedding + Positional Encoding + encoder_layer를 여러층 쌓은 구조\n",
    "def encoder(vocab_size, num_layers, dff,\n",
    "            d_model, num_heads, dropout,\n",
    "            name=\"encoder\"):\n",
    "    inputs = tf.keras.Input(shape=(None,), name=\"inputs\")\n",
    "\n",
    "#     print(\"inputs.shape=\",inputs.shape)  # (None,None)\n",
    "    # 인코더는 패딩 마스크 사용\n",
    "    padding_mask = tf.keras.Input(shape=(1, 1, None), name=\"padding_mask\") # (None,1,1,None)\n",
    "#     print(\"padding_mask.shape=\",padding_mask.shape)\n",
    "\n",
    "    # 포지셔널 인코딩 + 드롭아웃                                          # Input data: (N,T)\n",
    "    embeddings = tf.keras.layers.Embedding(vocab_size, d_model)(inputs)   # (9000,128) => (N,T,D)\n",
    "    embeddings *= tf.math.sqrt(tf.cast(d_model, tf.float32))              # (64,40,128)\n",
    "    embeddings = PositionalEncoding(vocab_size, d_model)(embeddings)      # (64,40,128)\n",
    "    outputs = tf.keras.layers.Dropout(rate=dropout)(embeddings)\n",
    "\n",
    "    # 인코더를 num_layers개 쌓기\n",
    "    for i in range(num_layers):\n",
    "        outputs = encoder_layer(dff=dff, d_model=d_model, num_heads=num_heads,\n",
    "          dropout=dropout, name=\"encoder_layer_{}\".format(i),\n",
    "      )([outputs, padding_mask])\n",
    "#         print('outputs.shape=',outputs.shape)\n",
    "\n",
    "    return tf.keras.Model(\n",
    "        inputs=[inputs, padding_mask], outputs=outputs, name=name)"
   ]
  },
  {
   "cell_type": "code",
   "execution_count": 90,
   "metadata": {},
   "outputs": [
    {
     "name": "stdout",
     "output_type": "stream",
     "text": [
      "(64, 40)\n",
      "(64, 1, 1, 40)\n",
      "(64, 40, 128)\n"
     ]
    }
   ],
   "source": [
    "# 인코더의 테스트\n",
    "\n",
    "# 인코더의 입력\n",
    "x = tf.constant(np.arange(64*40).reshape(64,40))  # (N,T)\n",
    "print(x.shape)\n",
    "\n",
    "# 인코더의 패딩 마스크 - Lambda가 create_padding_mask() 호출\n",
    "enc_padding_mask = tf.keras.layers.Lambda(\n",
    "    create_padding_mask, output_shape=(1, 1, 40),\n",
    "    name='enc_padding_mask')(x)\n",
    "\n",
    "print(enc_padding_mask.shape) # (N, 1, 1, T)\n",
    "\n",
    "# 인코더의 출력은 enc_outputs. 디코더로 전달된다.\n",
    "enc_outputs = encoder(vocab_size=9000, num_layers=2, dff=512,\n",
    "    d_model=128, num_heads=4, dropout=0.2,)(inputs=[x, enc_padding_mask]) # 인코더의 입력은 입력 문장과 패딩 마스크\n",
    "\n",
    "print(enc_outputs.shape) # (N, T, H)"
   ]
  },
  {
   "cell_type": "code",
   "execution_count": 109,
   "metadata": {},
   "outputs": [
    {
     "name": "stdout",
     "output_type": "stream",
     "text": [
      "tf.Tensor(\n",
      "[[1. 1. 1. 1. 1.]\n",
      " [1. 1. 1. 1. 1.]\n",
      " [1. 1. 1. 1. 1.]\n",
      " [1. 1. 1. 1. 1.]\n",
      " [1. 1. 1. 1. 1.]], shape=(5, 5), dtype=float32)\n",
      "tf.Tensor(\n",
      "[[1. 0. 0. 0. 0.]\n",
      " [1. 1. 0. 0. 0.]\n",
      " [1. 1. 1. 0. 0.]\n",
      " [1. 1. 1. 1. 0.]\n",
      " [1. 1. 1. 1. 1.]], shape=(5, 5), dtype=float32)\n",
      "tf.Tensor(\n",
      "[[0. 1. 1. 1. 1.]\n",
      " [0. 0. 1. 1. 1.]\n",
      " [0. 0. 0. 1. 1.]\n",
      " [0. 0. 0. 0. 1.]\n",
      " [0. 0. 0. 0. 0.]], shape=(5, 5), dtype=float32)\n"
     ]
    }
   ],
   "source": [
    "seq_len=5\n",
    "a = tf.ones((seq_len, seq_len))\n",
    "print(a)\n",
    "print(tf.linalg.band_part(a, -1, 0))\n",
    "print(1-tf.linalg.band_part(a, -1, 0))"
   ]
  },
  {
   "cell_type": "code",
   "execution_count": 112,
   "metadata": {},
   "outputs": [],
   "source": [
    "def create_look_ahead_mask(x):\n",
    "    seq_len = tf.shape(x)[1]\n",
    "    print(seq_len)  # 5\n",
    "    look_ahead_mask = 1 - tf.linalg.band_part(tf.ones((seq_len, seq_len)), -1, 0)\n",
    "    padding_mask = create_padding_mask(x) # 패딩 마스크도 포함\n",
    "    return tf.maximum(look_ahead_mask, padding_mask)\n",
    "#     return look_ahead_mask"
   ]
  },
  {
   "cell_type": "code",
   "execution_count": 114,
   "metadata": {},
   "outputs": [
    {
     "name": "stdout",
     "output_type": "stream",
     "text": [
      "tf.Tensor(5, shape=(), dtype=int32)\n",
      "tf.Tensor(\n",
      "[[[[0. 1. 1. 1. 1.]\n",
      "   [0. 0. 1. 1. 1.]\n",
      "   [0. 0. 0. 1. 1.]\n",
      "   [0. 0. 0. 1. 1.]\n",
      "   [0. 0. 0. 1. 1.]]]], shape=(1, 1, 5, 5), dtype=float32)\n"
     ]
    }
   ],
   "source": [
    "print(create_look_ahead_mask(tf.constant([[5, 4, 1, 0, 0]])))  # (N,T) => (1,5)"
   ]
  },
  {
   "cell_type": "code",
   "execution_count": 115,
   "metadata": {},
   "outputs": [],
   "source": [
    "def decoder_layer(dff, d_model, num_heads, dropout, name=\"decoder_layer\"):\n",
    "    inputs = tf.keras.Input(shape=(None, d_model), name=\"inputs\")\n",
    "    enc_outputs = tf.keras.Input(shape=(None, d_model), name=\"encoder_outputs\")\n",
    "\n",
    "    # 디코더는 룩어헤드 마스크(첫번째 서브층)와 패딩 마스크(두번째 서브층) 둘 다 사용.\n",
    "    look_ahead_mask = tf.keras.Input(\n",
    "        shape=(1, None, None), name=\"look_ahead_mask\")\n",
    "    padding_mask = tf.keras.Input(shape=(1, 1, None), name='padding_mask')\n",
    "\n",
    "    # 멀티-헤드 어텐션 (첫번째 서브층 / 마스크드 셀프 어텐션)\n",
    "    attention1 = MultiHeadAttention(\n",
    "        d_model, num_heads, name=\"attention_1\")(inputs={\n",
    "            'query': inputs, 'key': inputs, 'value': inputs, # Q = K = V\n",
    "            'mask': look_ahead_mask # 룩어헤드 마스크\n",
    "        })\n",
    "\n",
    "    # 잔차 연결과 층 정규화\n",
    "    attention1 = tf.keras.layers.LayerNormalization(\n",
    "        epsilon=1e-6)(attention1 + inputs)\n",
    "\n",
    "    # 멀티-헤드 어텐션 (두번째 서브층 / 디코더-인코더 어텐션)\n",
    "    attention2 = MultiHeadAttention(\n",
    "        d_model, num_heads, name=\"attention_2\")(inputs={\n",
    "            'query': attention1, 'key': enc_outputs, 'value': enc_outputs, # Q != K = V\n",
    "            'mask': padding_mask # 패딩 마스크\n",
    "        })\n",
    "\n",
    "    # 드롭아웃 + 잔차 연결과 층 정규화\n",
    "    attention2 = tf.keras.layers.Dropout(rate=dropout)(attention2)\n",
    "    attention2 = tf.keras.layers.LayerNormalization(\n",
    "        epsilon=1e-6)(attention2 + attention1)\n",
    "\n",
    "    # 포지션 와이즈 피드 포워드 신경망 (세번째 서브층)\n",
    "    outputs = tf.keras.layers.Dense(units=dff, activation='relu')(attention2)\n",
    "    outputs = tf.keras.layers.Dense(units=d_model)(outputs)\n",
    "\n",
    "    # 드롭아웃 + 잔차 연결과 층 정규화\n",
    "    outputs = tf.keras.layers.Dropout(rate=dropout)(outputs)\n",
    "    outputs = tf.keras.layers.LayerNormalization(\n",
    "        epsilon=1e-6)(outputs + attention2)\n",
    "\n",
    "    return tf.keras.Model(\n",
    "        inputs=[inputs, enc_outputs, look_ahead_mask, padding_mask],\n",
    "        outputs=outputs,\n",
    "        name=name)"
   ]
  },
  {
   "cell_type": "code",
   "execution_count": 116,
   "metadata": {},
   "outputs": [],
   "source": [
    "def decoder(vocab_size, num_layers, dff,\n",
    "            d_model, num_heads, dropout,\n",
    "            name='decoder'):\n",
    "    inputs = tf.keras.Input(shape=(None,), name='inputs')\n",
    "    enc_outputs = tf.keras.Input(shape=(None, d_model), name='encoder_outputs')\n",
    "\n",
    "    # 디코더는 룩어헤드 마스크(첫번째 서브층)와 패딩 마스크(두번째 서브층) 둘 다 사용.\n",
    "    look_ahead_mask = tf.keras.Input(\n",
    "        shape=(1, None, None), name='look_ahead_mask')\n",
    "    padding_mask = tf.keras.Input(shape=(1, 1, None), name='padding_mask')\n",
    "\n",
    "    # 포지셔널 인코딩 + 드롭아웃\n",
    "    embeddings = tf.keras.layers.Embedding(vocab_size, d_model)(inputs)\n",
    "    embeddings *= tf.math.sqrt(tf.cast(d_model, tf.float32))\n",
    "    embeddings = PositionalEncoding(vocab_size, d_model)(embeddings)\n",
    "    outputs = tf.keras.layers.Dropout(rate=dropout)(embeddings)\n",
    "\n",
    "    # 디코더를 num_layers개 쌓기\n",
    "    for i in range(num_layers):\n",
    "        outputs = decoder_layer(dff=dff, d_model=d_model, num_heads=num_heads,\n",
    "            dropout=dropout, name='decoder_layer_{}'.format(i),\n",
    "        )(inputs=[outputs, enc_outputs, look_ahead_mask, padding_mask])\n",
    "\n",
    "    return tf.keras.Model(\n",
    "        inputs=[inputs, enc_outputs, look_ahead_mask, padding_mask],\n",
    "        outputs=outputs,\n",
    "        name=name)"
   ]
  },
  {
   "cell_type": "code",
   "execution_count": 117,
   "metadata": {},
   "outputs": [],
   "source": [
    "def transformer(vocab_size, num_layers, dff,\n",
    "                  d_model, num_heads, dropout,\n",
    "                  name=\"transformer\"):\n",
    "\n",
    "    # 인코더의 입력\n",
    "    inputs = tf.keras.Input(shape=(None,), name=\"inputs\")\n",
    "\n",
    "    # 디코더의 입력\n",
    "    dec_inputs = tf.keras.Input(shape=(None,), name=\"dec_inputs\")\n",
    "\n",
    "    # 인코더의 패딩 마스크\n",
    "    enc_padding_mask = tf.keras.layers.Lambda(\n",
    "        create_padding_mask, output_shape=(1, 1, None),\n",
    "        name='enc_padding_mask')(inputs)\n",
    "\n",
    "    # 디코더의 룩어헤드 마스크(첫번째 서브층)\n",
    "    look_ahead_mask = tf.keras.layers.Lambda(\n",
    "        create_look_ahead_mask, output_shape=(1, None, None),\n",
    "        name='look_ahead_mask')(dec_inputs)\n",
    "\n",
    "    # 디코더의 패딩 마스크(두번째 서브층)\n",
    "    dec_padding_mask = tf.keras.layers.Lambda(\n",
    "        create_padding_mask, output_shape=(1, 1, None),\n",
    "        name='dec_padding_mask')(inputs)\n",
    "\n",
    "    # 인코더의 출력은 enc_outputs. 디코더로 전달된다.\n",
    "    enc_outputs = encoder(vocab_size=vocab_size, num_layers=num_layers, dff=dff,\n",
    "        d_model=d_model, num_heads=num_heads, dropout=dropout,\n",
    "    )(inputs=[inputs, enc_padding_mask]) # 인코더의 입력은 입력 문장과 패딩 마스크\n",
    "\n",
    "    # 디코더의 출력은 dec_outputs. 출력층으로 전달된다.\n",
    "    dec_outputs = decoder(vocab_size=vocab_size, num_layers=num_layers, dff=dff,\n",
    "        d_model=d_model, num_heads=num_heads, dropout=dropout,\n",
    "    )(inputs=[dec_inputs, enc_outputs, look_ahead_mask, dec_padding_mask])\n",
    "\n",
    "    # 다음 단어 예측을 위한 출력층\n",
    "    outputs = tf.keras.layers.Dense(units=vocab_size, name=\"outputs\")(dec_outputs)\n",
    "\n",
    "    return tf.keras.Model(inputs=[inputs, dec_inputs], outputs=outputs, name=name)"
   ]
  },
  {
   "cell_type": "code",
   "execution_count": 118,
   "metadata": {},
   "outputs": [
    {
     "name": "stdout",
     "output_type": "stream",
     "text": [
      "Tensor(\"look_ahead_mask/strided_slice:0\", shape=(), dtype=int32)\n"
     ]
    },
    {
     "data": {
      "image/png": "[encoded data removed]",
      "text/plain": [
       "<IPython.core.display.Image object>"
      ]
     },
     "execution_count": 118,
     "metadata": {},
     "output_type": "execute_result"
    }
   ],
   "source": [
    "small_transformer = transformer(\n",
    "    vocab_size = 9000,\n",
    "    num_layers = 4,\n",
    "    dff = 512,\n",
    "    d_model = 128,\n",
    "    num_heads = 4,\n",
    "    dropout = 0.3,\n",
    "    name=\"small_transformer\")\n",
    "\n",
    "tf.keras.utils.plot_model(\n",
    "    small_transformer, to_file='small_transformer.png', show_shapes=True)"
   ]
  },
  {
   "cell_type": "code",
   "execution_count": 119,
   "metadata": {},
   "outputs": [],
   "source": [
    "def loss_function(y_true, y_pred):\n",
    "    y_true = tf.reshape(y_true, shape=(-1, MAX_LENGTH - 1))\n",
    "\n",
    "    loss = tf.keras.losses.SparseCategoricalCrossentropy(\n",
    "        from_logits=True, reduction='none')(y_true, y_pred)\n",
    "\n",
    "    mask = tf.cast(tf.not_equal(y_true, 0), tf.float32)\n",
    "    loss = tf.multiply(loss, mask)\n",
    "\n",
    "    return tf.reduce_mean(loss)"
   ]
  },
  {
   "cell_type": "code",
   "execution_count": 120,
   "metadata": {
    "scrolled": false
   },
   "outputs": [
    {
     "data": {
      "text/plain": [
       "Text(0.5, 0, 'Train Step')"
      ]
     },
     "execution_count": 120,
     "metadata": {},
     "output_type": "execute_result"
    },
    {
     "data": {
      "image/png": "[encoded data removed]",
      "text/plain": [
       "<Figure size 432x288 with 1 Axes>"
      ]
     },
     "metadata": {
      "needs_background": "light"
     },
     "output_type": "display_data"
    }
   ],
   "source": [
    "class CustomSchedule(tf.keras.optimizers.schedules.LearningRateSchedule):\n",
    "\n",
    "    def __init__(self, d_model, warmup_steps=4000):\n",
    "        super(CustomSchedule, self).__init__()\n",
    "        self.d_model = d_model\n",
    "        self.d_model = tf.cast(self.d_model, tf.float32)\n",
    "        self.warmup_steps = warmup_steps\n",
    "\n",
    "    def __call__(self, step):\n",
    "        arg1 = tf.math.rsqrt(step)\n",
    "        arg2 = step * (self.warmup_steps**-1.5)\n",
    "\n",
    "        return tf.math.rsqrt(self.d_model) * tf.math.minimum(arg1, arg2)\n",
    "sample_learning_rate = CustomSchedule(d_model=128)\n",
    "\n",
    "plt.plot(sample_learning_rate(tf.range(200000, dtype=tf.float32)))\n",
    "plt.ylabel(\"Learning Rate\")\n",
    "plt.xlabel(\"Train Step\")\n",
    "# Text(0.5, 0, 'Train Step')"
   ]
  },
  {
   "cell_type": "markdown",
   "metadata": {},
   "source": [
    "#### tensorflow_datasets 처음 설치 시"
   ]
  },
  {
   "cell_type": "code",
   "execution_count": 121,
   "metadata": {},
   "outputs": [
    {
     "name": "stdout",
     "output_type": "stream",
     "text": [
      "Requirement already satisfied: tensorflow_datasets in c:\\users\\jikim\\miniconda3\\lib\\site-packages (4.5.2)\n",
      "Requirement already satisfied: promise in c:\\users\\jikim\\miniconda3\\lib\\site-packages (from tensorflow_datasets) (2.3)\n",
      "Requirement already satisfied: protobuf>=3.12.2 in c:\\users\\jikim\\miniconda3\\lib\\site-packages (from tensorflow_datasets) (3.20.0)\n",
      "Requirement already satisfied: tqdm in c:\\users\\jikim\\miniconda3\\lib\\site-packages (from tensorflow_datasets) (4.62.3)\n",
      "Requirement already satisfied: requests>=2.19.0 in c:\\users\\jikim\\miniconda3\\lib\\site-packages (from tensorflow_datasets) (2.27.1)\n",
      "Requirement already satisfied: numpy in c:\\users\\jikim\\miniconda3\\lib\\site-packages (from tensorflow_datasets) (1.22.3)\n",
      "Requirement already satisfied: termcolor in c:\\users\\jikim\\miniconda3\\lib\\site-packages (from tensorflow_datasets) (1.1.0)\n",
      "Requirement already satisfied: dill in c:\\users\\jikim\\miniconda3\\lib\\site-packages (from tensorflow_datasets) (0.3.4)\n",
      "Requirement already satisfied: absl-py in c:\\users\\jikim\\miniconda3\\lib\\site-packages (from tensorflow_datasets) (1.0.0)\n",
      "Requirement already satisfied: six in c:\\users\\jikim\\miniconda3\\lib\\site-packages (from tensorflow_datasets) (1.16.0)\n",
      "Requirement already satisfied: tensorflow-metadata in c:\\users\\jikim\\miniconda3\\lib\\site-packages (from tensorflow_datasets) (1.7.0)\n",
      "Requirement already satisfied: urllib3<1.27,>=1.21.1 in c:\\users\\jikim\\miniconda3\\lib\\site-packages (from requests>=2.19.0->tensorflow_datasets) (1.26.7)\n",
      "Requirement already satisfied: idna<4,>=2.5 in c:\\users\\jikim\\miniconda3\\lib\\site-packages (from requests>=2.19.0->tensorflow_datasets) (3.3)\n",
      "Requirement already satisfied: certifi>=2017.4.17 in c:\\users\\jikim\\miniconda3\\lib\\site-packages (from requests>=2.19.0->tensorflow_datasets) (2021.10.8)\n",
      "Requirement already satisfied: charset-normalizer~=2.0.0 in c:\\users\\jikim\\miniconda3\\lib\\site-packages (from requests>=2.19.0->tensorflow_datasets) (2.0.4)\n",
      "Requirement already satisfied: googleapis-common-protos<2,>=1.52.0 in c:\\users\\jikim\\miniconda3\\lib\\site-packages (from tensorflow-metadata->tensorflow_datasets) (1.56.0)\n",
      "Requirement already satisfied: colorama in c:\\users\\jikim\\miniconda3\\lib\\site-packages (from tqdm->tensorflow_datasets) (0.4.4)\n"
     ]
    }
   ],
   "source": [
    "!pip install tensorflow_datasets "
   ]
  },
  {
   "cell_type": "markdown",
   "metadata": {},
   "source": [
    "#### tensorflow_datasets 업그레이드 시"
   ]
  },
  {
   "cell_type": "code",
   "execution_count": null,
   "metadata": {},
   "outputs": [],
   "source": [
    "!pip3 install --user --upgrade tensorflow_datasets"
   ]
  },
  {
   "cell_type": "code",
   "execution_count": 122,
   "metadata": {},
   "outputs": [],
   "source": [
    "import pandas as pd\n",
    "import numpy as np\n",
    "import matplotlib.pyplot as plt\n",
    "import re\n",
    "import urllib.request\n",
    "import time\n",
    "import tensorflow_datasets as tfds\n",
    "import tensorflow as tf"
   ]
  },
  {
   "cell_type": "code",
   "execution_count": 123,
   "metadata": {},
   "outputs": [
    {
     "name": "stdout",
     "output_type": "stream",
     "text": [
      "2.8.0\n"
     ]
    }
   ],
   "source": [
    "print(tf.__version__)"
   ]
  },
  {
   "cell_type": "code",
   "execution_count": 124,
   "metadata": {},
   "outputs": [
    {
     "name": "stdout",
     "output_type": "stream",
     "text": [
      "4.5.2\n"
     ]
    }
   ],
   "source": [
    "print(tfds.__version__)"
   ]
  },
  {
   "cell_type": "code",
   "execution_count": 125,
   "metadata": {},
   "outputs": [
    {
     "data": {
      "text/html": [
       "<div>\n",
       "<style scoped>\n",
       "    .dataframe tbody tr th:only-of-type {\n",
       "        vertical-align: middle;\n",
       "    }\n",
       "\n",
       "    .dataframe tbody tr th {\n",
       "        vertical-align: top;\n",
       "    }\n",
       "\n",
       "    .dataframe thead th {\n",
       "        text-align: right;\n",
       "    }\n",
       "</style>\n",
       "<table border=\"1\" class=\"dataframe\">\n",
       "  <thead>\n",
       "    <tr style=\"text-align: right;\">\n",
       "      <th></th>\n",
       "      <th>Q</th>\n",
       "      <th>A</th>\n",
       "      <th>label</th>\n",
       "    </tr>\n",
       "  </thead>\n",
       "  <tbody>\n",
       "    <tr>\n",
       "      <th>0</th>\n",
       "      <td>12시 땡!</td>\n",
       "      <td>하루가 또 가네요.</td>\n",
       "      <td>0</td>\n",
       "    </tr>\n",
       "    <tr>\n",
       "      <th>1</th>\n",
       "      <td>1지망 학교 떨어졌어</td>\n",
       "      <td>위로해 드립니다.</td>\n",
       "      <td>0</td>\n",
       "    </tr>\n",
       "    <tr>\n",
       "      <th>2</th>\n",
       "      <td>3박4일 놀러가고 싶다</td>\n",
       "      <td>여행은 언제나 좋죠.</td>\n",
       "      <td>0</td>\n",
       "    </tr>\n",
       "    <tr>\n",
       "      <th>3</th>\n",
       "      <td>3박4일 정도 놀러가고 싶다</td>\n",
       "      <td>여행은 언제나 좋죠.</td>\n",
       "      <td>0</td>\n",
       "    </tr>\n",
       "    <tr>\n",
       "      <th>4</th>\n",
       "      <td>PPL 심하네</td>\n",
       "      <td>눈살이 찌푸려지죠.</td>\n",
       "      <td>0</td>\n",
       "    </tr>\n",
       "  </tbody>\n",
       "</table>\n",
       "</div>"
      ],
      "text/plain": [
       "                 Q            A  label\n",
       "0           12시 땡!   하루가 또 가네요.      0\n",
       "1      1지망 학교 떨어졌어    위로해 드립니다.      0\n",
       "2     3박4일 놀러가고 싶다  여행은 언제나 좋죠.      0\n",
       "3  3박4일 정도 놀러가고 싶다  여행은 언제나 좋죠.      0\n",
       "4          PPL 심하네   눈살이 찌푸려지죠.      0"
      ]
     },
     "execution_count": 125,
     "metadata": {},
     "output_type": "execute_result"
    }
   ],
   "source": [
    "# urllib.request.urlretrieve(\"https://raw.githubusercontent.com/songys/Chatbot_data/master/ChatbotData%20.csv\", filename=\"ChatBotData.csv\")\n",
    "train_data = pd.read_csv('ChatBotData.csv')\n",
    "train_data.head()"
   ]
  },
  {
   "cell_type": "code",
   "execution_count": 126,
   "metadata": {},
   "outputs": [
    {
     "name": "stdout",
     "output_type": "stream",
     "text": [
      "챗봇 샘플의 개수 : 11823\n"
     ]
    }
   ],
   "source": [
    "print('챗봇 샘플의 개수 :', len(train_data))"
   ]
  },
  {
   "cell_type": "code",
   "execution_count": 127,
   "metadata": {},
   "outputs": [
    {
     "name": "stdout",
     "output_type": "stream",
     "text": [
      "Q        0\n",
      "A        0\n",
      "label    0\n",
      "dtype: int64\n"
     ]
    }
   ],
   "source": [
    "print(train_data.isnull().sum())"
   ]
  },
  {
   "cell_type": "code",
   "execution_count": 130,
   "metadata": {},
   "outputs": [
    {
     "name": "stdout",
     "output_type": "stream",
     "text": [
      "[12시 땡 !]\n"
     ]
    }
   ],
   "source": [
    "sentence = re.sub(r\"([?.!,])\", r\" \\1 \", \"   12시 땡!    \")\n",
    "sentence = sentence.strip()\n",
    "print(\"[%s]\"%sentence)"
   ]
  },
  {
   "cell_type": "code",
   "execution_count": 131,
   "metadata": {},
   "outputs": [],
   "source": [
    "questions = []\n",
    "for sentence in train_data['Q']:\n",
    "    # 구두점에 대해서 띄어쓰기\n",
    "    # ex) 12시 땡! -> 12시 땡 !\n",
    "    sentence = re.sub(r\"([?.!,])\", r\" \\1 \", sentence)\n",
    "    sentence = sentence.strip()\n",
    "    questions.append(sentence)\n",
    "answers = []\n",
    "for sentence in train_data['A']:\n",
    "    # 구두점에 대해서 띄어쓰기\n",
    "    # ex) 12시 땡! -> 12시 땡 !\n",
    "    sentence = re.sub(r\"([?.!,])\", r\" \\1 \", sentence)\n",
    "    sentence = sentence.strip()\n",
    "    answers.append(sentence)"
   ]
  },
  {
   "cell_type": "code",
   "execution_count": 132,
   "metadata": {},
   "outputs": [
    {
     "name": "stdout",
     "output_type": "stream",
     "text": [
      "['12시 땡 !', '1지망 학교 떨어졌어', '3박4일 놀러가고 싶다', '3박4일 정도 놀러가고 싶다', 'PPL 심하네']\n",
      "['하루가 또 가네요 .', '위로해 드립니다 .', '여행은 언제나 좋죠 .', '여행은 언제나 좋죠 .', '눈살이 찌푸려지죠 .']\n",
      "11823\n"
     ]
    }
   ],
   "source": [
    "print(questions[:5])\n",
    "print(answers[:5])\n",
    "print(len(questions))"
   ]
  },
  {
   "cell_type": "code",
   "execution_count": 134,
   "metadata": {},
   "outputs": [
    {
     "name": "stdout",
     "output_type": "stream",
     "text": [
      "8178\n"
     ]
    }
   ],
   "source": [
    "# 서브워드텍스트인코더를 사용하여 질문, 답변 데이터로부터 단어 집합(Vocabulary) 생성\n",
    "tokenizer = tfds.deprecated.text.SubwordTextEncoder.build_from_corpus(\n",
    "    questions + answers, target_vocab_size=2**13)\n",
    "print(tokenizer.vocab_size)"
   ]
  },
  {
   "cell_type": "code",
   "execution_count": 135,
   "metadata": {},
   "outputs": [],
   "source": [
    "# 시작 토큰과 종료 토큰에 대한 정수 부여.\n",
    "START_TOKEN, END_TOKEN = [tokenizer.vocab_size], [tokenizer.vocab_size + 1]\n",
    "\n",
    "# 시작 토큰과 종료 토큰을 고려하여 단어 집합의 크기를 + 2\n",
    "VOCAB_SIZE = tokenizer.vocab_size + 2"
   ]
  },
  {
   "cell_type": "code",
   "execution_count": 136,
   "metadata": {},
   "outputs": [
    {
     "name": "stdout",
     "output_type": "stream",
     "text": [
      "시작 토큰 번호 : [8178]\n",
      "종료 토큰 번호 : [8179]\n",
      "단어 집합의 크기 : 8180\n"
     ]
    }
   ],
   "source": [
    "print('시작 토큰 번호 :',START_TOKEN)\n",
    "print('종료 토큰 번호 :',END_TOKEN)\n",
    "print('단어 집합의 크기 :',VOCAB_SIZE)"
   ]
  },
  {
   "cell_type": "code",
   "execution_count": 138,
   "metadata": {},
   "outputs": [
    {
     "name": "stdout",
     "output_type": "stream",
     "text": [
      "가스비 비싼데 감기 걸리겠어\n",
      "임의의 질문 샘플을 정수 인코딩 : [5766, 611, 3509, 141, 685, 3747, 849]\n"
     ]
    }
   ],
   "source": [
    "# 서브워드텍스트인코더 토크나이저의 .encode()를 사용하여 텍스트 시퀀스를 정수 시퀀스로 변환.\n",
    "print(questions[20])\n",
    "print('임의의 질문 샘플을 정수 인코딩 : {}'.format(tokenizer.encode(questions[20])))"
   ]
  },
  {
   "cell_type": "code",
   "execution_count": 140,
   "metadata": {},
   "outputs": [
    {
     "name": "stdout",
     "output_type": "stream",
     "text": [
      "정수 인코딩 후의 문장 [5766, 611, 3509, 141, 685, 3747, 849]\n",
      "기존 문장: 가스비 비싼데 감기 걸리겠어\n"
     ]
    }
   ],
   "source": [
    "# 서브워드텍스트인코더 토크나이저의 .encode()와 .decode() 테스트해보기\n",
    "# 임의의 입력 문장을 sample_string에 저장\n",
    "sample_string = questions[20]\n",
    "\n",
    "# encode() : 텍스트 시퀀스 --> 정수 시퀀스\n",
    "tokenized_string = tokenizer.encode(sample_string)\n",
    "print ('정수 인코딩 후의 문장 {}'.format(tokenized_string))\n",
    "\n",
    "# decode() : 정수 시퀀스 --> 텍스트 시퀀스\n",
    "original_string = tokenizer.decode(tokenized_string)\n",
    "print ('기존 문장: {}'.format(original_string))"
   ]
  },
  {
   "cell_type": "code",
   "execution_count": 141,
   "metadata": {},
   "outputs": [
    {
     "name": "stdout",
     "output_type": "stream",
     "text": [
      "5766 ----> 가스\n",
      "611 ----> 비 \n",
      "3509 ----> 비싼\n",
      "141 ----> 데 \n",
      "685 ----> 감기 \n",
      "3747 ----> 걸리\n",
      "849 ----> 겠어\n"
     ]
    }
   ],
   "source": [
    "for ts in tokenized_string:\n",
    "    print ('{} ----> {}'.format(ts, tokenizer.decode([ts])))"
   ]
  },
  {
   "cell_type": "code",
   "execution_count": 142,
   "metadata": {},
   "outputs": [],
   "source": [
    "# 최대 길이를 40으로 정의\n",
    "MAX_LENGTH = 40\n",
    "\n",
    "# 토큰화 / 정수 인코딩 / 시작 토큰과 종료 토큰 추가 / 패딩\n",
    "def tokenize_and_filter(inputs, outputs):\n",
    "  tokenized_inputs, tokenized_outputs = [], []\n",
    "\n",
    "  for (sentence1, sentence2) in zip(inputs, outputs):\n",
    "#     print(sentence1)\n",
    "    # encode(토큰화 + 정수 인코딩), 시작 토큰과 종료 토큰 추가\n",
    "    sentence1 = START_TOKEN + tokenizer.encode(sentence1) + END_TOKEN\n",
    "    sentence2 = START_TOKEN + tokenizer.encode(sentence2) + END_TOKEN\n",
    "\n",
    "\n",
    "    tokenized_inputs.append(sentence1)\n",
    "    tokenized_outputs.append(sentence2)\n",
    "\n",
    "  # 패딩\n",
    "  tokenized_inputs = tf.keras.preprocessing.sequence.pad_sequences(\n",
    "      tokenized_inputs, maxlen=MAX_LENGTH, padding='post')\n",
    "  tokenized_outputs = tf.keras.preprocessing.sequence.pad_sequences(\n",
    "      tokenized_outputs, maxlen=MAX_LENGTH, padding='post')\n",
    "\n",
    "  print(tokenized_inputs[0])\n",
    "\n",
    "  return tokenized_inputs, tokenized_outputs"
   ]
  },
  {
   "cell_type": "code",
   "execution_count": 143,
   "metadata": {},
   "outputs": [
    {
     "name": "stdout",
     "output_type": "stream",
     "text": [
      "[8178 7915 4207 3060   41 8179    0    0    0    0    0    0    0    0\n",
      "    0    0    0    0    0    0    0    0    0    0    0    0    0    0\n",
      "    0    0    0    0    0    0    0    0    0    0    0    0]\n"
     ]
    }
   ],
   "source": [
    "questions, answers = tokenize_and_filter(questions, answers)"
   ]
  },
  {
   "cell_type": "code",
   "execution_count": 144,
   "metadata": {},
   "outputs": [
    {
     "name": "stdout",
     "output_type": "stream",
     "text": [
      "질문 데이터의 크기(shape) : (11823, 40)\n",
      "답변 데이터의 크기(shape) : (11823, 40)\n"
     ]
    }
   ],
   "source": [
    "print('질문 데이터의 크기(shape) :', questions.shape)\n",
    "print('답변 데이터의 크기(shape) :', answers.shape)"
   ]
  },
  {
   "cell_type": "code",
   "execution_count": 145,
   "metadata": {},
   "outputs": [
    {
     "name": "stdout",
     "output_type": "stream",
     "text": [
      "[8178 7915 4207 3060   41 8179    0    0    0    0    0    0    0    0\n",
      "    0    0    0    0    0    0    0    0    0    0    0    0    0    0\n",
      "    0    0    0    0    0    0    0    0    0    0    0    0]\n",
      "[8178 3844   74 7894    1 8179    0    0    0    0    0    0    0    0\n",
      "    0    0    0    0    0    0    0    0    0    0    0    0    0    0\n",
      "    0    0    0    0    0    0    0    0    0    0    0    0]\n"
     ]
    }
   ],
   "source": [
    "print(questions[0])\n",
    "print(answers[0])"
   ]
  },
  {
   "cell_type": "code",
   "execution_count": 146,
   "metadata": {},
   "outputs": [
    {
     "name": "stdout",
     "output_type": "stream",
     "text": [
      "[8178 3844   74 7894    1 8179    0    0    0    0    0    0    0    0\n",
      "    0    0    0    0    0    0    0    0    0    0    0    0    0    0\n",
      "    0    0    0    0    0    0    0    0    0    0    0    0]\n",
      "[[8178 3844   74 7894    1 8179    0    0    0    0    0    0    0    0\n",
      "     0    0    0    0    0    0    0    0    0    0    0    0    0    0\n",
      "     0    0    0    0    0    0    0    0    0    0    0]]\n",
      "[[3844   74 7894    1 8179    0    0    0    0    0    0    0    0    0\n",
      "     0    0    0    0    0    0    0    0    0    0    0    0    0    0\n",
      "     0    0    0    0    0    0    0    0    0    0    0]]\n"
     ]
    }
   ],
   "source": [
    "BATCH_SIZE = 64\n",
    "BUFFER_SIZE = 20000\n",
    "\n",
    "# 디코더의 실제값 시퀀스에서는 시작 토큰을 제거해야 한다.\n",
    "dataset = tf.data.Dataset.from_tensor_slices((\n",
    "    {\n",
    "        'inputs': questions,\n",
    "        'dec_inputs': answers[:, :-1] # 디코더의 입력. 마지막 패딩 토큰이 제거된다.\n",
    "    },\n",
    "    {\n",
    "        'outputs': answers[:, 1:]  # 맨 처음 토큰이 제거된다. 다시 말해 시작 토큰이 제거된다.\n",
    "    },\n",
    "))\n",
    "\n",
    "dataset = dataset.cache()\n",
    "dataset = dataset.shuffle(BUFFER_SIZE)\n",
    "dataset = dataset.batch(BATCH_SIZE)\n",
    "dataset = dataset.prefetch(tf.data.experimental.AUTOTUNE)\n",
    "# 임의의 샘플에 대해서 [:, :-1]과 [:, 1:]이 어떤 의미를 가지는지 테스트해본다.\n",
    "print(answers[0]) # 기존 샘플\n",
    "print(answers[:1][:, :-1]) # 마지막 패딩 토큰 제거하면서 길이가 39가 된다.\n",
    "print(answers[:1][:, 1:]) # 맨 처음 토큰이 제거된다. 다시 말해 시작 토큰이 제거된다. 길이는 역시 39가 된다."
   ]
  },
  {
   "cell_type": "code",
   "execution_count": 147,
   "metadata": {},
   "outputs": [
    {
     "name": "stdout",
     "output_type": "stream",
     "text": [
      "Tensor(\"look_ahead_mask/strided_slice:0\", shape=(), dtype=int32)\n"
     ]
    }
   ],
   "source": [
    "D_MODEL = 256\n",
    "NUM_LAYERS = 2\n",
    "NUM_HEADS = 8\n",
    "DFF = 512\n",
    "DROPOUT = 0.1\n",
    "\n",
    "model = transformer(\n",
    "    vocab_size=VOCAB_SIZE,\n",
    "    num_layers=NUM_LAYERS,\n",
    "    dff=DFF,\n",
    "    d_model=D_MODEL,\n",
    "    num_heads=NUM_HEADS,\n",
    "    dropout=DROPOUT)"
   ]
  },
  {
   "cell_type": "code",
   "execution_count": 148,
   "metadata": {},
   "outputs": [],
   "source": [
    "learning_rate = CustomSchedule(D_MODEL)\n",
    "\n",
    "optimizer = tf.keras.optimizers.Adam(\n",
    "    learning_rate, beta_1=0.9, beta_2=0.98, epsilon=1e-9)\n",
    "\n",
    "def accuracy(y_true, y_pred):\n",
    "  # 레이블의 크기는 (batch_size, MAX_LENGTH - 1)\n",
    "  y_true = tf.reshape(y_true, shape=(-1, MAX_LENGTH - 1))\n",
    "  return tf.keras.metrics.sparse_categorical_accuracy(y_true, y_pred)\n",
    "\n",
    "model.compile(optimizer=optimizer, loss=loss_function, metrics=[accuracy])"
   ]
  },
  {
   "cell_type": "code",
   "execution_count": 149,
   "metadata": {},
   "outputs": [
    {
     "name": "stdout",
     "output_type": "stream",
     "text": [
      "Epoch 1/50\n",
      "Tensor(\"transformer/look_ahead_mask/strided_slice:0\", shape=(), dtype=int32)\n",
      "Tensor(\"transformer/look_ahead_mask/strided_slice:0\", shape=(), dtype=int32)\n",
      "185/185 [==============================] - 25s 115ms/step - loss: 1.4561 - accuracy: 0.0241\n",
      "Epoch 2/50\n",
      "185/185 [==============================] - 22s 116ms/step - loss: 1.1783 - accuracy: 0.0496\n",
      "Epoch 3/50\n",
      "185/185 [==============================] - 22s 117ms/step - loss: 1.0042 - accuracy: 0.0509\n",
      "Epoch 4/50\n",
      "185/185 [==============================] - 21s 116ms/step - loss: 0.9288 - accuracy: 0.0545\n",
      "Epoch 5/50\n",
      "185/185 [==============================] - 21s 114ms/step - loss: 0.8699 - accuracy: 0.0577\n",
      "Epoch 6/50\n",
      "185/185 [==============================] - 22s 117ms/step - loss: 0.8107 - accuracy: 0.0619\n",
      "Epoch 7/50\n",
      "185/185 [==============================] - 21s 116ms/step - loss: 0.7440 - accuracy: 0.0678\n",
      "Epoch 8/50\n",
      "185/185 [==============================] - 21s 115ms/step - loss: 0.6711 - accuracy: 0.0756\n",
      "Epoch 9/50\n",
      "185/185 [==============================] - 21s 112ms/step - loss: 0.5929 - accuracy: 0.0840\n",
      "Epoch 10/50\n",
      "185/185 [==============================] - 21s 112ms/step - loss: 0.5109 - accuracy: 0.0933\n",
      "Epoch 11/50\n",
      "185/185 [==============================] - 19s 101ms/step - loss: 0.4287 - accuracy: 0.1035\n",
      "Epoch 12/50\n",
      "185/185 [==============================] - 21s 115ms/step - loss: 0.3482 - accuracy: 0.1146\n",
      "Epoch 13/50\n",
      "185/185 [==============================] - 22s 117ms/step - loss: 0.2736 - accuracy: 0.1255\n",
      "Epoch 14/50\n",
      "185/185 [==============================] - 21s 115ms/step - loss: 0.2090 - accuracy: 0.1353\n",
      "Epoch 15/50\n",
      "185/185 [==============================] - 22s 117ms/step - loss: 0.1554 - accuracy: 0.1446\n",
      "Epoch 16/50\n",
      "185/185 [==============================] - 22s 116ms/step - loss: 0.1116 - accuracy: 0.1528\n",
      "Epoch 17/50\n",
      "185/185 [==============================] - 22s 116ms/step - loss: 0.0818 - accuracy: 0.1582\n",
      "Epoch 18/50\n",
      "185/185 [==============================] - 21s 115ms/step - loss: 0.0629 - accuracy: 0.1615\n",
      "Epoch 19/50\n",
      "185/185 [==============================] - 22s 116ms/step - loss: 0.0517 - accuracy: 0.1636\n",
      "Epoch 20/50\n",
      "185/185 [==============================] - 21s 116ms/step - loss: 0.0466 - accuracy: 0.1641\n",
      "Epoch 21/50\n",
      "185/185 [==============================] - 21s 116ms/step - loss: 0.0438 - accuracy: 0.1646\n",
      "Epoch 22/50\n",
      "185/185 [==============================] - 22s 117ms/step - loss: 0.0403 - accuracy: 0.1651\n",
      "Epoch 23/50\n",
      "185/185 [==============================] - 19s 104ms/step - loss: 0.0365 - accuracy: 0.1662\n",
      "Epoch 24/50\n",
      "185/185 [==============================] - 22s 117ms/step - loss: 0.0318 - accuracy: 0.1673\n",
      "Epoch 25/50\n",
      "185/185 [==============================] - 22s 117ms/step - loss: 0.0277 - accuracy: 0.1683\n",
      "Epoch 26/50\n",
      "185/185 [==============================] - 22s 117ms/step - loss: 0.0253 - accuracy: 0.1688\n",
      "Epoch 27/50\n",
      "185/185 [==============================] - 19s 104ms/step - loss: 0.0223 - accuracy: 0.1696\n",
      "Epoch 28/50\n",
      "185/185 [==============================] - 22s 117ms/step - loss: 0.0206 - accuracy: 0.1700\n",
      "Epoch 29/50\n",
      "185/185 [==============================] - 20s 110ms/step - loss: 0.0183 - accuracy: 0.1706\n",
      "Epoch 30/50\n",
      "185/185 [==============================] - 22s 117ms/step - loss: 0.0171 - accuracy: 0.1708\n",
      "Epoch 31/50\n",
      "185/185 [==============================] - 19s 104ms/step - loss: 0.0154 - accuracy: 0.1712\n",
      "Epoch 32/50\n",
      "185/185 [==============================] - 22s 117ms/step - loss: 0.0142 - accuracy: 0.1716\n",
      "Epoch 33/50\n",
      "185/185 [==============================] - 22s 117ms/step - loss: 0.0132 - accuracy: 0.1719\n",
      "Epoch 34/50\n",
      "185/185 [==============================] - 20s 107ms/step - loss: 0.0123 - accuracy: 0.1721\n",
      "Epoch 35/50\n",
      "185/185 [==============================] - 22s 117ms/step - loss: 0.0117 - accuracy: 0.1723\n",
      "Epoch 36/50\n",
      "185/185 [==============================] - 19s 104ms/step - loss: 0.0109 - accuracy: 0.1724\n",
      "Epoch 37/50\n",
      "185/185 [==============================] - 21s 113ms/step - loss: 0.0107 - accuracy: 0.1726\n",
      "Epoch 38/50\n",
      "185/185 [==============================] - 22s 117ms/step - loss: 0.0094 - accuracy: 0.1729\n",
      "Epoch 39/50\n",
      "185/185 [==============================] - 19s 102ms/step - loss: 0.0087 - accuracy: 0.1730\n",
      "Epoch 40/50\n",
      "185/185 [==============================] - 22s 117ms/step - loss: 0.0085 - accuracy: 0.1731\n",
      "Epoch 41/50\n",
      "185/185 [==============================] - 19s 104ms/step - loss: 0.0084 - accuracy: 0.1731\n",
      "Epoch 42/50\n",
      "185/185 [==============================] - 19s 103ms/step - loss: 0.0078 - accuracy: 0.1732\n",
      "Epoch 43/50\n",
      "185/185 [==============================] - 22s 117ms/step - loss: 0.0077 - accuracy: 0.1733\n",
      "Epoch 44/50\n",
      "185/185 [==============================] - 19s 104ms/step - loss: 0.0070 - accuracy: 0.1734\n",
      "Epoch 45/50\n",
      "185/185 [==============================] - 22s 117ms/step - loss: 0.0066 - accuracy: 0.1735\n",
      "Epoch 46/50\n",
      "185/185 [==============================] - 22s 117ms/step - loss: 0.0068 - accuracy: 0.1735\n",
      "Epoch 47/50\n",
      "185/185 [==============================] - 19s 104ms/step - loss: 0.0064 - accuracy: 0.1735\n",
      "Epoch 48/50\n",
      "185/185 [==============================] - 20s 105ms/step - loss: 0.0061 - accuracy: 0.1736\n",
      "Epoch 49/50\n",
      "185/185 [==============================] - 22s 117ms/step - loss: 0.0059 - accuracy: 0.1737\n",
      "Epoch 50/50\n",
      "185/185 [==============================] - 19s 104ms/step - loss: 0.0055 - accuracy: 0.1737\n"
     ]
    },
    {
     "data": {
      "text/plain": [
       "<keras.callbacks.History at 0x1f65ab75910>"
      ]
     },
     "execution_count": 149,
     "metadata": {},
     "output_type": "execute_result"
    }
   ],
   "source": [
    "EPOCHS = 50\n",
    "model.fit(dataset, epochs=EPOCHS)"
   ]
  },
  {
   "cell_type": "code",
   "execution_count": 150,
   "metadata": {},
   "outputs": [],
   "source": [
    "def evaluate(sentence):\n",
    "  sentence = preprocess_sentence(sentence)\n",
    "\n",
    "  sentence = tf.expand_dims(\n",
    "      START_TOKEN + tokenizer.encode(sentence) + END_TOKEN, axis=0)\n",
    "\n",
    "  output = tf.expand_dims(START_TOKEN, 0)\n",
    "\n",
    "  # 디코더의 예측 시작\n",
    "  for i in range(MAX_LENGTH):\n",
    "    predictions = model(inputs=[sentence, output], training=False)\n",
    "\n",
    "    # 현재(마지막) 시점의 예측 단어를 받아온다.\n",
    "    predictions = predictions[:, -1:, :]\n",
    "    predicted_id = tf.cast(tf.argmax(predictions, axis=-1), tf.int32)\n",
    "\n",
    "    # 만약 마지막 시점의 예측 단어가 종료 토큰이라면 예측을 중단\n",
    "    if tf.equal(predicted_id, END_TOKEN[0]):\n",
    "      break\n",
    "\n",
    "    # 마지막 시점의 예측 단어를 출력에 연결한다.\n",
    "    # 이는 for문을 통해서 디코더의 입력으로 사용될 예정이다.\n",
    "    output = tf.concat([output, predicted_id], axis=-1)\n",
    "\n",
    "  return tf.squeeze(output, axis=0)\n",
    "def predict(sentence):\n",
    "  prediction = evaluate(sentence)\n",
    "\n",
    "  predicted_sentence = tokenizer.decode(\n",
    "      [i for i in prediction if i < tokenizer.vocab_size])\n",
    "\n",
    "  print('Input: {}'.format(sentence))\n",
    "  print('Output: {}'.format(predicted_sentence))\n",
    "\n",
    "  return predicted_sentence\n",
    "def preprocess_sentence(sentence):\n",
    "  sentence = re.sub(r\"([?.!,])\", r\" \\1 \", sentence)\n",
    "  sentence = sentence.strip()\n",
    "  return sentence"
   ]
  },
  {
   "cell_type": "code",
   "execution_count": 151,
   "metadata": {},
   "outputs": [
    {
     "name": "stdout",
     "output_type": "stream",
     "text": [
      "tf.Tensor(1, shape=(), dtype=int32)\n",
      "tf.Tensor(2, shape=(), dtype=int32)\n",
      "tf.Tensor(3, shape=(), dtype=int32)\n",
      "tf.Tensor(4, shape=(), dtype=int32)\n",
      "tf.Tensor(5, shape=(), dtype=int32)\n",
      "tf.Tensor(6, shape=(), dtype=int32)\n",
      "tf.Tensor(7, shape=(), dtype=int32)\n",
      "tf.Tensor(8, shape=(), dtype=int32)\n",
      "Input: 날씨가 좋넹.\n",
      "Output: 천천히 생각이 많아지기 때문일 거예요 .\n"
     ]
    }
   ],
   "source": [
    "output = predict(\"날씨가 좋넹.\")"
   ]
  },
  {
   "cell_type": "code",
   "execution_count": 152,
   "metadata": {},
   "outputs": [
    {
     "name": "stdout",
     "output_type": "stream",
     "text": [
      "tf.Tensor(1, shape=(), dtype=int32)\n",
      "tf.Tensor(2, shape=(), dtype=int32)\n",
      "tf.Tensor(3, shape=(), dtype=int32)\n",
      "tf.Tensor(4, shape=(), dtype=int32)\n",
      "tf.Tensor(5, shape=(), dtype=int32)\n",
      "tf.Tensor(6, shape=(), dtype=int32)\n",
      "tf.Tensor(7, shape=(), dtype=int32)\n",
      "tf.Tensor(8, shape=(), dtype=int32)\n",
      "tf.Tensor(9, shape=(), dtype=int32)\n",
      "tf.Tensor(10, shape=(), dtype=int32)\n",
      "tf.Tensor(11, shape=(), dtype=int32)\n",
      "tf.Tensor(12, shape=(), dtype=int32)\n",
      "tf.Tensor(13, shape=(), dtype=int32)\n",
      "tf.Tensor(14, shape=(), dtype=int32)\n",
      "tf.Tensor(15, shape=(), dtype=int32)\n",
      "tf.Tensor(16, shape=(), dtype=int32)\n",
      "tf.Tensor(17, shape=(), dtype=int32)\n",
      "Input: 고민이 있어\n",
      "Output: 생각을 종이에 끄젹여여 보는게 도움이 될 수도 있어요 .\n"
     ]
    }
   ],
   "source": [
    "output = predict(\"고민이 있어\")"
   ]
  },
  {
   "cell_type": "code",
   "execution_count": 153,
   "metadata": {},
   "outputs": [
    {
     "name": "stdout",
     "output_type": "stream",
     "text": [
      "tf.Tensor(1, shape=(), dtype=int32)\n",
      "tf.Tensor(2, shape=(), dtype=int32)\n",
      "tf.Tensor(3, shape=(), dtype=int32)\n",
      "tf.Tensor(4, shape=(), dtype=int32)\n",
      "tf.Tensor(5, shape=(), dtype=int32)\n",
      "tf.Tensor(6, shape=(), dtype=int32)\n",
      "tf.Tensor(7, shape=(), dtype=int32)\n",
      "tf.Tensor(8, shape=(), dtype=int32)\n",
      "Input: 너무 화가나\n",
      "Output: 그럴수록 당신이 힘들 거예요 .\n"
     ]
    }
   ],
   "source": [
    "output = predict(\"너무 화가나\")"
   ]
  },
  {
   "cell_type": "code",
   "execution_count": 154,
   "metadata": {},
   "outputs": [
    {
     "name": "stdout",
     "output_type": "stream",
     "text": [
      "tf.Tensor(1, shape=(), dtype=int32)\n",
      "tf.Tensor(2, shape=(), dtype=int32)\n",
      "tf.Tensor(3, shape=(), dtype=int32)\n",
      "tf.Tensor(4, shape=(), dtype=int32)\n",
      "tf.Tensor(5, shape=(), dtype=int32)\n",
      "Input: 카페갈래?\n",
      "Output: 카페 데이트 좋죠 .\n"
     ]
    }
   ],
   "source": [
    "output = predict(\"카페갈래?\")"
   ]
  },
  {
   "cell_type": "code",
   "execution_count": 155,
   "metadata": {},
   "outputs": [
    {
     "name": "stdout",
     "output_type": "stream",
     "text": [
      "tf.Tensor(1, shape=(), dtype=int32)\n",
      "tf.Tensor(2, shape=(), dtype=int32)\n",
      "tf.Tensor(3, shape=(), dtype=int32)\n",
      "tf.Tensor(4, shape=(), dtype=int32)\n",
      "tf.Tensor(5, shape=(), dtype=int32)\n",
      "tf.Tensor(6, shape=(), dtype=int32)\n",
      "tf.Tensor(7, shape=(), dtype=int32)\n",
      "tf.Tensor(8, shape=(), dtype=int32)\n",
      "tf.Tensor(9, shape=(), dtype=int32)\n",
      "tf.Tensor(10, shape=(), dtype=int32)\n",
      "Input: 게임하고싶당\n",
      "Output: 무슨 마음인지 알겠어서 더 마음이 아프네요 .\n"
     ]
    }
   ],
   "source": [
    "output = predict(\"게임하고싶당\")"
   ]
  },
  {
   "cell_type": "code",
   "execution_count": 156,
   "metadata": {},
   "outputs": [
    {
     "name": "stdout",
     "output_type": "stream",
     "text": [
      "tf.Tensor(1, shape=(), dtype=int32)\n",
      "tf.Tensor(2, shape=(), dtype=int32)\n",
      "tf.Tensor(3, shape=(), dtype=int32)\n",
      "tf.Tensor(4, shape=(), dtype=int32)\n",
      "Input: 게임하자\n",
      "Output: 게임하세요 !\n"
     ]
    }
   ],
   "source": [
    "output = predict(\"게임하자\")"
   ]
  },
  {
   "cell_type": "code",
   "execution_count": null,
   "metadata": {},
   "outputs": [],
   "source": []
  }
 ],
 "metadata": {
  "kernelspec": {
   "display_name": "Python 3 (ipykernel)",
   "language": "python",
   "name": "python3"
  },
  "language_info": {
   "codemirror_mode": {
    "name": "ipython",
    "version": 3
   },
   "file_extension": ".py",
   "mimetype": "text/x-python",
   "name": "python",
   "nbconvert_exporter": "python",
   "pygments_lexer": "ipython3",
   "version": "3.9.7"
  }
 },
 "nbformat": 4,
 "nbformat_minor": 4
}
