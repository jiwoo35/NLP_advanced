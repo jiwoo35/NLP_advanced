{
 "cells": [
  {
   "cell_type": "markdown",
   "metadata": {},
   "source": [
    "### 문장생성 구현"
   ]
  },
  {
   "cell_type": "code",
   "execution_count": 4,
   "metadata": {},
   "outputs": [
    {
     "name": "stdout",
     "output_type": "stream",
     "text": [
      "[3]\n"
     ]
    }
   ],
   "source": [
    "import numpy as np\n",
    "\n",
    "a = np.array([1,2,3,4,5,6,7,8,9,10])\n",
    "p = np.array([0.6,0.1,0.2,0.1,0,0,0,0,0,0])\n",
    "sampled = np.random.choice(len(a), size=1, p=p) # 랜덤 초이스 -> 다양한 문장 생성\n",
    "# sampled = np.array(np.argmax(p)).reshape(1) # 매번 0.6의 인덱스 0을 선택\n",
    "print(a[sampled])"
   ]
  },
  {
   "cell_type": "code",
   "execution_count": 21,
   "metadata": {},
   "outputs": [],
   "source": [
    "# coding: utf-8\n",
    "import sys\n",
    "sys.path.append('..')\n",
    "import numpy as np\n",
    "from common.functions import softmax\n",
    "from ch06.rnnlm import Rnnlm\n",
    "from ch06.better_rnnlm import BetterRnnlm\n",
    "\n",
    "class MyRnnlmGen(Rnnlm): # 상속\n",
    "    def generate(self, start_id, skip_ids=None, sample_size=100):\n",
    "        word_ids = [start_id]\n",
    "\n",
    "        x = start_id\n",
    "        while len(word_ids) < sample_size:\n",
    "            x = np.array(x).reshape(1, 1)\n",
    "            score = self.predict(x)\n",
    "#             print('score.shape=', score.shape)  # (1,1,10000) : 10000개의 voca 중 하나를 선택\n",
    "#             print('score=', score) # softmax 타기 전까지의 값\n",
    "#            break;\n",
    "            \n",
    "            \n",
    "            p = softmax(score.flatten())        # (10000,)\n",
    "#             print('p=',p)\n",
    "#             print('len(p)=', len(p))\n",
    "#             print('np.argmax(p)=', np.argmax(p))\n",
    "#             print('np.max(p)=', np.max(p))\n",
    "#             print(id_to_word[np.argmax(p)])\n",
    "#             break\n",
    "            \n",
    "\n",
    "            sampled = np.random.choice(len(p), size=1, p=p)\n",
    "#             sampled = np.array(np.argmax(p)).reshape(1)\n",
    "            print('sampled=',sampled)\n",
    "            print(id_to_word[np.argmax(p)][0])\n",
    "            break\n",
    "            \n",
    "        \n",
    "            if (skip_ids is None) or (sampled not in skip_ids): # <eos>와 같은 불용어는 건너뜀\n",
    "                x = sampled\n",
    "                word_ids.append(int(x))\n",
    "#             print(word_ids)\n",
    "        return word_ids\n",
    "\n",
    "    def get_state(self):\n",
    "        return self.lstm_layer.h, self.lstm_layer.c\n",
    "\n",
    "    def set_state(self, state):\n",
    "        self.lstm_layer.set_state(*state)\n",
    "\n",
    "\n",
    "class BetterRnnlmGen(BetterRnnlm):\n",
    "    def generate(self, start_id, skip_ids=None, sample_size=100):\n",
    "        word_ids = [start_id]\n",
    "\n",
    "        x = start_id\n",
    "        while len(word_ids) < sample_size:\n",
    "            x = np.array(x).reshape(1, 1)\n",
    "            score = self.predict(x).flatten()\n",
    "            p = softmax(score).flatten()\n",
    "\n",
    "            sampled = np.random.choice(len(p), size=1, p=p)\n",
    "            if (skip_ids is None) or (sampled not in skip_ids):\n",
    "                x = sampled\n",
    "                word_ids.append(int(x))\n",
    "\n",
    "        return word_ids\n",
    "\n",
    "    def get_state(self):\n",
    "        states = []\n",
    "        for layer in self.lstm_layers:\n",
    "            states.append((layer.h, layer.c))\n",
    "        return states\n",
    "\n",
    "    def set_state(self, states):\n",
    "        for layer, state in zip(self.lstm_layers, states):\n",
    "            layer.set_state(*state)"
   ]
  },
  {
   "cell_type": "markdown",
   "metadata": {},
   "source": [
    "### 문장생성을 위한 코드"
   ]
  },
  {
   "cell_type": "code",
   "execution_count": 22,
   "metadata": {},
   "outputs": [
    {
     "name": "stdout",
     "output_type": "stream",
     "text": [
      "316\n",
      "[27, 26, 416]\n",
      "sampled= [9241]\n",
      "<\n",
      "you\n"
     ]
    }
   ],
   "source": [
    "# coding: utf-8\n",
    "import sys\n",
    "sys.path.append('..')\n",
    "from rnnlm_gen import RnnlmGen\n",
    "from dataset import ptb\n",
    "\n",
    "corpus, word_to_id, id_to_word = ptb.load_data('train')\n",
    "vocab_size = len(word_to_id)\n",
    "corpus_size = len(corpus)\n",
    "\n",
    "model = MyRnnlmGen()\n",
    "model.load_params('../ch06/Rnnlm.pkl')\n",
    "\n",
    "# start 문자와 skip 문자 설정\n",
    "start_word = 'you'\n",
    "start_id = word_to_id[start_word]\n",
    "print(start_id) # PTB에서 'you'd의 id 316\n",
    "skip_words = ['N', '<unk>', '$']\n",
    "skip_ids = [word_to_id[w] for w in skip_words]\n",
    "print(skip_ids)\n",
    "\n",
    "# 문장 생성\n",
    "word_ids = model.generate(start_id, skip_ids, 100) # 문장\n",
    "txt = ' '.join([id_to_word[i] for i in word_ids])  # 단어 사이의 공백 추가\n",
    "txt = txt.replace(' <eos>', '.\\n')\n",
    "print(txt) # 확률분포 기반으로 매번 다르게 출력, 의미는 어색함"
   ]
  },
  {
   "cell_type": "markdown",
   "metadata": {},
   "source": [
    "### 더 좋은 문장으로"
   ]
  },
  {
   "cell_type": "code",
   "execution_count": 24,
   "metadata": {},
   "outputs": [
    {
     "name": "stdout",
     "output_type": "stream",
     "text": [
      "316\n",
      "[27, 26, 416]\n",
      "you see the rule and lawyers from this disaster or general merchandise administration sources said.\n",
      " the fact about one of several buyers 's ones growth says ronald of the federal reserve board 's integrity although that 's a base listing indicates that he feels a significant setback.\n",
      " he increase the chamber 's seventh improved stock upward than the previous year while mr. phelan 's resignation has been trading.\n",
      " the exchange under current will find rules not a attached to uncertainty with the real estate investment group the treasury considered sold at a discount to announce the sec\n"
     ]
    }
   ],
   "source": [
    "# coding: utf-8\n",
    "import sys\n",
    "sys.path.append('..')\n",
    "from common.np import *\n",
    "from rnnlm_gen import BetterRnnlmGen\n",
    "from dataset import ptb\n",
    "\n",
    "\n",
    "corpus, word_to_id, id_to_word = ptb.load_data('train')\n",
    "vocab_size = len(word_to_id)\n",
    "corpus_size = len(corpus)\n",
    "\n",
    "\n",
    "model = BetterRnnlmGen()\n",
    "model.load_params('../ch06/BetterRnnlm.pkl')\n",
    "\n",
    "# start 문자와 skip 문자 설정\n",
    "# start_word = 'you'\n",
    "# start_id = word_to_id[start_word]\n",
    "# skip_words = ['N', '<unk>', '$']\n",
    "# skip_ids = [word_to_id[w] for w in skip_words]\n",
    "# # 문장 생성\n",
    "# word_ids = model.generate(start_id, skip_ids)\n",
    "# txt = ' '.join([id_to_word[i] for i in word_ids])\n",
    "# txt = txt.replace(' <eos>', '.\\n')\n",
    "\n",
    "# print(txt)\n",
    "\n",
    "\n",
    "model.reset_state()\n",
    "\n",
    "\n",
    "# 'you' 일때\n",
    "# start 문자와 skip 문자 설정\n",
    "start_word = 'you'\n",
    "start_id = word_to_id[start_word]\n",
    "print(start_id) # PTB에서 'you'd의 id 316\n",
    "skip_words = ['N', '<unk>', '$']\n",
    "skip_ids = [word_to_id[w] for w in skip_words]\n",
    "print(skip_ids)\n",
    "\n",
    "# 문장 생성\n",
    "word_ids = model.generate(start_id, skip_ids, 100) # 문장\n",
    "txt = ' '.join([id_to_word[i] for i in word_ids])  # 단어 사이의 공백 추가\n",
    "txt = txt.replace(' <eos>', '.\\n')\n",
    "print(txt) # 위에 RNNlm보다는 말이 된다..\n",
    "\n",
    "\n",
    "# 문장 일때\n",
    "# start_words = 'the meaning of life is'\n",
    "# start_ids = [word_to_id[w] for w in start_words.split(' ')]\n",
    "# print(start_ids)\n",
    "# print(start_ids[:-1])\n",
    "\n",
    "# for x in start_ids[:-1]:\n",
    "#     x = np.array(x).reshape(1, 1)\n",
    "#     model.predict(x)\n",
    "\n",
    "# word_ids = model.generate(start_ids[-1], skip_ids)\n",
    "# word_ids = start_ids[:-1] + word_ids\n",
    "# txt = ' '.join([id_to_word[i] for i in word_ids])\n",
    "# txt = txt.replace(' <eos>', '.\\n')\n",
    "# print('-' * 50)\n",
    "# print(txt)\n"
   ]
  },
  {
   "cell_type": "code",
   "execution_count": null,
   "metadata": {},
   "outputs": [],
   "source": []
  }
 ],
 "metadata": {
  "kernelspec": {
   "display_name": "Python 3 (ipykernel)",
   "language": "python",
   "name": "python3"
  },
  "language_info": {
   "codemirror_mode": {
    "name": "ipython",
    "version": 3
   },
   "file_extension": ".py",
   "mimetype": "text/x-python",
   "name": "python",
   "nbconvert_exporter": "python",
   "pygments_lexer": "ipython3",
   "version": "3.9.12"
  }
 },
 "nbformat": 4,
 "nbformat_minor": 4
}
